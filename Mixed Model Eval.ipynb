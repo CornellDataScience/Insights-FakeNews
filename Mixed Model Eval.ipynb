{
 "cells": [
  {
   "cell_type": "markdown",
   "metadata": {},
   "source": [
    "# mixed model"
   ]
  },
  {
   "cell_type": "markdown",
   "metadata": {},
   "source": [
    "pickle the model files and load here to test"
   ]
  },
  {
   "cell_type": "code",
   "execution_count": 135,
   "metadata": {
    "collapsed": true
   },
   "outputs": [],
   "source": [
    "import torch\n",
    "import importlib\n",
    "from collections import Counter\n",
    "from sklearn.metrics import confusion_matrix\n",
    "import score\n",
    "from sklearn.preprocessing import StandardScaler, LabelEncoder\n",
    "import scipy\n",
    "import matplotlib.pyplot as plt\n",
    "from torch.autograd import Variable\n",
    "import torch.nn as nn\n",
    "import torch.nn.functional as F\n",
    "import pandas as pd\n",
    "import nltk\n",
    "import numpy as np\n",
    "import preprocessing\n",
    "from collections import Counter\n",
    "from sklearn.preprocessing import StandardScaler\n",
    "import json\n",
    "import itertools"
   ]
  },
  {
   "cell_type": "code",
   "execution_count": 20,
   "metadata": {
    "collapsed": true
   },
   "outputs": [],
   "source": [
    "preprocess = preprocessing.Preprocessing()"
   ]
  },
  {
   "cell_type": "code",
   "execution_count": 14,
   "metadata": {},
   "outputs": [],
   "source": [
    "#load training idf json\n",
    "idf = {}\n",
    "with open('idf_training.json',\"r\") as idf_file:\n",
    "    idf = json.load(idf_file)"
   ]
  },
  {
   "cell_type": "code",
   "execution_count": 17,
   "metadata": {},
   "outputs": [
    {
     "name": "stdout",
     "output_type": "stream",
     "text": [
      "(25413, 2)\n"
     ]
    },
    {
     "data": {
      "text/html": [
       "<div>\n",
       "<style>\n",
       "    .dataframe thead tr:only-child th {\n",
       "        text-align: right;\n",
       "    }\n",
       "\n",
       "    .dataframe thead th {\n",
       "        text-align: left;\n",
       "    }\n",
       "\n",
       "    .dataframe tbody tr th {\n",
       "        vertical-align: top;\n",
       "    }\n",
       "</style>\n",
       "<table border=\"1\" class=\"dataframe\">\n",
       "  <thead>\n",
       "    <tr style=\"text-align: right;\">\n",
       "      <th></th>\n",
       "      <th>Headline</th>\n",
       "      <th>Body ID</th>\n",
       "    </tr>\n",
       "  </thead>\n",
       "  <tbody>\n",
       "    <tr>\n",
       "      <th>0</th>\n",
       "      <td>Ferguson riots: Pregnant woman loses eye after...</td>\n",
       "      <td>2008</td>\n",
       "    </tr>\n",
       "    <tr>\n",
       "      <th>1</th>\n",
       "      <td>Crazy Conservatives Are Sure a Gitmo Detainee ...</td>\n",
       "      <td>1550</td>\n",
       "    </tr>\n",
       "    <tr>\n",
       "      <th>2</th>\n",
       "      <td>A Russian Guy Says His Justin Bieber Ringtone ...</td>\n",
       "      <td>2</td>\n",
       "    </tr>\n",
       "    <tr>\n",
       "      <th>3</th>\n",
       "      <td>Zombie Cat: Buried Kitty Believed Dead, Meows ...</td>\n",
       "      <td>1793</td>\n",
       "    </tr>\n",
       "    <tr>\n",
       "      <th>4</th>\n",
       "      <td>Argentina's President Adopts Boy to End Werewo...</td>\n",
       "      <td>37</td>\n",
       "    </tr>\n",
       "  </tbody>\n",
       "</table>\n",
       "</div>"
      ],
      "text/plain": [
       "                                            Headline  Body ID\n",
       "0  Ferguson riots: Pregnant woman loses eye after...     2008\n",
       "1  Crazy Conservatives Are Sure a Gitmo Detainee ...     1550\n",
       "2  A Russian Guy Says His Justin Bieber Ringtone ...        2\n",
       "3  Zombie Cat: Buried Kitty Believed Dead, Meows ...     1793\n",
       "4  Argentina's President Adopts Boy to End Werewo...       37"
      ]
     },
     "execution_count": 17,
     "metadata": {},
     "output_type": "execute_result"
    }
   ],
   "source": [
    "#load test data\n",
    "test_labels = pd.read_csv(\"fn_data/competition_test_stances.csv\")\n",
    "test_labels = list(test_labels['Stance'])\n",
    "test_stances = pd.read_csv(\"fn_data/competition_test_stances_unlabeled.csv\")\n",
    "print(test_stances.shape)\n",
    "test_stances.head()"
   ]
  },
  {
   "cell_type": "code",
   "execution_count": 10,
   "metadata": {},
   "outputs": [
    {
     "name": "stdout",
     "output_type": "stream",
     "text": [
      "(904, 2)\n"
     ]
    },
    {
     "data": {
      "text/html": [
       "<div>\n",
       "<style>\n",
       "    .dataframe thead tr:only-child th {\n",
       "        text-align: right;\n",
       "    }\n",
       "\n",
       "    .dataframe thead th {\n",
       "        text-align: left;\n",
       "    }\n",
       "\n",
       "    .dataframe tbody tr th {\n",
       "        vertical-align: top;\n",
       "    }\n",
       "</style>\n",
       "<table border=\"1\" class=\"dataframe\">\n",
       "  <thead>\n",
       "    <tr style=\"text-align: right;\">\n",
       "      <th></th>\n",
       "      <th>Body ID</th>\n",
       "      <th>articleBody</th>\n",
       "    </tr>\n",
       "  </thead>\n",
       "  <tbody>\n",
       "    <tr>\n",
       "      <th>0</th>\n",
       "      <td>1</td>\n",
       "      <td>Al-Sisi has denied Israeli reports stating tha...</td>\n",
       "    </tr>\n",
       "    <tr>\n",
       "      <th>1</th>\n",
       "      <td>2</td>\n",
       "      <td>A bereaved Afghan mother took revenge on the T...</td>\n",
       "    </tr>\n",
       "    <tr>\n",
       "      <th>2</th>\n",
       "      <td>3</td>\n",
       "      <td>CNBC is reporting Tesla has chosen Nevada as t...</td>\n",
       "    </tr>\n",
       "    <tr>\n",
       "      <th>3</th>\n",
       "      <td>12</td>\n",
       "      <td>A 4-inch version of the iPhone 6 is said to be...</td>\n",
       "    </tr>\n",
       "    <tr>\n",
       "      <th>4</th>\n",
       "      <td>19</td>\n",
       "      <td>GR editor’s Note\\n\\nThere are no reports in th...</td>\n",
       "    </tr>\n",
       "  </tbody>\n",
       "</table>\n",
       "</div>"
      ],
      "text/plain": [
       "   Body ID                                        articleBody\n",
       "0        1  Al-Sisi has denied Israeli reports stating tha...\n",
       "1        2  A bereaved Afghan mother took revenge on the T...\n",
       "2        3  CNBC is reporting Tesla has chosen Nevada as t...\n",
       "3       12  A 4-inch version of the iPhone 6 is said to be...\n",
       "4       19  GR editor’s Note\\n\\nThere are no reports in th..."
      ]
     },
     "execution_count": 10,
     "metadata": {},
     "output_type": "execute_result"
    }
   ],
   "source": [
    "test_bodies = pd.read_csv(\"fn_data/competition_test_bodies.csv\")\n",
    "print(test_bodies.shape)\n",
    "test_bodies.head()"
   ]
  },
  {
   "cell_type": "code",
   "execution_count": 21,
   "metadata": {},
   "outputs": [
    {
     "name": "stdout",
     "output_type": "stream",
     "text": [
      "processed 100\n",
      "processed 200\n",
      "processed 300\n",
      "processed 400\n",
      "processed 500\n",
      "processed 600\n",
      "processed 700\n",
      "processed 800\n",
      "processed 900\n",
      "done! processed 904\n"
     ]
    }
   ],
   "source": [
    "#preprocess test data\n",
    "body_info = preprocess.process_bodies(test_bodies, idf)"
   ]
  },
  {
   "cell_type": "code",
   "execution_count": 22,
   "metadata": {
    "collapsed": true
   },
   "outputs": [],
   "source": [
    "feats_list = [\n",
    "    'shared_nouns',\n",
    "    'shared_verbs',\n",
    "    'shared_bigrams',\n",
    "    'shared_tokens',\n",
    "\n",
    "    'shared_nouns_fst',\n",
    "    'shared_verbs_fst',\n",
    "    'shared_bigrams_fst',\n",
    "    'shared_tokens_fst',\n",
    "\n",
    "    'shared_nouns_sig',\n",
    "    'shared_verbs_sig',\n",
    "    'shared_bigrams_sig',\n",
    "    'shared_tokens_sig',\n",
    "\n",
    "    'svo_s_fst',\n",
    "    'svo_v_fst',\n",
    "    'svo_o_fst',\n",
    "    \n",
    "    'svo_s_sig',\n",
    "    'svo_v_sig',\n",
    "    'svo_o_sig',\n",
    "    \n",
    "    'cos_nouns_sig',\n",
    "    'cos_bigrams_sig',\n",
    "    'cos_tokens_sig',\n",
    "\n",
    "    'cos_nouns_fst',\n",
    "    'cos_bigrams_fst',\n",
    "    'cos_tokens_fst']"
   ]
  },
  {
   "cell_type": "code",
   "execution_count": 23,
   "metadata": {},
   "outputs": [
    {
     "name": "stdout",
     "output_type": "stream",
     "text": [
      "315\n"
     ]
    }
   ],
   "source": [
    "#extract features test data\n",
    "import time\n",
    "start = time.time()\n",
    "data_feats = [preprocess.get_feats(i, body_info) for i in test_stances.values]\n",
    "end = time.time()\n",
    "print(int(end-start))"
   ]
  },
  {
   "cell_type": "code",
   "execution_count": 24,
   "metadata": {
    "collapsed": true
   },
   "outputs": [],
   "source": [
    "test_df = pd.DataFrame()\n",
    "for i in feats_list:\n",
    "    test_df[i] = [x[i] for x in data_feats]"
   ]
  },
  {
   "cell_type": "code",
   "execution_count": 28,
   "metadata": {},
   "outputs": [
    {
     "data": {
      "text/html": [
       "<div>\n",
       "<style>\n",
       "    .dataframe thead tr:only-child th {\n",
       "        text-align: right;\n",
       "    }\n",
       "\n",
       "    .dataframe thead th {\n",
       "        text-align: left;\n",
       "    }\n",
       "\n",
       "    .dataframe tbody tr th {\n",
       "        vertical-align: top;\n",
       "    }\n",
       "</style>\n",
       "<table border=\"1\" class=\"dataframe\">\n",
       "  <thead>\n",
       "    <tr style=\"text-align: right;\">\n",
       "      <th></th>\n",
       "      <th>shared_nouns</th>\n",
       "      <th>shared_verbs</th>\n",
       "      <th>shared_bigrams</th>\n",
       "      <th>shared_tokens</th>\n",
       "      <th>shared_nouns_fst</th>\n",
       "      <th>shared_verbs_fst</th>\n",
       "      <th>shared_bigrams_fst</th>\n",
       "      <th>shared_tokens_fst</th>\n",
       "      <th>shared_nouns_sig</th>\n",
       "      <th>shared_verbs_sig</th>\n",
       "      <th>...</th>\n",
       "      <th>svo_o_fst</th>\n",
       "      <th>svo_s_sig</th>\n",
       "      <th>svo_v_sig</th>\n",
       "      <th>svo_o_sig</th>\n",
       "      <th>cos_nouns_sig</th>\n",
       "      <th>cos_bigrams_sig</th>\n",
       "      <th>cos_tokens_sig</th>\n",
       "      <th>cos_nouns_fst</th>\n",
       "      <th>cos_bigrams_fst</th>\n",
       "      <th>cos_tokens_fst</th>\n",
       "    </tr>\n",
       "  </thead>\n",
       "  <tbody>\n",
       "    <tr>\n",
       "      <th>0</th>\n",
       "      <td>-0.482403</td>\n",
       "      <td>-0.244399</td>\n",
       "      <td>0.0</td>\n",
       "      <td>-0.503674</td>\n",
       "      <td>-0.497574</td>\n",
       "      <td>-0.262627</td>\n",
       "      <td>-0.343451</td>\n",
       "      <td>-0.541887</td>\n",
       "      <td>-0.421358</td>\n",
       "      <td>-0.172937</td>\n",
       "      <td>...</td>\n",
       "      <td>-0.182139</td>\n",
       "      <td>-0.262908</td>\n",
       "      <td>-0.113817</td>\n",
       "      <td>-0.15656</td>\n",
       "      <td>-0.415593</td>\n",
       "      <td>-0.16204</td>\n",
       "      <td>-0.479903</td>\n",
       "      <td>-0.361586</td>\n",
       "      <td>-0.168145</td>\n",
       "      <td>-0.559429</td>\n",
       "    </tr>\n",
       "    <tr>\n",
       "      <th>1</th>\n",
       "      <td>-0.482403</td>\n",
       "      <td>-0.244399</td>\n",
       "      <td>0.0</td>\n",
       "      <td>-0.503674</td>\n",
       "      <td>-0.497574</td>\n",
       "      <td>-0.262627</td>\n",
       "      <td>-0.343451</td>\n",
       "      <td>-0.541887</td>\n",
       "      <td>-0.421358</td>\n",
       "      <td>-0.172937</td>\n",
       "      <td>...</td>\n",
       "      <td>-0.182139</td>\n",
       "      <td>-0.262908</td>\n",
       "      <td>-0.113817</td>\n",
       "      <td>-0.15656</td>\n",
       "      <td>-0.415593</td>\n",
       "      <td>-0.16204</td>\n",
       "      <td>-0.479903</td>\n",
       "      <td>-0.361586</td>\n",
       "      <td>-0.168145</td>\n",
       "      <td>-0.559429</td>\n",
       "    </tr>\n",
       "    <tr>\n",
       "      <th>2</th>\n",
       "      <td>-0.482403</td>\n",
       "      <td>-0.244399</td>\n",
       "      <td>0.0</td>\n",
       "      <td>-0.503674</td>\n",
       "      <td>-0.497574</td>\n",
       "      <td>-0.262627</td>\n",
       "      <td>-0.343451</td>\n",
       "      <td>-0.541887</td>\n",
       "      <td>-0.421358</td>\n",
       "      <td>-0.172937</td>\n",
       "      <td>...</td>\n",
       "      <td>-0.182139</td>\n",
       "      <td>-0.262908</td>\n",
       "      <td>-0.113817</td>\n",
       "      <td>-0.15656</td>\n",
       "      <td>-0.415593</td>\n",
       "      <td>-0.16204</td>\n",
       "      <td>-0.479903</td>\n",
       "      <td>-0.361586</td>\n",
       "      <td>-0.168145</td>\n",
       "      <td>-0.559429</td>\n",
       "    </tr>\n",
       "    <tr>\n",
       "      <th>3</th>\n",
       "      <td>-0.482403</td>\n",
       "      <td>-0.244399</td>\n",
       "      <td>0.0</td>\n",
       "      <td>-0.503674</td>\n",
       "      <td>-0.497574</td>\n",
       "      <td>-0.262627</td>\n",
       "      <td>-0.343451</td>\n",
       "      <td>-0.541887</td>\n",
       "      <td>-0.421358</td>\n",
       "      <td>-0.172937</td>\n",
       "      <td>...</td>\n",
       "      <td>-0.182139</td>\n",
       "      <td>-0.262908</td>\n",
       "      <td>-0.113817</td>\n",
       "      <td>-0.15656</td>\n",
       "      <td>-0.415593</td>\n",
       "      <td>-0.16204</td>\n",
       "      <td>-0.479903</td>\n",
       "      <td>-5.308922</td>\n",
       "      <td>-0.168145</td>\n",
       "      <td>-0.559429</td>\n",
       "    </tr>\n",
       "    <tr>\n",
       "      <th>4</th>\n",
       "      <td>-0.482403</td>\n",
       "      <td>-0.244399</td>\n",
       "      <td>0.0</td>\n",
       "      <td>-0.503674</td>\n",
       "      <td>-0.497574</td>\n",
       "      <td>-0.262627</td>\n",
       "      <td>-0.343451</td>\n",
       "      <td>-0.541887</td>\n",
       "      <td>-0.421358</td>\n",
       "      <td>-0.172937</td>\n",
       "      <td>...</td>\n",
       "      <td>-0.182139</td>\n",
       "      <td>-0.262908</td>\n",
       "      <td>-0.113817</td>\n",
       "      <td>-0.15656</td>\n",
       "      <td>-0.415593</td>\n",
       "      <td>-0.16204</td>\n",
       "      <td>-0.479903</td>\n",
       "      <td>-0.361586</td>\n",
       "      <td>-0.168145</td>\n",
       "      <td>-0.559429</td>\n",
       "    </tr>\n",
       "  </tbody>\n",
       "</table>\n",
       "<p>5 rows × 24 columns</p>\n",
       "</div>"
      ],
      "text/plain": [
       "   shared_nouns  shared_verbs  shared_bigrams  shared_tokens  \\\n",
       "0     -0.482403     -0.244399             0.0      -0.503674   \n",
       "1     -0.482403     -0.244399             0.0      -0.503674   \n",
       "2     -0.482403     -0.244399             0.0      -0.503674   \n",
       "3     -0.482403     -0.244399             0.0      -0.503674   \n",
       "4     -0.482403     -0.244399             0.0      -0.503674   \n",
       "\n",
       "   shared_nouns_fst  shared_verbs_fst  shared_bigrams_fst  shared_tokens_fst  \\\n",
       "0         -0.497574         -0.262627           -0.343451          -0.541887   \n",
       "1         -0.497574         -0.262627           -0.343451          -0.541887   \n",
       "2         -0.497574         -0.262627           -0.343451          -0.541887   \n",
       "3         -0.497574         -0.262627           -0.343451          -0.541887   \n",
       "4         -0.497574         -0.262627           -0.343451          -0.541887   \n",
       "\n",
       "   shared_nouns_sig  shared_verbs_sig       ...        svo_o_fst  svo_s_sig  \\\n",
       "0         -0.421358         -0.172937       ...        -0.182139  -0.262908   \n",
       "1         -0.421358         -0.172937       ...        -0.182139  -0.262908   \n",
       "2         -0.421358         -0.172937       ...        -0.182139  -0.262908   \n",
       "3         -0.421358         -0.172937       ...        -0.182139  -0.262908   \n",
       "4         -0.421358         -0.172937       ...        -0.182139  -0.262908   \n",
       "\n",
       "   svo_v_sig  svo_o_sig  cos_nouns_sig  cos_bigrams_sig  cos_tokens_sig  \\\n",
       "0  -0.113817   -0.15656      -0.415593         -0.16204       -0.479903   \n",
       "1  -0.113817   -0.15656      -0.415593         -0.16204       -0.479903   \n",
       "2  -0.113817   -0.15656      -0.415593         -0.16204       -0.479903   \n",
       "3  -0.113817   -0.15656      -0.415593         -0.16204       -0.479903   \n",
       "4  -0.113817   -0.15656      -0.415593         -0.16204       -0.479903   \n",
       "\n",
       "   cos_nouns_fst  cos_bigrams_fst  cos_tokens_fst  \n",
       "0      -0.361586        -0.168145       -0.559429  \n",
       "1      -0.361586        -0.168145       -0.559429  \n",
       "2      -0.361586        -0.168145       -0.559429  \n",
       "3      -5.308922        -0.168145       -0.559429  \n",
       "4      -0.361586        -0.168145       -0.559429  \n",
       "\n",
       "[5 rows x 24 columns]"
      ]
     },
     "execution_count": 28,
     "metadata": {},
     "output_type": "execute_result"
    }
   ],
   "source": [
    "scaler = StandardScaler()\n",
    "for i in feats_list:\n",
    "    test_df[i] = scaler.fit_transform(test_df[i].values.reshape(-1,1))\n",
    "test_df.head()"
   ]
  },
  {
   "cell_type": "code",
   "execution_count": 40,
   "metadata": {},
   "outputs": [],
   "source": [
    "from joblib import dump, load\n",
    "rf_model = load('rf_trained.joblib')"
   ]
  },
  {
   "cell_type": "code",
   "execution_count": 29,
   "metadata": {
    "collapsed": true
   },
   "outputs": [],
   "source": [
    "glove_dict = preprocess.get_glove_dict(\"glove.6B.50d\")"
   ]
  },
  {
   "cell_type": "code",
   "execution_count": 115,
   "metadata": {
    "collapsed": true
   },
   "outputs": [],
   "source": [
    "class CNN(nn.Module):\n",
    "    def __init__(self, embedding_dim, n_filters, filter_sizes, output_dim, dropout):\n",
    "        super().__init__()\n",
    "        \n",
    "        self.convs = nn.ModuleList([nn.Conv2d(in_channels=1, out_channels=n_filters, kernel_size=(fs,embedding_dim)) for fs in filter_sizes])\n",
    "        self.fc = nn.Linear(len(filter_sizes)*n_filters, output_dim)\n",
    "        self.dropout = nn.Dropout(dropout)\n",
    "        \n",
    "    def forward(self, x): \n",
    "        #x (batch size, 60, 91)\n",
    "        embedded = x.unsqueeze(1) \n",
    "        #embedded (batch size, 1, 60, 91)\n",
    "        conved = [F.relu(conv(embedded)).squeeze(3) for conv in self.convs] \n",
    "        #conv_n = [batch size, n_filters, 60 - filter_sizes[n]]\n",
    "        pooled = [F.max_pool1d(conv, conv.shape[2]).squeeze(2) for conv in conved] \n",
    "        #pooled_n = [batch size, n_filters]\n",
    "        cat = self.dropout(torch.cat(pooled, dim=1)) \n",
    "        #cat = [batch size, n_filters * len(filter_sizes)]\n",
    "        return self.fc(cat), F.log_softmax(self.fc(cat), dim=1)"
   ]
  },
  {
   "cell_type": "code",
   "execution_count": 31,
   "metadata": {
    "collapsed": true
   },
   "outputs": [],
   "source": [
    "def process_text_stance(text, glove_dict, n_words = 20):\n",
    "    def process_word_stance(word):\n",
    "        #50d word vector\n",
    "        if word in glove_dict:\n",
    "            wv = glove_dict[word]\n",
    "        else:\n",
    "            wv = np.random.normal(scale=0.6, size=(50, ))\n",
    "        #4d sentiment\n",
    "        sent = preprocess.get_sentiment(word)\n",
    "        #36d one-hot encoding of part of speech\n",
    "        pos = nltk.pos_tag(word)[1]\n",
    "        pos_encoding = [(1 if tag == pos else 0) for tag in preprocess.pos_tags]\n",
    "        #boolean flag for negating word\n",
    "        is_neg = (1 if word in preprocess.negating_words_lemmatized else 0)\n",
    "        wv = np.concatenate([wv, [sent[\"pos\"], sent[\"neg\"], sent[\"neu\"], sent[\"compound\"], is_neg], pos_encoding])\n",
    "        return wv\n",
    "    tokens = preprocess.get_clean_tokens(text, False)\n",
    "    if len(tokens)>=n_words:\n",
    "        tokens = tokens[:n_words]\n",
    "        text_encoding = np.array([process_word_stance(token) for token in tokens])\n",
    "    elif len(tokens)<n_words:\n",
    "        padding = [np.zeros((91,))]*(n_words-len(tokens))\n",
    "        text_encoding = [process_word_stance(token) for token in tokens]+padding\n",
    "        text_encoding = np.array(text_encoding)\n",
    "    return text_encoding\n",
    "\n",
    "def process_bodies_stance(df, glove_dict):\n",
    "    body_inf = {}\n",
    "    ids = list(df[\"Body ID\"])\n",
    "    for i in range(len(ids)):\n",
    "        if i % 100 == 0 and i != 0:\n",
    "            print(\"processed \"+str(i))\n",
    "        body_inf[ids[i]] = process_text_stance(preprocess.get_body(ids[i],df), glove_dict, 40)\n",
    "    print(\"done! processed \" + str(len(ids)))\n",
    "    return body_inf\n",
    "\n",
    "def process_feats_stance(data, body_dict, glove_dict):\n",
    "    headline, body_id = data[0], int(data[1])\n",
    "    return np.concatenate([process_text_stance(headline, glove_dict), body_dict[body_id]])"
   ]
  },
  {
   "cell_type": "code",
   "execution_count": 32,
   "metadata": {},
   "outputs": [
    {
     "name": "stdout",
     "output_type": "stream",
     "text": [
      "processed 100\n",
      "processed 200\n",
      "processed 300\n",
      "processed 400\n",
      "processed 500\n",
      "processed 600\n",
      "processed 700\n",
      "processed 800\n",
      "processed 900\n",
      "done! processed 904\n"
     ]
    }
   ],
   "source": [
    "body_dict = process_bodies_stance(test_bodies, glove_dict)"
   ]
  },
  {
   "cell_type": "code",
   "execution_count": 33,
   "metadata": {},
   "outputs": [
    {
     "name": "stdout",
     "output_type": "stream",
     "text": [
      "145\n"
     ]
    }
   ],
   "source": [
    "start = time.time()\n",
    "cnn_feats = [process_feats_stance(i, body_dict, glove_dict) for i in test_stances.values]\n",
    "end = time.time()\n",
    "print(int(end-start))"
   ]
  },
  {
   "cell_type": "code",
   "execution_count": 141,
   "metadata": {
    "collapsed": true
   },
   "outputs": [],
   "source": [
    "EMBEDDING_DIM = 91\n",
    "N_FILTERS = 100\n",
    "FILTER_SIZES = [3,4,5,6,7]\n",
    "OUTPUT_DIM = 3\n",
    "DROPOUT = 0.5\n",
    "\n",
    "model = CNN(EMBEDDING_DIM, N_FILTERS, FILTER_SIZES, OUTPUT_DIM, DROPOUT)\n",
    "model.load_state_dict(torch.load(\"./CNN_model_softmax_final.pth\"))"
   ]
  },
  {
   "cell_type": "code",
   "execution_count": 142,
   "metadata": {},
   "outputs": [],
   "source": [
    "stance_predicted = None\n",
    "model.eval()\n",
    "with torch.no_grad():\n",
    "    batch_x_test = np.array(cnn_feats)\n",
    "    inputs = Variable(torch.FloatTensor(batch_x_test))\n",
    "    outputs, probs = model(inputs)\n",
    "    _, stance_predicted = torch.max(probs.data, 1)"
   ]
  },
  {
   "cell_type": "code",
   "execution_count": 143,
   "metadata": {},
   "outputs": [],
   "source": [
    "relevance_predicted = rf_model.predict(test_df)"
   ]
  },
  {
   "cell_type": "code",
   "execution_count": 144,
   "metadata": {},
   "outputs": [],
   "source": [
    "stance_predicted = stance_predicted.tolist()"
   ]
  },
  {
   "cell_type": "code",
   "execution_count": 152,
   "metadata": {},
   "outputs": [],
   "source": [
    "rel_pred_labels = [(\"???\" if x == 1 else \"unrelated\") for x in relevance_predicted]\n",
    "rel_pred_labels_2 = [(\"discuss\" if x == 1 else \"unrelated\") for x in relevance_predicted]\n",
    "stance_pred_labels = [(\"agree\" if result == 2 else (\"discuss\" if result == 1 else \"disagree\")) for result in stance_predicted]\n",
    "final_preds = []\n",
    "for i in range(len(rel_pred_labels)):\n",
    "    if rel_pred_labels[i] != \"???\":\n",
    "        final_preds.append(rel_pred_labels[i])\n",
    "    else:\n",
    "        final_preds.append(stance_pred_labels[i])"
   ]
  },
  {
   "cell_type": "code",
   "execution_count": 153,
   "metadata": {},
   "outputs": [
    {
     "name": "stdout",
     "output_type": "stream",
     "text": [
      "confusion matrix: \n",
      "[[  662     0  1056   185]\n",
      " [  162     0   405   130]\n",
      " [  743     0  3340   381]\n",
      " [   55     0   272 18022]]\n",
      "\n",
      "-------------------------------------------------------------\n",
      "|           |   agree   | disagree  |  discuss  | unrelated |\n",
      "-------------------------------------------------------------\n",
      "|   agree   |    662    |     0     |   1056    |    185    |\n",
      "-------------------------------------------------------------\n",
      "| disagree  |    162    |     0     |    405    |    130    |\n",
      "-------------------------------------------------------------\n",
      "|  discuss  |    743    |     0     |   3340    |    381    |\n",
      "-------------------------------------------------------------\n",
      "| unrelated |    55     |     0     |    272    |   18022   |\n",
      "-------------------------------------------------------------\n",
      "Score: 9099.0 out of 11651.25\t(78.09462504023173%)\n"
     ]
    },
    {
     "data": {
      "text/plain": [
       "78.09462504023173"
      ]
     },
     "execution_count": 153,
     "metadata": {},
     "output_type": "execute_result"
    }
   ],
   "source": [
    "matrix = confusion_matrix(test_labels, final_preds)\n",
    "print('confusion matrix: \\n{}\\n'.format(matrix))\n",
    "#use FNC scorer to generate score report\n",
    "score.report_score(test_labels, final_preds)"
   ]
  },
  {
   "cell_type": "code",
   "execution_count": null,
   "metadata": {},
   "outputs": [],
   "source": []
  },
  {
   "cell_type": "code",
   "execution_count": 148,
   "metadata": {},
   "outputs": [
    {
     "data": {
      "text/html": [
       "<div>\n",
       "<style>\n",
       "    .dataframe thead tr:only-child th {\n",
       "        text-align: right;\n",
       "    }\n",
       "\n",
       "    .dataframe thead th {\n",
       "        text-align: left;\n",
       "    }\n",
       "\n",
       "    .dataframe tbody tr th {\n",
       "        vertical-align: top;\n",
       "    }\n",
       "</style>\n",
       "<table border=\"1\" class=\"dataframe\">\n",
       "  <thead>\n",
       "    <tr style=\"text-align: right;\">\n",
       "      <th></th>\n",
       "      <th>0</th>\n",
       "      <th>1</th>\n",
       "      <th>2</th>\n",
       "      <th>3</th>\n",
       "    </tr>\n",
       "  </thead>\n",
       "  <tbody>\n",
       "    <tr>\n",
       "      <th>0</th>\n",
       "      <td>0.0</td>\n",
       "      <td>0.0</td>\n",
       "      <td>0.067</td>\n",
       "      <td>0.007</td>\n",
       "    </tr>\n",
       "    <tr>\n",
       "      <th>1</th>\n",
       "      <td>0.0</td>\n",
       "      <td>0.0</td>\n",
       "      <td>0.022</td>\n",
       "      <td>0.005</td>\n",
       "    </tr>\n",
       "    <tr>\n",
       "      <th>2</th>\n",
       "      <td>0.0</td>\n",
       "      <td>0.0</td>\n",
       "      <td>0.160</td>\n",
       "      <td>0.014</td>\n",
       "    </tr>\n",
       "    <tr>\n",
       "      <th>3</th>\n",
       "      <td>0.0</td>\n",
       "      <td>0.0</td>\n",
       "      <td>0.012</td>\n",
       "      <td>0.709</td>\n",
       "    </tr>\n",
       "  </tbody>\n",
       "</table>\n",
       "</div>"
      ],
      "text/plain": [
       "     0    1      2      3\n",
       "0  0.0  0.0  0.067  0.007\n",
       "1  0.0  0.0  0.022  0.005\n",
       "2  0.0  0.0  0.160  0.014\n",
       "3  0.0  0.0  0.012  0.709"
      ]
     },
     "execution_count": 148,
     "metadata": {},
     "output_type": "execute_result"
    }
   ],
   "source": [
    "L_matrix = [list(x) for x in list(matrix)]\n",
    "s = sum([sum(x) for x in L_matrix])\n",
    "pd.DataFrame([[float(str(i/s)[:5]) for i in l] for l in L_matrix])"
   ]
  },
  {
   "cell_type": "code",
   "execution_count": 149,
   "metadata": {},
   "outputs": [
    {
     "data": {
      "text/plain": [
       "0.9597450123952308"
      ]
     },
     "execution_count": 149,
     "metadata": {},
     "output_type": "execute_result"
    }
   ],
   "source": [
    "test_rel_labels = [(i if i == \"unrelated\" else \"discuss\") for i in test_labels]\n",
    "sum([1 if test_rel_labels[i] == rel_pred_labels_2[i] else 0 for i in list(range(len(test_rel_labels)))])/len(test_rel_labels)"
   ]
  },
  {
   "cell_type": "code",
   "execution_count": 150,
   "metadata": {
    "collapsed": true
   },
   "outputs": [],
   "source": [
    "def plot_confusion_matrix(cm, classes,\n",
    "                          title='Confusion matrix',\n",
    "                          cmap=plt.cm.Blues):\n",
    "    \"\"\"\n",
    "    This function prints and plots the confusion matrix.\n",
    "    Normalization can be applied by setting `normalize=True`.\n",
    "    \"\"\"\n",
    "    cm = cm.astype('float') / cm.sum(axis=1)[:, np.newaxis]\n",
    "    print(\"Normalized confusion matrix\")\n",
    "\n",
    "    print(cm)\n",
    "\n",
    "    plt.imshow(cm, interpolation='nearest', cmap=cmap)\n",
    "    plt.title(title)\n",
    "    plt.colorbar()\n",
    "    tick_marks = np.arange(len(classes))\n",
    "    plt.xticks(tick_marks, classes, rotation=45)\n",
    "    plt.yticks(tick_marks, classes)\n",
    "\n",
    "    fmt = '.3f'\n",
    "    thresh = cm.max() / 2.\n",
    "    for i, j in itertools.product(range(cm.shape[0]), range(cm.shape[1])):\n",
    "        plt.text(j, i, format(cm[i, j], fmt),\n",
    "                 horizontalalignment=\"center\",\n",
    "                 color=\"white\" if cm[i, j] > thresh else \"black\")\n",
    "\n",
    "    plt.ylabel('True label')\n",
    "    plt.xlabel('Predicted label')\n",
    "    plt.tight_layout()"
   ]
  },
  {
   "cell_type": "code",
   "execution_count": 154,
   "metadata": {},
   "outputs": [
    {
     "name": "stdout",
     "output_type": "stream",
     "text": [
      "Normalized confusion matrix\n",
      "[[0.34787178 0.         0.55491329 0.09721492]\n",
      " [0.23242468 0.         0.58106169 0.18651363]\n",
      " [0.16644265 0.         0.74820789 0.08534946]\n",
      " [0.00299744 0.         0.0148237  0.98217887]]\n"
     ]
    },
    {
     "data": {
      "image/png": "[encoded data removed]",
      "text/plain": [
       "<matplotlib.figure.Figure at 0x1440c8c18>"
      ]
     },
     "metadata": {},
     "output_type": "display_data"
    }
   ],
   "source": [
    "plot_confusion_matrix(matrix, classes=[\"Agree\",\"Disagree\", \"Discuss\", \"Unrelated\"],\n",
    "                      title='Normalized confusion matrix')\n",
    "plt.show()"
   ]
  },
  {
   "cell_type": "code",
   "execution_count": null,
   "metadata": {
    "collapsed": true
   },
   "outputs": [],
   "source": []
  }
 ],
 "metadata": {
  "kernelspec": {
   "display_name": "Python 3",
   "language": "python",
   "name": "python3"
  },
  "language_info": {
   "codemirror_mode": {
    "name": "ipython",
    "version": 3
   },
   "file_extension": ".py",
   "mimetype": "text/x-python",
   "name": "python",
   "nbconvert_exporter": "python",
   "pygments_lexer": "ipython3",
   "version": "3.6.0"
  }
 },
 "nbformat": 4,
 "nbformat_minor": 2
}
