{
 "cells": [
  {
   "cell_type": "code",
   "execution_count": 1,
   "metadata": {
    "collapsed": true
   },
   "outputs": [],
   "source": [
    "import pandas\n",
    "import nltk"
   ]
  },
  {
   "cell_type": "code",
   "execution_count": 72,
   "metadata": {
    "collapsed": true
   },
   "outputs": [],
   "source": [
    "#nltk.download()\n",
    "#Run nltk.download() if you encounter nltk issues."
   ]
  },
  {
   "cell_type": "code",
   "execution_count": 58,
   "metadata": {
    "collapsed": true
   },
   "outputs": [],
   "source": [
    "bodies = pandas.read_csv('./fn_data/train_bodies.csv', index_col = False)"
   ]
  },
  {
   "cell_type": "code",
   "execution_count": 49,
   "metadata": {
    "collapsed": true
   },
   "outputs": [],
   "source": [
    "def map_bodies(data, body_col):\n",
    "    \"\"\"\n",
    "    data: DataFrame\n",
    "    body_col : string\n",
    "    \n",
    "    data represents a DataFrame containing Body IDs and actual text bodies.\n",
    "    \n",
    "    Ex:    Body ID                                        articleBody\n",
    "    0           0  A small meteorite crashed into a wooded area i...\n",
    "    1           4  Last week we hinted at what was to come as Ebo...\n",
    "    2           5  (NEWSER) – Wonder how long a Quarter Pounder w...\n",
    "    3           6  Posting photos of a gun-toting child online, I...\n",
    "    4           7  At least 25 suspected Boko Haram insurgents we...\n",
    "    5           8  There is so much fake stuff on the Internet in...\n",
    "    6           9  (CNN) -- A meteorite crashed down in Managua, ...\n",
    "\n",
    "\n",
    "\n",
    "    body_col is the name of the column containing article text bodies\n",
    "    \n",
    "    Returns: dictionary such that {Body ID : Body Text}\n",
    "    \"\"\"\n",
    "    dictionary = dict()\n",
    "    \n",
    "    for x in range(len(data[body_col])):\n",
    "        dictionary.update({data.iloc[x,0] : data.iloc[x,1]})\n",
    "    \n",
    "    return dictionary"
   ]
  },
  {
   "cell_type": "code",
   "execution_count": 63,
   "metadata": {
    "collapsed": true
   },
   "outputs": [],
   "source": [
    "bodydict = map_bodies(bodies, 'articleBody')"
   ]
  },
  {
   "cell_type": "code",
   "execution_count": 68,
   "metadata": {
    "collapsed": true
   },
   "outputs": [],
   "source": [
    "def tokenize_dict(dictionary):\n",
    "    \"\"\"\n",
    "    dictionary : dictionary\n",
    "    \n",
    "    Takes in a dictionary containing mappings from Body ID to Body.\n",
    "    Returns a dictionary containing mappings from Body ID to Tokenized Bodies.\n",
    "    \"\"\"\n",
    "    new_dict = dict()\n",
    "    for x in dictionary:\n",
    "        tokens = nltk.word_tokenize(dictionary.get(x))\n",
    "        new_dict.update({x:tokens})\n",
    "    return new_dict"
   ]
  },
  {
   "cell_type": "code",
   "execution_count": 73,
   "metadata": {},
   "outputs": [],
   "source": [
    "bodydict = tokenize_dict(bodydict)"
   ]
  },
  {
   "cell_type": "code",
   "execution_count": 75,
   "metadata": {},
   "outputs": [],
   "source": [
    "tagged = nltk.pos_tag(bodydict.get(0))"
   ]
  },
  {
   "cell_type": "code",
   "execution_count": 77,
   "metadata": {},
   "outputs": [],
   "source": [
    "def tag_tokens(dictionary):\n",
    "    \"\"\"\n",
    "    Takes in a dictionary containing mappings from Body ID to tokenized bodies.\n",
    "    Returns a dictionary containing mappings from Body ID to tagged tokenized bodies.\n",
    "    \"\"\"\n",
    "    new_dict = dict()\n",
    "    for x in dictionary:\n",
    "        tagged = nltk.nltk.post_tag(dictionary.get(x))\n",
    "        new_dict.update({x:tagged})\n",
    "    return new_dict"
   ]
  },
  {
   "cell_type": "code",
   "execution_count": null,
   "metadata": {
    "collapsed": true
   },
   "outputs": [],
   "source": []
  }
 ],
 "metadata": {
  "kernelspec": {
   "display_name": "Python 3",
   "language": "python",
   "name": "python3"
  },
  "language_info": {
   "codemirror_mode": {
    "name": "ipython",
    "version": 3
   },
   "file_extension": ".py",
   "mimetype": "text/x-python",
   "name": "python",
   "nbconvert_exporter": "python",
   "pygments_lexer": "ipython3",
   "version": "3.6.3"
  }
 },
 "nbformat": 4,
 "nbformat_minor": 2
}
