{
 "cells": [
  {
   "cell_type": "code",
   "execution_count": 1,
   "metadata": {},
   "outputs": [
    {
     "name": "stderr",
     "output_type": "stream",
     "text": [
      "/Users/dannyyang/Library/Python/3.6/lib/python/site-packages/sklearn/ensemble/weight_boosting.py:29: DeprecationWarning: numpy.core.umath_tests is an internal NumPy module and should not be imported. It will be removed in a future NumPy release.\n",
      "  from numpy.core.umath_tests import inner1d\n"
     ]
    }
   ],
   "source": [
    "import numpy as np\n",
    "import pandas as pd\n",
    "import spacy\n",
    "import networkx as nx\n",
    "import score as sc\n",
    "import time\n",
    "from sklearn.metrics import confusion_matrix, pairwise, f1_score, precision_score\n",
    "from scipy.spatial import distance\n",
    "from preprocessing.utils import plot_confusion_matrix\n",
    "import matplotlib.pyplot as plt\n",
    "import nltk\n",
    "from collections import Counter, defaultdict\n",
    "from torch.autograd import Variable\n",
    "import torch.nn as nn\n",
    "import torch.nn.functional as F\n",
    "import itertools\n",
    "import torch\n",
    "import importlib\n",
    "from sklearn.linear_model import LogisticRegression\n",
    "from sklearn.ensemble import RandomForestClassifier, GradientBoostingClassifier\n",
    "from sklearn.tree import DecisionTreeClassifier\n",
    "from sklearn.svm import SVC"
   ]
  },
  {
   "cell_type": "code",
   "execution_count": 2,
   "metadata": {
    "collapsed": true
   },
   "outputs": [],
   "source": [
    "import sys\n",
    "importlib.reload(sys.modules['preprocessing.utils'])\n",
    "from preprocessing.utils import plot_confusion_matrix"
   ]
  },
  {
   "cell_type": "code",
   "execution_count": 3,
   "metadata": {
    "collapsed": true
   },
   "outputs": [],
   "source": [
    "#https://github.com/huggingface/neuralcoref\n",
    "#note: this NEEDS spacy 2.0.12 to work! downgrade with pip install spacy=2.0.12\n",
    "import en_coref_md\n",
    "nlp = spacy.load('en_core_web_sm')\n",
    "coref = en_coref_md.load()"
   ]
  },
  {
   "cell_type": "code",
   "execution_count": 4,
   "metadata": {
    "collapsed": true
   },
   "outputs": [],
   "source": [
    "negating_words = set([\n",
    "    \"n't\", \"not\", \"no\", \n",
    "    \"never\", \"nobody\", \"non\", \"nope\"])\n",
    "doubting_words = set([\n",
    "    'fake','fraud', 'hoax', \n",
    "    'false', 'deny', 'denies', \n",
    "    'despite', 'doubt', \n",
    "    'bogus', 'debunk', 'prank', \n",
    "    'retract', 'scam', \"withdrawn\",\n",
    "    \"misinformation\"])\n",
    "hedging_words = set([\n",
    "    'allege', 'allegedly','apparently',\n",
    "    'appear','claim','could',\n",
    "    'evidently','largely','likely',\n",
    "    'mainly','may', 'maybe', 'might',\n",
    "    'mostly','perhaps','presumably',\n",
    "    'probably','purport', 'purportedly',\n",
    "    'reported', 'reportedly',\n",
    "    'rumor', 'rumour', 'rumored', 'rumoured',\n",
    "    'says','seem','somewhat',\n",
    "    'unconfirmed'])\n",
    "sus_words = doubting_words.union(hedging_words)"
   ]
  },
  {
   "cell_type": "code",
   "execution_count": 5,
   "metadata": {
    "collapsed": true
   },
   "outputs": [],
   "source": [
    "from vaderSentiment.vaderSentiment import SentimentIntensityAnalyzer\n",
    "vader = SentimentIntensityAnalyzer()\n",
    "\n",
    "def get_sentiment(sentence):\n",
    "    sent =  vader.polarity_scores(sentence)\n",
    "    return [sent[\"pos\"],sent[\"neg\"],sent[\"neu\"],sent[\"compound\"]]\n",
    "\n",
    "def get_avg_sentiment(lst):\n",
    "    sents = np.array([get_sentiment(s) for s in lst])\n",
    "    return list(np.mean(sents, axis = 0))\n",
    "\n",
    "def get_diff_sentiment(a,b):\n",
    "    return list(np.array(a) - np.array(b))"
   ]
  },
  {
   "cell_type": "code",
   "execution_count": 6,
   "metadata": {
    "collapsed": true
   },
   "outputs": [],
   "source": [
    "def train_test_split(bodies, stances, split=0.8):\n",
    "    idx = np.random.permutation(np.arange(len(bodies)))\n",
    "    bodies = bodies.values[idx]\n",
    "    train = int(len(bodies)*0.8)\n",
    "    bodies_tr = set([i[0] for i in bodies[:train]])\n",
    "    bodies_val = set([i[0] for i in bodies[train:]])\n",
    "    stances_tr = stances.loc[stances[\"Body ID\"].isin(bodies_tr), :]\n",
    "    stances_val = stances.loc[stances[\"Body ID\"].isin(bodies_val), :]\n",
    "    return stances_tr, stances_val"
   ]
  },
  {
   "cell_type": "code",
   "execution_count": 7,
   "metadata": {},
   "outputs": [
    {
     "name": "stdout",
     "output_type": "stream",
     "text": [
      "(13427, 3)\n"
     ]
    },
    {
     "data": {
      "text/html": [
       "<div>\n",
       "<style>\n",
       "    .dataframe thead tr:only-child th {\n",
       "        text-align: right;\n",
       "    }\n",
       "\n",
       "    .dataframe thead th {\n",
       "        text-align: left;\n",
       "    }\n",
       "\n",
       "    .dataframe tbody tr th {\n",
       "        vertical-align: top;\n",
       "    }\n",
       "</style>\n",
       "<table border=\"1\" class=\"dataframe\">\n",
       "  <thead>\n",
       "    <tr style=\"text-align: right;\">\n",
       "      <th></th>\n",
       "      <th>Headline</th>\n",
       "      <th>Body ID</th>\n",
       "      <th>Stance</th>\n",
       "    </tr>\n",
       "  </thead>\n",
       "  <tbody>\n",
       "    <tr>\n",
       "      <th>1</th>\n",
       "      <td>Hundreds of Palestinians flee floods in Gaza a...</td>\n",
       "      <td>158</td>\n",
       "      <td>agree</td>\n",
       "    </tr>\n",
       "    <tr>\n",
       "      <th>4</th>\n",
       "      <td>Spider burrowed through tourist's stomach and ...</td>\n",
       "      <td>1923</td>\n",
       "      <td>disagree</td>\n",
       "    </tr>\n",
       "    <tr>\n",
       "      <th>5</th>\n",
       "      <td>'Nasa Confirms Earth Will Experience 6 Days of...</td>\n",
       "      <td>154</td>\n",
       "      <td>agree</td>\n",
       "    </tr>\n",
       "    <tr>\n",
       "      <th>8</th>\n",
       "      <td>Banksy 'Arrested &amp; Real Identity Revealed' Is ...</td>\n",
       "      <td>1739</td>\n",
       "      <td>agree</td>\n",
       "    </tr>\n",
       "    <tr>\n",
       "      <th>10</th>\n",
       "      <td>Gateway Pundit</td>\n",
       "      <td>2327</td>\n",
       "      <td>discuss</td>\n",
       "    </tr>\n",
       "    <tr>\n",
       "      <th>11</th>\n",
       "      <td>Woman detained in Lebanon is not al-Baghdadi's...</td>\n",
       "      <td>1468</td>\n",
       "      <td>agree</td>\n",
       "    </tr>\n",
       "    <tr>\n",
       "      <th>14</th>\n",
       "      <td>Soon Marijuana May Lead to Ticket, Not Arrest,...</td>\n",
       "      <td>47</td>\n",
       "      <td>discuss</td>\n",
       "    </tr>\n",
       "    <tr>\n",
       "      <th>16</th>\n",
       "      <td>Boko Haram Denies Nigeria Cease-Fire Claim</td>\n",
       "      <td>2463</td>\n",
       "      <td>discuss</td>\n",
       "    </tr>\n",
       "    <tr>\n",
       "      <th>17</th>\n",
       "      <td>No, Robert Plant Didn’t Rip Up an $800 Million...</td>\n",
       "      <td>295</td>\n",
       "      <td>agree</td>\n",
       "    </tr>\n",
       "    <tr>\n",
       "      <th>19</th>\n",
       "      <td>ISIL Beheads American Photojournalist in Iraq</td>\n",
       "      <td>608</td>\n",
       "      <td>discuss</td>\n",
       "    </tr>\n",
       "    <tr>\n",
       "      <th>21</th>\n",
       "      <td>Boko Haram ceasefire ignored as violence flare...</td>\n",
       "      <td>1681</td>\n",
       "      <td>discuss</td>\n",
       "    </tr>\n",
       "    <tr>\n",
       "      <th>24</th>\n",
       "      <td>NET Extra: Back-from-the-dead Catholic priest ...</td>\n",
       "      <td>1014</td>\n",
       "      <td>agree</td>\n",
       "    </tr>\n",
       "    <tr>\n",
       "      <th>25</th>\n",
       "      <td>Rumor debunked: RoboCop-style robots are not p...</td>\n",
       "      <td>633</td>\n",
       "      <td>agree</td>\n",
       "    </tr>\n",
       "    <tr>\n",
       "      <th>29</th>\n",
       "      <td>Report: Christian Bale Just Bailed on the Stev...</td>\n",
       "      <td>1157</td>\n",
       "      <td>discuss</td>\n",
       "    </tr>\n",
       "    <tr>\n",
       "      <th>31</th>\n",
       "      <td>Insurgents killed in Nigeria despite alleged t...</td>\n",
       "      <td>1896</td>\n",
       "      <td>discuss</td>\n",
       "    </tr>\n",
       "  </tbody>\n",
       "</table>\n",
       "</div>"
      ],
      "text/plain": [
       "                                             Headline  Body ID    Stance\n",
       "1   Hundreds of Palestinians flee floods in Gaza a...      158     agree\n",
       "4   Spider burrowed through tourist's stomach and ...     1923  disagree\n",
       "5   'Nasa Confirms Earth Will Experience 6 Days of...      154     agree\n",
       "8   Banksy 'Arrested & Real Identity Revealed' Is ...     1739     agree\n",
       "10                                     Gateway Pundit     2327   discuss\n",
       "11  Woman detained in Lebanon is not al-Baghdadi's...     1468     agree\n",
       "14  Soon Marijuana May Lead to Ticket, Not Arrest,...       47   discuss\n",
       "16         Boko Haram Denies Nigeria Cease-Fire Claim     2463   discuss\n",
       "17  No, Robert Plant Didn’t Rip Up an $800 Million...      295     agree\n",
       "19      ISIL Beheads American Photojournalist in Iraq      608   discuss\n",
       "21  Boko Haram ceasefire ignored as violence flare...     1681   discuss\n",
       "24  NET Extra: Back-from-the-dead Catholic priest ...     1014     agree\n",
       "25  Rumor debunked: RoboCop-style robots are not p...      633     agree\n",
       "29  Report: Christian Bale Just Bailed on the Stev...     1157   discuss\n",
       "31  Insurgents killed in Nigeria despite alleged t...     1896   discuss"
      ]
     },
     "execution_count": 7,
     "metadata": {},
     "output_type": "execute_result"
    }
   ],
   "source": [
    "train_stances = pd.read_csv(\"fn_data/train_stances.csv\")\n",
    "train_stances = train_stances.loc[lambda x: x.Stance != \"unrelated\"]\n",
    "print(train_stances.shape)\n",
    "train_stances.head(15)"
   ]
  },
  {
   "cell_type": "code",
   "execution_count": 8,
   "metadata": {},
   "outputs": [
    {
     "name": "stdout",
     "output_type": "stream",
     "text": [
      "(1683, 2)\n"
     ]
    },
    {
     "data": {
      "text/html": [
       "<div>\n",
       "<style>\n",
       "    .dataframe thead tr:only-child th {\n",
       "        text-align: right;\n",
       "    }\n",
       "\n",
       "    .dataframe thead th {\n",
       "        text-align: left;\n",
       "    }\n",
       "\n",
       "    .dataframe tbody tr th {\n",
       "        vertical-align: top;\n",
       "    }\n",
       "</style>\n",
       "<table border=\"1\" class=\"dataframe\">\n",
       "  <thead>\n",
       "    <tr style=\"text-align: right;\">\n",
       "      <th></th>\n",
       "      <th>Body ID</th>\n",
       "      <th>articleBody</th>\n",
       "    </tr>\n",
       "  </thead>\n",
       "  <tbody>\n",
       "    <tr>\n",
       "      <th>0</th>\n",
       "      <td>0</td>\n",
       "      <td>A small meteorite crashed into a wooded area i...</td>\n",
       "    </tr>\n",
       "    <tr>\n",
       "      <th>1</th>\n",
       "      <td>4</td>\n",
       "      <td>Last week we hinted at what was to come as Ebo...</td>\n",
       "    </tr>\n",
       "    <tr>\n",
       "      <th>2</th>\n",
       "      <td>5</td>\n",
       "      <td>(NEWSER) – Wonder how long a Quarter Pounder w...</td>\n",
       "    </tr>\n",
       "    <tr>\n",
       "      <th>3</th>\n",
       "      <td>6</td>\n",
       "      <td>Posting photos of a gun-toting child online, I...</td>\n",
       "    </tr>\n",
       "    <tr>\n",
       "      <th>4</th>\n",
       "      <td>7</td>\n",
       "      <td>At least 25 suspected Boko Haram insurgents we...</td>\n",
       "    </tr>\n",
       "  </tbody>\n",
       "</table>\n",
       "</div>"
      ],
      "text/plain": [
       "   Body ID                                        articleBody\n",
       "0        0  A small meteorite crashed into a wooded area i...\n",
       "1        4  Last week we hinted at what was to come as Ebo...\n",
       "2        5  (NEWSER) – Wonder how long a Quarter Pounder w...\n",
       "3        6  Posting photos of a gun-toting child online, I...\n",
       "4        7  At least 25 suspected Boko Haram insurgents we..."
      ]
     },
     "execution_count": 8,
     "metadata": {},
     "output_type": "execute_result"
    }
   ],
   "source": [
    "train_bodies = pd.read_csv(\"fn_data/train_bodies.csv\")\n",
    "print(train_bodies.shape)\n",
    "train_bodies.head()"
   ]
  },
  {
   "cell_type": "code",
   "execution_count": 9,
   "metadata": {
    "collapsed": true
   },
   "outputs": [],
   "source": [
    "def get_body(n):\n",
    "    return train_bodies.loc[lambda x: x[\"Body ID\"] == n, \"articleBody\"].item()"
   ]
  },
  {
   "cell_type": "code",
   "execution_count": 10,
   "metadata": {
    "collapsed": true
   },
   "outputs": [],
   "source": [
    "def preprocess(text):\n",
    "    text = text.replace(\"' \",' ')\n",
    "    text = text.replace(\"'\\n\",'\\n')\n",
    "    text = text.replace(\" '\",' ')\n",
    "    text = text.replace('\"',' ')\n",
    "    text = text.replace('“',' ')\n",
    "    text = text.replace('”', ' ')\n",
    "    text = text.replace(\":\", \". \")\n",
    "    text = text.replace(\";\", \". \")\n",
    "    text = text.replace(\"...\", \" \")\n",
    "    return text"
   ]
  },
  {
   "cell_type": "code",
   "execution_count": 11,
   "metadata": {
    "collapsed": true
   },
   "outputs": [],
   "source": [
    "def cosine_similarity(x,y):\n",
    "    if all([a == 0 for a in x]) or all([a == 0 for a in y]):\n",
    "        return 0\n",
    "    return 1 - np.nan_to_num(distance.cosine(x,y))"
   ]
  },
  {
   "cell_type": "code",
   "execution_count": 12,
   "metadata": {
    "collapsed": true
   },
   "outputs": [],
   "source": [
    "def get_topics(doc):\n",
    "    \"\"\"\n",
    "    get topics of a sentence\n",
    "    input: spacy doc\n",
    "    output: dictionary with nouns as the key, and the set of noun chunks that contain the noun as the value\n",
    "    special entry _vocab has the set of all tokens in the dict\n",
    "    \"\"\"\n",
    "    subjs = {}\n",
    "    for chunk in doc.noun_chunks:\n",
    "        if len(chunk.root.text) > 2 and chunk.root.pos_ not in [\"NUM\", \"SYM\",\"PUNCT\"]:\n",
    "            txt = chunk.root.lemma_.lower()\n",
    "            if txt not in subjs:\n",
    "                subjs[txt] = set([txt])\n",
    "            subjs[txt].add(chunk.text.lower())\n",
    "    subjects_= []\n",
    "    for word in subjs:\n",
    "        for phrase in subjs[word]:\n",
    "            subjects_ += phrase.split(\" \")\n",
    "    subjs[\"_vocab\"] = set(subjects_)\n",
    "    return subjs"
   ]
  },
  {
   "cell_type": "code",
   "execution_count": 13,
   "metadata": {
    "collapsed": true
   },
   "outputs": [],
   "source": [
    "def get_svos(sent):\n",
    "    \"\"\"\n",
    "    input: Spacy processed sentence\n",
    "    output: dict of subj, dict of v, dict of obj (each word is lemmatized and lowercased)\n",
    "    each entry in dict has key of lemmatized token, value is actual token (to do traversals with later if needed)\n",
    "    \"\"\"\n",
    "    s = {}\n",
    "    v = {}\n",
    "    o = {}\n",
    "    for token in sent:\n",
    "        if token.dep_ == 'ROOT':\n",
    "            v[token.lemma_.lower()] = token\n",
    "        elif token.dep_ in [\"nsubj\", \"nsubjpass\", \"csubj\",\"csubjpass\", \"agent\",\"compound\"]:\n",
    "            s[token.lemma_.lower()] = token\n",
    "        elif token.dep_ in [\"dobj\", \"dative\", \"attr\", \"oprd\", \"pobj\"]:\n",
    "            o[token.lemma_.lower()] = token\n",
    "    # https://github.com/clir/clearnlp-guidelines/blob/master/md/specifications/dependency_labels.md\n",
    "    return (s,v,o)"
   ]
  },
  {
   "cell_type": "code",
   "execution_count": 14,
   "metadata": {
    "collapsed": true,
    "scrolled": true
   },
   "outputs": [],
   "source": [
    "def build_graph(doc):\n",
    "    \"\"\"\n",
    "    build a NetworkX graph of the dependency tree\n",
    "    input: spacy Doc\n",
    "    output: networkx graph\n",
    "    \"\"\"\n",
    "    edges = set()\n",
    "    for token in doc:\n",
    "        if token.pos_ not in ['SPACE']:\n",
    "            for child in token.children:\n",
    "                if child.pos_ not in ['SPACE']:\n",
    "                    edges.add((token.lemma_.lower(),child.lemma_.lower()))\n",
    "    graph = nx.DiGraph(list(edges))\n",
    "    return graph"
   ]
  },
  {
   "cell_type": "code",
   "execution_count": 15,
   "metadata": {
    "collapsed": true
   },
   "outputs": [],
   "source": [
    "def get_edges(doc):\n",
    "    \"\"\"\n",
    "    return list of edges\n",
    "    \"\"\"\n",
    "    edges = []\n",
    "    for token in doc:\n",
    "        if token.pos_ not in ['SPACE', 'PUNCT', 'SYM']:\n",
    "            for child in token.children:\n",
    "                if child.pos_ not in ['SPACE', 'PUNCT', 'SYM']:\n",
    "                    edges.append((\n",
    "                        {\"token\":token.lemma_.lower(), \"dep\":token.dep_ , \"pos\":token.pos_},\n",
    "                        {\"token\":child.lemma_.lower(), \"dep\":child.dep_ , \"pos\":child.pos_}\n",
    "                    ))\n",
    "    return edges"
   ]
  },
  {
   "cell_type": "code",
   "execution_count": null,
   "metadata": {
    "collapsed": true
   },
   "outputs": [],
   "source": []
  },
  {
   "cell_type": "code",
   "execution_count": 16,
   "metadata": {
    "collapsed": true
   },
   "outputs": [],
   "source": [
    "def get_summary(doc, subjects, n = 5):\n",
    "    \"\"\"\n",
    "    get summary of n sentences in document\n",
    "    first meaningful sentence will always be returned\n",
    "    \"\"\"\n",
    "    subjects_ = subjects\n",
    "    def score_sentence(sent):\n",
    "        # not very robust right now\n",
    "        score = 0\n",
    "        word_count = 0\n",
    "        for token in sent:\n",
    "            word_count += 1\n",
    "            t = token.lemma_.lower()\n",
    "            if t in subjects_:\n",
    "                score += 1\n",
    "            elif t in negating_words or t in doubting_words or t in hedging_words:\n",
    "                score += 1\n",
    "        return score/word_count if word_count > 4 else 0\n",
    "    sentences = [s for s in doc.sents]\n",
    "    scored_sentences = [[idx, sent, score_sentence(sent)] for idx, sent in enumerate(sentences)]\n",
    "    scored_sentences = [s for s in scored_sentences if s[2] > 0 and s[0] > 0] #filter out non-scoring sentences\n",
    "    scored_sentences.sort(key = lambda x: x[2], reverse = True)\n",
    "    top = scored_sentences[:n]\n",
    "    top.sort(key = lambda x: x[0])\n",
    "    scored_sentences.sort(key = lambda x: x[0])\n",
    "    result = None\n",
    "    if len(scored_sentences) == 0:\n",
    "        result = [sentences[0]]\n",
    "    else:\n",
    "        result = [scored_sentences[0][1]] + [s[1] for s in top]\n",
    "    return result"
   ]
  },
  {
   "cell_type": "code",
   "execution_count": 17,
   "metadata": {
    "collapsed": true
   },
   "outputs": [],
   "source": [
    "def get_shortest_path_to_negating(graph, subjects):\n",
    "    \"\"\"\n",
    "    get the shortest path from each subject to any negating or doubting/hedging word\n",
    "    returns: dictionary with subject as key, and 2-element list of path lengths [negating, doubting]\n",
    "    - if a subject does not exist in graph or have a path to any negating word, then the value will be [None, None]\n",
    "    \"\"\"\n",
    "    results = {}\n",
    "    for s in subjects:\n",
    "        results[s] = [None, None, None]\n",
    "        if graph.has_node(s):\n",
    "            for word in negating_words:\n",
    "                if word in graph:\n",
    "                    try:\n",
    "                        path = nx.shortest_path(graph, source = s, target = word)\n",
    "                        if results[s][0] == None or len(path) < results[s][0]:\n",
    "                            results[s][0] = len(path)\n",
    "                    except:\n",
    "                        continue\n",
    "            for word in hedging_words:\n",
    "                if word in graph:\n",
    "                    try:\n",
    "                        path = nx.shortest_path(graph, source = s, target = word)\n",
    "                        if results[s][1] == None or len(path) < results[s][1]:\n",
    "                            results[s][1] = len(path)\n",
    "                    except:\n",
    "                        continue\n",
    "            for word in doubting_words:\n",
    "                if word in graph:\n",
    "                    try:\n",
    "                        path = nx.shortest_path(graph, source = s, target = word)\n",
    "                        if results[s][2] == None or len(path) < results[s][2]:\n",
    "                            results[s][2] = len(path)\n",
    "                    except:\n",
    "                        continue\n",
    "    return results"
   ]
  },
  {
   "cell_type": "code",
   "execution_count": 18,
   "metadata": {
    "collapsed": true
   },
   "outputs": [],
   "source": [
    "def root_distance(graph, root):\n",
    "    \"\"\"\n",
    "    as implemented in the Emergent paper - return the shortest distance between the given root and any \n",
    "    doubting or hedging words in the graph, or None if no such path exists\n",
    "    \"\"\"\n",
    "    if root == None:\n",
    "        return None\n",
    "    min_dist = None\n",
    "    for word in sus_words:\n",
    "        if word in graph:\n",
    "            try:\n",
    "                path = nx.shortest_path(graph, source = root, target = word)\n",
    "                if min_dist == None or len(path) < min_dist:\n",
    "                    min_dist = len(path)\n",
    "            except:\n",
    "                continue\n",
    "    return min_dist"
   ]
  },
  {
   "cell_type": "code",
   "execution_count": 19,
   "metadata": {
    "collapsed": true
   },
   "outputs": [],
   "source": [
    "def get_neg_ancestors(doc):\n",
    "    \"\"\"\n",
    "    get the ancestors of every negating word\n",
    "    input: spacy Doc\n",
    "    returns: tuple  - set of words that were in the ancestor list of negating words, \n",
    "    set of words that were in ancestor list of refuting words, # negating words, # refuting words\n",
    "    \"\"\"\n",
    "    results = [set(), set(), set(), 0, 0, 0]\n",
    "    for token in doc:\n",
    "        if token.lemma_.lower() in negating_words:\n",
    "            results[0] = results[0].union(\n",
    "                set([ancestor.lemma_.lower() for ancestor in token.ancestors if len(ancestor) > 2]).union(\n",
    "                    set([child.lemma_.lower() for child in token.head.children if child.text != token.text and len(child) > 2])\n",
    "                )\n",
    "            )\n",
    "            results[3] += 1\n",
    "        elif token.lemma_.lower() in doubting_words:\n",
    "            results[1] = results[1].union(\n",
    "                set([ancestor.lemma_.lower() for ancestor in token.ancestors if len(ancestor) > 2]).union(\n",
    "                    set([child.lemma_.lower() for child in token.head.children if child.text != token.text and len(child) > 2])\n",
    "                )\n",
    "            )\n",
    "            results[4] += 1\n",
    "        elif token.lemma_.lower() in hedging_words:\n",
    "            results[2] = results[1].union(\n",
    "                set([ancestor.lemma_.lower() for ancestor in token.ancestors if len(ancestor) > 2]).union(\n",
    "                    set([child.lemma_.lower() for child in token.head.children if child.text != token.text and len(child) > 2])\n",
    "                )\n",
    "            )\n",
    "            results[5] += 1\n",
    "    return tuple(results)"
   ]
  },
  {
   "cell_type": "code",
   "execution_count": 20,
   "metadata": {
    "collapsed": true
   },
   "outputs": [],
   "source": [
    "from sentic import SenticPhrase\n",
    "text = \"Hello, World!\"\n",
    "sp = SenticPhrase(text)\n",
    "\n",
    "def get_sentics(sent):\n",
    "    \"\"\"\n",
    "        input: Spacy processed sentence\n",
    "        output: a tuple containing the polarity score and a list of sentic values \n",
    "            (pleasantness, attention, sensitiviy, aptitude )\n",
    "    \"\"\"\n",
    "    info = sp.info(sent)\n",
    "          \n",
    "    # Sometimes sentic doesn't returns any sentics values, seems to be only when purely neutral. \n",
    "    # Some sort of tag to make sure this is true could help with classiciation! (if all 0's not enough)\n",
    "    sentics = {\"pleasantness\":0, \"attention\":0, \"sensitivity\":0, \"aptitude\":0}\n",
    "    sentics.update(info[\"sentics\"])\n",
    "    return [info['polarity'], sentics['aptitude'], sentics['attention'], sentics['sensitivity'], sentics['pleasantness']]"
   ]
  },
  {
   "cell_type": "code",
   "execution_count": 21,
   "metadata": {
    "scrolled": true
   },
   "outputs": [
    {
     "data": {
      "text/plain": [
       "(-0.77,\n",
       " {'aptitude': -0.74,\n",
       "  'attention': 0.0,\n",
       "  'pleasantness': -0.94,\n",
       "  'sensitivity': 0.636})"
      ]
     },
     "execution_count": 21,
     "metadata": {},
     "output_type": "execute_result"
    }
   ],
   "source": [
    "sp.info(\"Hello my name is Danny\")['polarity'], sp.info(\"Hello my name is Danny\")['sentics']"
   ]
  },
  {
   "cell_type": "code",
   "execution_count": 22,
   "metadata": {
    "scrolled": true
   },
   "outputs": [
    {
     "name": "stdout",
     "output_type": "stream",
     "text": [
      "Boko Haram ceasefire doubts after attacks reported in Nigeria\n",
      "[doubts]\n",
      "{'ceasefire': {'ceasefire', 'boko haram ceasefire'}, 'attack': {'attack', 'attacks'}, 'nigeria': {'nigeria'}, '_vocab': {'haram', 'ceasefire', 'boko', 'attacks', 'attack', 'nigeria'}}\n",
      "({'boko': Boko, 'haram': Haram, 'ceasefire': ceasefire}, {'doubt': doubts}, {'attack': attacks, 'nigeria': Nigeria})\n",
      "(set(), {'ceasefire', 'after'}, set(), 0, 1, 0)\n"
     ]
    },
    {
     "data": {
      "image/png": "[encoded data removed]",
      "text/plain": [
       "<matplotlib.figure.Figure at 0x164bea860>"
      ]
     },
     "metadata": {},
     "output_type": "display_data"
    }
   ],
   "source": [
    "h_id = 12\n",
    "df = train_stances[train_stances[\"Stance\"] == \"disagree\"]\n",
    "test = nlp(preprocess(list(df.values)[h_id][0]))\n",
    "print(test)\n",
    "print([t for t in test if t.dep_ == \"ROOT\"])\n",
    "# print(test)\n",
    "# test_graph = build_graph(test)\n",
    "edges = get_edges(test)\n",
    "set_edges = set([(e[0]['token'], e[1]['token']) for e in edges])\n",
    "test_graph = nx.DiGraph(list(set_edges))\n",
    "test_subj = get_topics(test)\n",
    "print(test_subj)\n",
    "test_svo = get_svos(test)\n",
    "print(test_svo)\n",
    "print(get_neg_ancestors(test))\n",
    "# pos = nx.spring_layout(test_graph, iterations = 200)\n",
    "nx.draw(test_graph, font_size=16, with_labels = True)\n",
    "plt.show()"
   ]
  },
  {
   "cell_type": "code",
   "execution_count": 23,
   "metadata": {
    "scrolled": true
   },
   "outputs": [
    {
     "name": "stdout",
     "output_type": "stream",
     "text": [
      "{'haram', 'ceasefire', 'doubt', 'boko', 'attacks', 'attack', 'nigeria'}\n",
      "++++++++\n",
      "a truce with militant Islamist group Boko Haram, who look set to the release schoolgirls it abducted earlier this year\n",
      "\n",
      "\n",
      "{'ceasefire': [None, None, None], 'attack': [None, None, None], 'nigeria': [None, None, None], '_vocab': [None, None, None]}\n",
      "({'group': group, 'boko': Boko, 'who': who, 'release': release, '-pron-': it}, {'truce': truce}, {'haram': Haram, 'schoolgirl': schoolgirls})\n",
      "5\n",
      "(set(), set(), set(), 0, 0, 0)\n",
      "\n",
      "Boko Haram had demanded the release of detained extremists in exchange for the girls, but Nigeria president Goodluck Jonathan would not swap prisoners.\n",
      "\n",
      "\n",
      "{'ceasefire': [None, None, None], 'attack': [None, None, None], 'nigeria': [None, None, None], '_vocab': [None, None, None]}\n",
      "({'boko': Boko, 'haram': Haram, 'nigeria': Nigeria, 'president': president, 'goodluck': Goodluck, 'jonathan': Jonathan}, {'demand': demanded}, {'release': release, 'extremist': extremists, 'exchange': exchange, 'girl': girls, 'prisoner': prisoners})\n",
      "4\n",
      "({'jonathan', 'prisoner', 'swap', 'would', 'demand'}, set(), set(), 1, 0, 0)\n",
      "\n",
      "Nigeria president Goodluck Jonathan has come under fire in Nigeria president Goodluck Jonathan for failing to handle the threat of Boko Haram, which has reportedly killed 13,000 civilians in the years since 2009.\n",
      "\n",
      "\n",
      "{'ceasefire': [None, None, None], 'attack': [None, None, None], 'nigeria': [None, None, None], '_vocab': [None, None, None]}\n",
      "({'nigeria': Nigeria, 'president': president, 'goodluck': Goodluck, 'jonathan': Jonathan, 'boko': Boko, 'which': which}, {'come': come}, {'fire': fire, 'president': president, 'threat': threat, 'haram': Haram, 'civilian': civilians, 'year': years, '2009': 2009})\n",
      "6\n",
      "(set(), set(), {'come', 'have', 'threat', 'which', 'handle', 'kill', 'fail', 'haram', 'civilian', 'for'}, 0, 0, 1)\n",
      "\n",
      "Commitment among parts of Boko Haram and the military does appear to be genuine.\n",
      "{'ceasefire': [None, None, None], 'attack': [None, None, None], 'nigeria': [None, None, None], '_vocab': [None, None, None]}\n",
      "({'commitment': Commitment, 'boko': Boko}, {'appear': appear}, {'part': parts, 'haram': Haram})\n",
      "1\n",
      "(set(), set(), {'do', 'commitment'}, 0, 0, 1)\n",
      "\n",
      "There are some talks but the ceasefire depends on the buy-in of the Boko Haram group.\n",
      "{'ceasefire': [None, None, None], 'attack': [None, None, None], 'nigeria': [None, None, None], '_vocab': [None, None, None]}\n",
      "({'ceasefire': ceasefire, 'buy': buy, 'boko': Boko, 'haram': Haram}, {'be': are}, {'talk': talks, 'in': in, 'group': group})\n",
      "4\n",
      "(set(), set(), set(), 0, 0, 0)\n",
      "\n",
      "Boko Haram has not made a public statement.\n",
      "\n",
      "\n",
      "{'ceasefire': [None, None, None], 'attack': [None, None, None], 'nigeria': [None, None, None], '_vocab': [None, None, None]}\n",
      "({'boko': Boko, 'haram': Haram}, {'make': made}, {'statement': statement})\n",
      "4\n",
      "({'haram', 'statement', 'have', 'make'}, set(), set(), 1, 0, 0)\n",
      "\n"
     ]
    }
   ],
   "source": [
    "body_text = get_body(list(df.values)[h_id][1])\n",
    "body = coref(preprocess(body_text))\n",
    "resolved = body._.coref_resolved\n",
    "body = nlp(preprocess(resolved))\n",
    "print(set(test_subj[\"_vocab\"]).union(set(test_svo[0])).union(set(test_svo[1])).union(set(test_svo[2])))\n",
    "body_graph = build_graph(body)\n",
    "summary = get_summary(body, set(test_subj[\"_vocab\"]).union(set(test_svo[0])).union(set(test_svo[1])).union(set(test_svo[2])), 5)\n",
    "print(\"++++++++\")\n",
    "for s in summary:\n",
    "    print(s)\n",
    "    svo_s = get_svos(s)\n",
    "    print(get_shortest_path_to_negating(body_graph, test_subj))\n",
    "    print(svo_s)\n",
    "    print(root_distance(body_graph, list(svo_s[1].keys())[0]))\n",
    "    print(get_neg_ancestors(s))\n",
    "    print(\"\")"
   ]
  },
  {
   "cell_type": "code",
   "execution_count": null,
   "metadata": {
    "collapsed": true
   },
   "outputs": [],
   "source": []
  },
  {
   "cell_type": "markdown",
   "metadata": {},
   "source": [
    "# Preprocess headline and body"
   ]
  },
  {
   "cell_type": "code",
   "execution_count": 24,
   "metadata": {},
   "outputs": [
    {
     "name": "stdout",
     "output_type": "stream",
     "text": [
      "Processed 0\n",
      "Processed 2500\n",
      "Processed 5000\n",
      "Processed 7500\n",
      "Processed 10000\n",
      "Processed 12500\n",
      "Done!\n",
      "Processed 0\n",
      "Processed 100\n",
      "Processed 200\n",
      "Processed 300\n",
      "Processed 400\n",
      "Processed 500\n",
      "Processed 600\n",
      "Processed 700\n",
      "Processed 800\n",
      "Processed 900\n",
      "Processed 1000\n",
      "Processed 1100\n",
      "Processed 1200\n",
      "Processed 1300\n",
      "Processed 1400\n",
      "Processed 1500\n",
      "Processed 1600\n",
      "Done!\n",
      "764\n"
     ]
    }
   ],
   "source": [
    "headline_info = {}\n",
    "body_info = {}\n",
    "start = time.time()\n",
    "stance_data = list(train_stances.values)\n",
    "body_data = list(train_bodies.values)\n",
    "for headline in range(len(stance_data)):\n",
    "    if headline % 2500 == 0:\n",
    "        print(\"Processed \"+str(headline))\n",
    "    h, b_id, s = tuple(stance_data[headline])\n",
    "    if h not in headline_info:\n",
    "        nlp_h = nlp(preprocess(h))\n",
    "        headline_edges = get_edges(nlp_h)\n",
    "        headline_graph = nx.DiGraph(list(set([(e[0]['token'], e[1]['token']) for e in headline_edges])))\n",
    "        headline_subj = get_topics(nlp_h)\n",
    "        headline_svo = get_svos(nlp_h)\n",
    "        headline_root_dist = root_distance(headline_graph, list(headline_svo[1].keys())[0])\n",
    "        headline_neg_ancestors = get_neg_ancestors(nlp_h)\n",
    "        headline_info[h] = (nlp_h, headline_graph, headline_subj, headline_svo, headline_root_dist, headline_neg_ancestors, headline_edges)\n",
    "print(\"Done!\")\n",
    "for body in range(len(body_data)):\n",
    "    if body % 100 == 0:\n",
    "        print(\"Processed \"+str(body))\n",
    "    b_id, txt = tuple(body_data[body])\n",
    "    nlp_a = coref(preprocess(txt))\n",
    "    nlp_b = nlp(nlp_a._.coref_resolved.lower())\n",
    "    body_graph = build_graph(nlp_b)\n",
    "    body_info[b_id] = (nlp_b, body_graph)\n",
    "print(\"Done!\")\n",
    "end = time.time()\n",
    "print(int(end-start))"
   ]
  },
  {
   "cell_type": "code",
   "execution_count": 25,
   "metadata": {},
   "outputs": [
    {
     "data": {
      "text/plain": [
       "(a small meteorite crashed into a wooded area in nicaragua's capital of managua overnight, nicaragua said sunday. residents reported hearing a mysterious boom that left a 16-foot deep crater near the city's airport, the associated press reports. \n",
       " \n",
       " government spokeswoman rosario murillo said a committee formed by nicaragua to study the event determined a committee formed by the government to study the event was a  relatively small  meteorite that  appears to have come off an asteroid that was passing close to earth.  house-sized asteroid 2014 rc, which measured 60 feet in diameter, skimmed earth this weekend, abc news reports. \n",
       " government spokeswoman rosario murillo said nicaragua will ask international experts to help local scientists in understanding what happened.\n",
       " \n",
       " the crater left by a  relatively small  meteorite that  appears to have come off an asteroid that was passing close to earth had a radius of 39 feet and a depth of 16 feet,  said humberto saballos, a volcanologist with the nicaraguan institute of territorial studies who was on the committee. humberto saballos, a volcanologist with the nicaraguan institute of territorial studies who was on the committee said it is still not clear if a  relatively small  meteorite that  appears to have come off an asteroid that was passing close to earth disintegrated or was buried.\n",
       " \n",
       " humberto garcia, of the astronomy center at the national autonomous university of nicaragua, said a  relatively small  meteorite that  appears to have come off an asteroid that was passing close to earth could be related to an asteroid that was forecast to pass by the planet saturday night.\n",
       " \n",
       "  we have to study a  relatively small  meteorite that  appears to have come off an asteroid that was passing close to earth more because a  relatively small  meteorite that  appears to have come off an asteroid that was passing close to earth could be ice or rock,  \n",
       " \n",
       "   said.\n",
       " \n",
       " wilfried strauch, an adviser to the institute of territorial studies, said it was  very strange that no one reported a streak of light. we have to ask if anyone has a photo or something. \n",
       " \n",
       " local residents reported hearing a loud boom saturday night, but said local residents didn't see anything strange in the sky.\n",
       " \n",
       "  i was sitting on my porch and i saw nothing, then all of a sudden i heard a large blast. we thought it was a bomb because we felt an expansive wave,  jorge santamaria told the associated press.\n",
       " \n",
       " the site of the crater is near managua's international airport and an air force base. only journalists from state media were allowed to visit the site of the crater.,\n",
       " <networkx.classes.digraph.DiGraph at 0x16feb2390>)"
      ]
     },
     "execution_count": 25,
     "metadata": {},
     "output_type": "execute_result"
    }
   ],
   "source": [
    "list(body_info.values())[0]"
   ]
  },
  {
   "cell_type": "code",
   "execution_count": 26,
   "metadata": {},
   "outputs": [
    {
     "ename": "NameError",
     "evalue": "name 'json' is not defined",
     "output_type": "error",
     "traceback": [
      "\u001b[0;31m---------------------------------------------------------------------------\u001b[0m",
      "\u001b[0;31mNameError\u001b[0m                                 Traceback (most recent call last)",
      "\u001b[0;32m<ipython-input-26-fc2786097e3d>\u001b[0m in \u001b[0;36m<module>\u001b[0;34m()\u001b[0m\n\u001b[1;32m      1\u001b[0m \u001b[0;32mwith\u001b[0m \u001b[0mopen\u001b[0m\u001b[0;34m(\u001b[0m\u001b[0;34m'saved_data/relevance_headline_info.json'\u001b[0m\u001b[0;34m,\u001b[0m \u001b[0;34m'w'\u001b[0m\u001b[0;34m)\u001b[0m \u001b[0;32mas\u001b[0m \u001b[0mfp\u001b[0m\u001b[0;34m:\u001b[0m\u001b[0;34m\u001b[0m\u001b[0m\n\u001b[0;32m----> 2\u001b[0;31m     \u001b[0mjson\u001b[0m\u001b[0;34m.\u001b[0m\u001b[0mdump\u001b[0m\u001b[0;34m(\u001b[0m\u001b[0mheadline_info\u001b[0m\u001b[0;34m,\u001b[0m \u001b[0mfp\u001b[0m\u001b[0;34m)\u001b[0m\u001b[0;34m\u001b[0m\u001b[0m\n\u001b[0m\u001b[1;32m      3\u001b[0m \u001b[0;34m\u001b[0m\u001b[0m\n\u001b[1;32m      4\u001b[0m \u001b[0mjson_body_info\u001b[0m \u001b[0;34m=\u001b[0m \u001b[0;34m{\u001b[0m\u001b[0;34m}\u001b[0m\u001b[0;34m\u001b[0m\u001b[0m\n\u001b[1;32m      5\u001b[0m \u001b[0;32mfor\u001b[0m \u001b[0mk\u001b[0m \u001b[0;32min\u001b[0m \u001b[0mbody_info\u001b[0m\u001b[0;34m:\u001b[0m\u001b[0;34m\u001b[0m\u001b[0m\n",
      "\u001b[0;31mNameError\u001b[0m: name 'json' is not defined"
     ]
    }
   ],
   "source": [
    "with open('saved_data/relevance_headline_info.json', 'w') as fp:\n",
    "    json.dump(headline_info, fp)\n",
    "    \n",
    "json_body_info = {}\n",
    "for k in body_info:\n",
    "    body_info[k]['vocabulary'] = list(body_info[k]['vocabulary'])\n",
    "    json_body_info[str(k)] = body_info[k]\n",
    "with open('saved_data/relevance_body_info.json', 'w') as fp:\n",
    "    json.dump(json_body_info, fp)"
   ]
  },
  {
   "cell_type": "code",
   "execution_count": null,
   "metadata": {
    "collapsed": true
   },
   "outputs": [],
   "source": [
    "import json\n",
    "body_graphs = {}\n",
    "for i in body_info:\n",
    "    body_graphs[i] = list(body_info[i][1].edges())\n",
    "with open('saved_data/body_graphs.json', 'w') as fp:\n",
    "    json.dump(body_graphs, fp)\n",
    "    \n",
    "headline_graphs = {}\n",
    "for i in headline_info:\n",
    "    headline_graphs[i] = list(headline_info[i][-1])\n",
    "with open('saved_data/headline_edges.json', 'w') as fp:\n",
    "    json.dump(headline_graphs, fp)"
   ]
  },
  {
   "cell_type": "code",
   "execution_count": 27,
   "metadata": {
    "collapsed": true
   },
   "outputs": [],
   "source": [
    "def get_sentence_vec(s):\n",
    "    vecs = [token.vector for token in s]\n",
    "    return np.nan_to_num(np.product(vecs, axis = 0))\n",
    "\n",
    "def get_features(stance_df, n_sent = 5):\n",
    "    start = time.time()\n",
    "    data = list(stance_df.values)\n",
    "    features = []\n",
    "    actual = []\n",
    "    for item in data:\n",
    "        h, b, s = tuple(item)\n",
    "        headline, headline_graph, headline_subjs, headline_svo, headline_root_dist, headline_neg_ancestors, headline_edges  = headline_info[h]\n",
    "        body, body_graph = body_info[b]\n",
    "        \n",
    "        h_important_words = set(headline_subjs[\"_vocab\"]).union(set(headline_svo[0])).union(set(headline_svo[1])).union(set(headline_svo[2]))\n",
    "        \n",
    "        #sometimes the coref deletes bodies that are one sentence\n",
    "        if len(body) == 0:\n",
    "            body = nlp(preprocess(get_body(b)))\n",
    "            body_graph = build_graph(body)\n",
    "\n",
    "        #return the shortest path to negating word for each subject in headline_subjs, if one exists\n",
    "        neg_h = get_shortest_path_to_negating(headline_graph, h_important_words)\n",
    "        neg_b = get_shortest_path_to_negating(body_graph, h_important_words)\n",
    "\n",
    "        #body summary\n",
    "        summary = get_summary(body, h_important_words, n_sent)\n",
    "        first_summ_sentence = summary[0]\n",
    "        \n",
    "        summary_svos = [get_svos(s) for s in summary]\n",
    "        summary_root_dist = [root_distance(body_graph, list(s[1].keys())[0]) for s in summary_svos]\n",
    "        summary_neg_ancestors = [get_neg_ancestors(s) for s in summary]\n",
    "        summary_neg_counts = [s[3:] for s in summary_neg_ancestors]\n",
    "        \n",
    "        summary_neg_ancestors_superset = [set(), set(), set()]\n",
    "        for a in summary_neg_ancestors:\n",
    "            summary_neg_ancestors_superset[0] = summary_neg_ancestors_superset[0].union(a[0])\n",
    "            summary_neg_ancestors_superset[1] = summary_neg_ancestors_superset[1].union(a[1])\n",
    "            summary_neg_ancestors_superset[2] = summary_neg_ancestors_superset[2].union(a[2])\n",
    "            \n",
    "        #ancestors\n",
    "        h_anc = [[1 if w in headline_neg_ancestors[0] else -1 for w in h_important_words],\n",
    "                [1 if w in headline_neg_ancestors[1] else -1 for w in h_important_words],\n",
    "                [1 if w in headline_neg_ancestors[2] else -1 for w in h_important_words]]\n",
    "        b_anc = [[1 if w in summary_neg_ancestors_superset[0] else -1 for w in h_important_words],\n",
    "                [1 if w in summary_neg_ancestors_superset[1] else -1 for w in h_important_words],\n",
    "                [1 if w in summary_neg_ancestors_superset[2] else -1 for w in h_important_words]]    \n",
    "        neg_anc_sim = cosine_similarity(h_anc[0], b_anc[0])\n",
    "        doubt_anc_sim = cosine_similarity(h_anc[1], b_anc[1])\n",
    "        hedge_anc_sim = cosine_similarity(h_anc[2], b_anc[2])\n",
    "        neg_anc_overlap = len(headline_neg_ancestors[0].union(summary_neg_ancestors_superset[0]))\n",
    "        doubt_anc_overlap = len(headline_neg_ancestors[1].union(summary_neg_ancestors_superset[1]))\n",
    "        hedge_anc_overlap = len(headline_neg_ancestors[2].union(summary_neg_ancestors_superset[2]))\n",
    "        #svo\n",
    "        body_s, body_v, body_o = {}, {}, {}\n",
    "        headline_s, headline_v, headline_o = headline_svo\n",
    "        for svo in summary_svos:\n",
    "            body_s.update(svo[0])\n",
    "            body_v.update(svo[1])\n",
    "            body_o.update(svo[2])\n",
    "        body_s_vec = list(np.sum([body_s[s].vector for s in body_s], axis = 0)) if len(body_s) > 0 else np.zeros(384)\n",
    "        body_v_vec = list(np.sum([body_v[s].vector for s in body_v], axis = 0)) if len(body_v) > 0 else np.zeros(384)\n",
    "        body_o_vec = list(np.sum([body_o[s].vector for s in body_o], axis = 0)) if len(body_o) > 0 else np.zeros(384)\n",
    "    \n",
    "        headline_s_vec = list(np.sum([headline_s[s].vector for s in headline_s], axis = 0)) if len(headline_s) > 0 else np.zeros(384)\n",
    "        headline_v_vec = list(np.sum([headline_v[s].vector for s in headline_v], axis = 0)) if len(headline_v) > 0 else np.zeros(384)\n",
    "        headline_o_vec = list(np.sum([headline_o[s].vector for s in headline_o], axis = 0)) if len(headline_o) > 0 else np.zeros(384)\n",
    "        \n",
    "        cos_sim_s = cosine_similarity(body_s_vec, headline_s_vec)\n",
    "        cos_sim_v = cosine_similarity(body_v_vec, headline_v_vec)\n",
    "        cos_sim_o = cosine_similarity(body_o_vec, headline_o_vec)\n",
    "        \n",
    "        #negating paths\n",
    "        headline_paths = [neg_h[x] for x in neg_h]\n",
    "        headline_neg_paths = [1 if x[0] != None else -1 for x in headline_paths]\n",
    "        headline_doubt_paths = [1 if x[1] != None else -1 for x in headline_paths]\n",
    "        headline_hedge_paths = [1 if x[2] != None else -1 for x in headline_paths]\n",
    "        body_paths = [neg_b[x] for x in neg_h]\n",
    "        body_neg_paths = [1 if x[0] != None else -1 for x in body_paths]\n",
    "        body_doubt_paths = [1 if x[1] != None else -1 for x in body_paths]\n",
    "        body_hedge_paths = [1 if x[2] != None else -1 for x in body_paths]\n",
    "        \n",
    "        neg_path_cos_sim = cosine_similarity(headline_neg_paths, body_neg_paths)\n",
    "        hedge_path_cos_sim = cosine_similarity(headline_hedge_paths, body_hedge_paths)\n",
    "        doubt_path_cos_sim = cosine_similarity(headline_doubt_paths, body_doubt_paths)\n",
    "        \n",
    "        #root distance\n",
    "        summary_root_dists = [x if x != None else 15 for x in summary_root_dist]\n",
    "        avg_summary_root_dist = sum(summary_root_dists)/len(summary_root_dists)\n",
    "        root_dist_feats = [headline_root_dist, avg_summary_root_dist]\n",
    "        root_dist_feats = [x/15 if x != None else 1 for x in root_dist_feats]\n",
    "        root_dist_feats = root_dist_feats + [int(headline_root_dist == None), len([x for x in summary_root_dist if x != None])]\n",
    "    \n",
    "        #sentiment\n",
    "        headline_sent = get_sentiment(headline.text)\n",
    "        body_sents = [get_sentiment(s.text) for s in summary]\n",
    "        avg_body_sent = list(np.mean(body_sents, axis = 0))\n",
    "        diff_avg_sents = list(np.array(headline_sent) - avg_body_sent)\n",
    "        diff_sents = list(np.sum([get_diff_sentiment(headline_sent, s) for s in body_sents], axis = 0))\n",
    "        sent_cos_sim = cosine_similarity(headline_sent, avg_body_sent)\n",
    "\n",
    "        headline_sentics = get_sentics(headline.text)\n",
    "        body_sentics = [get_sentics(s.text) for s in summary]\n",
    "        avg_body_sentics = list(np.mean(body_sentics, axis = 0))\n",
    "        diff_avg_sentics = list(np.array(headline_sentics) - avg_body_sentics)\n",
    "        diff_sentics = list(np.sum([get_diff_sentiment(headline_sentics, s) for s in body_sentics], axis = 0))\n",
    "        sentics_cos_sim = cosine_similarity(headline_sentics, avg_body_sentics)\n",
    "        \n",
    "        #bow\n",
    "        headline_vocab = set([tok.lemma_.lower() for tok in headline])\n",
    "        fst_summ_vocab = set([tok.lemma_.lower() for tok in first_summ_sentence])\n",
    "        total_vocab = list(headline_vocab.union(fst_summ_vocab))\n",
    "        headline_embedding = [1 if tok in headline_vocab else -1 for tok in total_vocab]\n",
    "        fst_summ_embedding = [1 if tok in fst_summ_vocab else -1 for tok in total_vocab]\n",
    "        bow_cos_sim = cosine_similarity(headline_embedding, fst_summ_embedding)\n",
    "        \n",
    "        #word vecs\n",
    "        cos_sims = [cosine_similarity(get_sentence_vec(s), headline.vector) for s in summary]\n",
    "        fst_cos_sim = cos_sims[0]\n",
    "        avg_cos_sim = sum(cos_sims)/len(cos_sims)\n",
    "        \n",
    "        #neg_hedge_doubt distributions\n",
    "        hd_dist = list(headline_neg_ancestors[3:])\n",
    "        body_dist = list(np.sum(summary_neg_counts, axis = 0))\n",
    "        dist_sim = cosine_similarity(hd_dist, body_dist)\n",
    "        #build final features list\n",
    "        fts = (\n",
    "            [fst_cos_sim, avg_cos_sim, bow_cos_sim, \n",
    "                neg_path_cos_sim, hedge_path_cos_sim, doubt_path_cos_sim,\n",
    "                neg_anc_sim, hedge_anc_sim, doubt_anc_sim,\n",
    "                neg_anc_overlap, hedge_anc_overlap, doubt_anc_overlap,\n",
    "                cos_sim_s, cos_sim_v, cos_sim_o,\n",
    "                dist_sim, sent_cos_sim, sentics_cos_sim] + \n",
    "            diff_avg_sents + diff_sents + diff_avg_sentics + diff_sentics + \n",
    "            root_dist_feats + hd_dist + body_dist +\n",
    "            headline_sent + avg_body_sent + headline_sentics + avg_body_sentics\n",
    "        )\n",
    "        features.append(fts)\n",
    "        actual.append(s)\n",
    "    end = time.time()\n",
    "    print(int(end-start))\n",
    "    return features, actual"
   ]
  },
  {
   "cell_type": "markdown",
   "metadata": {},
   "source": [
    "# Generate Features from headline/body pairs"
   ]
  },
  {
   "cell_type": "code",
   "execution_count": 28,
   "metadata": {},
   "outputs": [
    {
     "name": "stderr",
     "output_type": "stream",
     "text": [
      "/Library/Frameworks/Python.framework/Versions/3.6/lib/python3.6/site-packages/numpy/core/fromnumeric.py:83: RuntimeWarning: overflow encountered in reduce\n",
      "  return ufunc.reduce(obj, axis, dtype, out, **passkwargs)\n"
     ]
    },
    {
     "name": "stdout",
     "output_type": "stream",
     "text": [
      "307\n"
     ]
    }
   ],
   "source": [
    "stance_data = get_features(train_stances, 5)\n",
    "stance_dict = {}\n",
    "for idx, d in enumerate(list(train_stances.values)):\n",
    "    h, b, s = d\n",
    "    stance_dict[(h, b)] = stance_data[0][idx]"
   ]
  },
  {
   "cell_type": "code",
   "execution_count": 29,
   "metadata": {},
   "outputs": [
    {
     "data": {
      "text/plain": [
       "[[0.11802282236784989,\n",
       "  -0.05183889497504209,\n",
       "  -0.7872340425531914,\n",
       "  0.33333333333333326,\n",
       "  1.0,\n",
       "  0.33333333333333326,\n",
       "  1.0,\n",
       "  1.0,\n",
       "  1.0,\n",
       "  2,\n",
       "  0,\n",
       "  0,\n",
       "  0.6168395687891529,\n",
       "  -0.020541000941550314,\n",
       "  0.6307555678279209,\n",
       "  0,\n",
       "  0.9939434307009911,\n",
       "  0.9249589911238665,\n",
       "  -0.03183333333333333,\n",
       "  0.0,\n",
       "  0.03183333333333327,\n",
       "  -0.1022,\n",
       "  -0.191,\n",
       "  0.0,\n",
       "  0.19099999999999995,\n",
       "  -0.6132,\n",
       "  0.02938333333333333,\n",
       "  0.0993333333333333,\n",
       "  0.12477499999999997,\n",
       "  -0.04901666666666666,\n",
       "  -0.025458333333333357,\n",
       "  0.17630000000000004,\n",
       "  0.5959999999999999,\n",
       "  0.7486499999999999,\n",
       "  -0.2940999999999999,\n",
       "  -0.15275000000000008,\n",
       "  1,\n",
       "  0.7666666666666667,\n",
       "  1,\n",
       "  6,\n",
       "  0,\n",
       "  0,\n",
       "  0,\n",
       "  1,\n",
       "  0,\n",
       "  0,\n",
       "  0.0,\n",
       "  0.0,\n",
       "  1.0,\n",
       "  0.0,\n",
       "  0.03183333333333333,\n",
       "  0.0,\n",
       "  0.9681666666666667,\n",
       "  0.1022,\n",
       "  0.094,\n",
       "  0.261,\n",
       "  0.142,\n",
       "  -0.06,\n",
       "  -0.05,\n",
       "  0.06461666666666667,\n",
       "  0.1616666666666667,\n",
       "  0.017225000000000018,\n",
       "  -0.01098333333333334,\n",
       "  -0.024541666666666646],\n",
       " [-0.13780430172058988,\n",
       "  -0.042053238340480616,\n",
       "  -0.7142857142857142,\n",
       "  0.33333333333333337,\n",
       "  0.33333333333333337,\n",
       "  0.33333333333333337,\n",
       "  1.0000000000000002,\n",
       "  0.6666666666666667,\n",
       "  1.0000000000000002,\n",
       "  6,\n",
       "  12,\n",
       "  7,\n",
       "  0.3078858009203751,\n",
       "  0.5169162039461733,\n",
       "  0.8296829721537275,\n",
       "  0,\n",
       "  0.9863143149219025,\n",
       "  -0.6835770642341839,\n",
       "  -0.027,\n",
       "  -0.0735,\n",
       "  0.10049999999999992,\n",
       "  0.12836666666666666,\n",
       "  -0.162,\n",
       "  -0.441,\n",
       "  0.603,\n",
       "  0.7702,\n",
       "  -0.5349166666666667,\n",
       "  -0.4327361111111112,\n",
       "  0.02686574074074074,\n",
       "  0.4037175925925926,\n",
       "  -0.5756759259259259,\n",
       "  -3.2095000000000002,\n",
       "  -2.596416666666667,\n",
       "  0.16119444444444453,\n",
       "  2.4223055555555555,\n",
       "  -3.4540555555555557,\n",
       "  1,\n",
       "  0.14444444444444443,\n",
       "  1,\n",
       "  6,\n",
       "  0,\n",
       "  0,\n",
       "  0,\n",
       "  2,\n",
       "  3,\n",
       "  5,\n",
       "  0.0,\n",
       "  0.0,\n",
       "  1.0,\n",
       "  0.0,\n",
       "  0.027,\n",
       "  0.0735,\n",
       "  0.8995000000000001,\n",
       "  -0.12836666666666666,\n",
       "  -0.3875,\n",
       "  -0.29000000000000004,\n",
       "  -0.03,\n",
       "  0.4355,\n",
       "  -0.474,\n",
       "  0.14741666666666667,\n",
       "  0.14273611111111115,\n",
       "  -0.05686574074074074,\n",
       "  0.031782407407407405,\n",
       "  0.10167592592592593],\n",
       " [0.1180844841120332,\n",
       "  0.05749090152208582,\n",
       "  -0.040000000000000036,\n",
       "  0.33333333333333326,\n",
       "  0.7333333333333333,\n",
       "  0.33333333333333326,\n",
       "  0.9999999999999999,\n",
       "  0.9999999999999999,\n",
       "  0.33333333333333326,\n",
       "  0,\n",
       "  0,\n",
       "  5,\n",
       "  0.4944904016924465,\n",
       "  0.34445463732695136,\n",
       "  0.5524339811268295,\n",
       "  0,\n",
       "  0.904366724481263,\n",
       "  0,\n",
       "  -0.046000000000000006,\n",
       "  0.12100000000000002,\n",
       "  -0.07499999999999996,\n",
       "  -0.40285000000000004,\n",
       "  -0.276,\n",
       "  0.7260000000000002,\n",
       "  -0.4500000000000002,\n",
       "  -2.4171,\n",
       "  -0.12757142857142859,\n",
       "  -0.22976046176046175,\n",
       "  -0.18517171717171713,\n",
       "  -0.032474747474747476,\n",
       "  -0.09113708513708513,\n",
       "  -0.7654285714285715,\n",
       "  -1.3785627705627705,\n",
       "  -1.1110303030303028,\n",
       "  -0.19484848484848485,\n",
       "  -0.5468225108225108,\n",
       "  0.3333333333333333,\n",
       "  0.2555555555555556,\n",
       "  0,\n",
       "  6,\n",
       "  0,\n",
       "  1,\n",
       "  0,\n",
       "  0,\n",
       "  0,\n",
       "  0,\n",
       "  0.0,\n",
       "  0.267,\n",
       "  0.733,\n",
       "  -0.6249,\n",
       "  0.046000000000000006,\n",
       "  0.146,\n",
       "  0.8079999999999999,\n",
       "  -0.22205,\n",
       "  0,\n",
       "  0,\n",
       "  0,\n",
       "  0,\n",
       "  0,\n",
       "  0.12757142857142859,\n",
       "  0.22976046176046175,\n",
       "  0.18517171717171713,\n",
       "  0.032474747474747476,\n",
       "  0.09113708513708513]]"
      ]
     },
     "execution_count": 29,
     "metadata": {},
     "output_type": "execute_result"
    }
   ],
   "source": [
    "list(stance_dict.values())[0:3]"
   ]
  },
  {
   "cell_type": "code",
   "execution_count": 33,
   "metadata": {
    "collapsed": true
   },
   "outputs": [],
   "source": [
    "def train_multiple(models, samplings = []):\n",
    "    \"\"\"\n",
    "    helper function for training on models\n",
    "    this isn't true K-fold CV because of the way we do our splits and augmentation\n",
    "    models: a list of instantiated models\n",
    "    sampling: list of 3 ints, representing how much we should oversample agree, disagree, discuss\n",
    "            for example, [1,1,2] will sample each discuss item twice\n",
    "    \"\"\"\n",
    "    stances_tr, stances_val = train_test_split(train_bodies, train_stances)\n",
    "    disagrees = stances_tr[stances_tr[\"Stance\"]==\"disagree\"]\n",
    "    agrees = stances_tr[stances_tr[\"Stance\"]==\"agree\"]\n",
    "    discusses = stances_tr[stances_tr[\"Stance\"]==\"discuss\"]\n",
    "    for m in range(len(models)):\n",
    "        sampling = samplings[m]\n",
    "        model = models[m]\n",
    "        print(\"Model \"+str(m + 1))\n",
    "        disagrees_ = disagrees.sample(frac=sampling[1], replace = True).reset_index(drop=True)\n",
    "        agrees_ = agrees.sample(frac=sampling[0], replace = True).reset_index(drop=True)\n",
    "        discusses_ = discusses.sample(frac=sampling[2], replace = True).reset_index(drop=True)\n",
    "        stances_tr_augmented = pd.concat((agrees_, disagrees_, discusses_)).sample(frac=1).reset_index(drop=True)\n",
    "        training_data = [[],[]]\n",
    "        for h,b,s in list(stances_tr_augmented.values):\n",
    "            training_data[0].append(stance_dict[(h,b)])\n",
    "            training_data[1].append(s)\n",
    "        testing_data = [[],[]]\n",
    "        for h,b,s in list(stances_val.values):\n",
    "            testing_data[0].append(stance_dict[(h,b)])\n",
    "            testing_data[1].append(s)\n",
    "        c1, c2 = Counter(training_data[1]), Counter(testing_data[1])\n",
    "        baseline_tr = max([c1['agree'],c1['disagree'],c1['discuss']])/(c1['agree']+c1['disagree']+c1['discuss'])\n",
    "        baseline_val = max([c2['agree'],c2['disagree'],c2['discuss']])/(c2['agree']+c2['disagree']+c2['discuss'])\n",
    "        print(\"Training Baseline {0:.2f}% Testing Baseline {1:.2f}%\".format(baseline_tr * 100, baseline_val * 100))\n",
    "        model.fit(training_data[0], training_data[1])\n",
    "        tr_acc = model.score(training_data[0], training_data[1])\n",
    "        print('{0:.2f}% training accuracy, vs Baseline {1:.2f}%'.format(tr_acc*100, (tr_acc-baseline_tr)*100))\n",
    "        val_acc = model.score(testing_data[0], testing_data[1])\n",
    "        print('{0:.2f}% validation accuracy, vs Baseline {1:.2f}%'.format(val_acc*100, (val_acc-baseline_val)*100))\n",
    "    training_data = [[],[]]\n",
    "    for h,b,s in list(stances_tr.values):\n",
    "        training_data[0].append(stance_dict[(h,b)])\n",
    "        training_data[1].append(s)\n",
    "    testing_data = [[],[]]\n",
    "    for h,b,s in list(stances_val.values):\n",
    "        testing_data[0].append(stance_dict[(h,b)])\n",
    "        testing_data[1].append(s)\n",
    "    fold_data = training_data, testing_data\n",
    "    print(\"done!\")\n",
    "    return models, fold_data"
   ]
  },
  {
   "cell_type": "code",
   "execution_count": 31,
   "metadata": {
    "collapsed": true
   },
   "outputs": [],
   "source": [
    "def label_to_int(labels):\n",
    "    return [(1 if l == \"agree\" else (0 if l == \"discuss\" else -1)) for l in labels]"
   ]
  },
  {
   "cell_type": "markdown",
   "metadata": {},
   "source": [
    "# Simple Model"
   ]
  },
  {
   "cell_type": "code",
   "execution_count": 32,
   "metadata": {
    "scrolled": true
   },
   "outputs": [
    {
     "name": "stdout",
     "output_type": "stream",
     "text": [
      "Counter({'discuss': 7205, 'agree': 4119, 'disagree': 4068}) Counter({'discuss': 1704, 'agree': 736, 'disagree': 162})\n",
      "Training Baseline 46.81% Testing Baseline 65.49%\n",
      "88.25% training accuracy\n",
      "68.45% validation accuracy\n",
      "Baseline comparison: TR 41.44% VAL 2.96%\n",
      "-------------------------------------------------------------\n",
      "|           |   agree   | disagree  |  discuss  | unrelated |\n",
      "-------------------------------------------------------------\n",
      "|   agree   |    288    |    38     |    410    |     0     |\n",
      "-------------------------------------------------------------\n",
      "| disagree  |    18     |    46     |    98     |     0     |\n",
      "-------------------------------------------------------------\n",
      "|  discuss  |    140    |    117    |   1447    |     0     |\n",
      "-------------------------------------------------------------\n",
      "| unrelated |     0     |     0     |     0     |     0     |\n",
      "-------------------------------------------------------------\n",
      "Score: 1986.25 out of 2602.0\t(76.33551114527286%)\n",
      "F1 Score\n",
      "[0.48730964 0.25344353 0.79092648]\n",
      "Avg Precision Score\n",
      "[0.64573991 0.22885572 0.74015345]\n",
      "Normalized confusion matrix\n",
      "[[0.39130435 0.05163043 0.55706522]\n",
      " [0.11111111 0.28395062 0.60493827]\n",
      " [0.08215962 0.06866197 0.8491784 ]]\n"
     ]
    },
    {
     "data": {
      "image/png": "[encoded data removed]",
      "text/plain": [
       "<matplotlib.figure.Figure at 0x13d1dfb38>"
      ]
     },
     "metadata": {},
     "output_type": "display_data"
    }
   ],
   "source": [
    "sampling = [1.4,6,1]\n",
    "stances_tr, stances_val = train_test_split(train_bodies, train_stances)\n",
    "disagrees = stances_tr[stances_tr[\"Stance\"]==\"disagree\"].sample(frac=sampling[1], replace = True).reset_index(drop=True)\n",
    "agrees = stances_tr[stances_tr[\"Stance\"]==\"agree\"].sample(frac=sampling[0], replace = True).reset_index(drop=True)\n",
    "discusses = stances_tr[stances_tr[\"Stance\"]==\"discuss\"].sample(frac=sampling[2], replace = True).reset_index(drop=True)\n",
    "stances_tr_augmented = pd.concat((agrees, disagrees, discusses)).sample(frac=1).reset_index(drop=True)\n",
    "training_data = [[],[]]\n",
    "for h,b,s in list(stances_tr_augmented.values):\n",
    "    training_data[0].append(stance_dict[(h,b)])\n",
    "    training_data[1].append(s)\n",
    "testing_data = [[],[]]\n",
    "for h,b,s in list(stances_val.values):\n",
    "    testing_data[0].append(stance_dict[(h,b)])\n",
    "    testing_data[1].append(s)\n",
    "c1, c2 = Counter(training_data[1]), Counter(testing_data[1])\n",
    "baseline_tr = max([c1['agree'],c1['disagree'],c1['discuss']])/(c1['agree']+c1['disagree']+c1['discuss'])\n",
    "baseline_val = max([c2['agree'],c2['disagree'],c2['discuss']])/(c2['agree']+c2['disagree']+c2['discuss'])\n",
    "print(c1, c2)\n",
    "print(\"Training Baseline {0:.2f}% Testing Baseline {1:.2f}%\".format(baseline_tr * 100, baseline_val * 100))\n",
    "\n",
    "model = RandomForestClassifier(max_depth = 10, n_estimators=500, random_state = 0)\n",
    "#model = LogisticRegression(max_iter = 200)\n",
    "# model = SVC()\n",
    "# model = GradientBoostingClassifier(n_estimators = 500, subsample = 0.1, learning_rate = 0.01, random_state=0)\n",
    "# models = list(trained_models)\n",
    "\n",
    "model.fit(training_data[0], training_data[1])\n",
    "tr_acc = model.score(training_data[0], training_data[1])\n",
    "print('{0:.2f}% training accuracy'.format(tr_acc*100))\n",
    "\n",
    "val_acc = model.score(testing_data[0], testing_data[1])\n",
    "print('{0:.2f}% validation accuracy'.format(val_acc*100))\n",
    "print(\"Baseline comparison: TR {0:.2f}% VAL {1:.2f}%\".format((tr_acc-baseline_tr)*100,(val_acc-baseline_val)*100))\n",
    "\n",
    "actual = testing_data[1]\n",
    "predicted = model.predict(testing_data[0])\n",
    "# actual = actual + [\"unrelated\"] * 7500\n",
    "# predicted = np.concatenate((predicted, [\"unrelated\"] * 7500),axis = 0)\n",
    "sc.report_score(actual, predicted)\n",
    "print(\"F1 Score\")\n",
    "print(f1_score(actual, predicted, average = None))\n",
    "print(\"Avg Precision Score\")\n",
    "print(precision_score(actual, predicted, average = None))\n",
    "matrix = confusion_matrix(actual,predicted)\n",
    "plot_confusion_matrix(matrix, classes=[\"agree\",\"disagree\", \"discuss\"],\n",
    "                      title='Normalized confusion matrix')\n",
    "plt.show()"
   ]
  },
  {
   "cell_type": "markdown",
   "metadata": {},
   "source": [
    "# Stacked Model"
   ]
  },
  {
   "cell_type": "code",
   "execution_count": 89,
   "metadata": {
    "scrolled": true
   },
   "outputs": [
    {
     "name": "stdout",
     "output_type": "stream",
     "text": [
      "Model 1\n",
      "Training Baseline 33.77% Testing Baseline 66.25%\n",
      "100.00% training accuracy, vs Baseline 66.23%\n",
      "68.85% validation accuracy, vs Baseline 2.60%\n",
      "Model 2\n",
      "Training Baseline 66.38% Testing Baseline 66.25%\n",
      "100.00% training accuracy, vs Baseline 33.62%\n",
      "69.93% validation accuracy, vs Baseline 3.68%\n",
      "Model 3\n",
      "Training Baseline 47.64% Testing Baseline 66.25%\n",
      "100.00% training accuracy, vs Baseline 52.36%\n",
      "70.82% validation accuracy, vs Baseline 4.57%\n",
      "Model 4\n",
      "Training Baseline 33.77% Testing Baseline 66.25%\n",
      "55.73% training accuracy, vs Baseline 21.96%\n",
      "52.71% validation accuracy, vs Baseline -13.53%\n",
      "Model 5\n",
      "Training Baseline 47.64% Testing Baseline 66.25%\n",
      "57.48% training accuracy, vs Baseline 9.84%\n",
      "60.82% validation accuracy, vs Baseline -5.43%\n",
      "done!\n",
      "97.69% training accuracy\n",
      "70.41% validation accuracy\n",
      "Baseline comparison: TR 49.49% VAL 4.35%\n",
      "-------------------------------------------------------------\n",
      "|           |   agree   | disagree  |  discuss  | unrelated |\n",
      "-------------------------------------------------------------\n",
      "|   agree   |    281    |     3     |    483    |     0     |\n",
      "-------------------------------------------------------------\n",
      "| disagree  |    19     |     3     |    119    |     0     |\n",
      "-------------------------------------------------------------\n",
      "|  discuss  |    158    |    14     |   1610    |     0     |\n",
      "-------------------------------------------------------------\n",
      "| unrelated |     0     |     0     |     0     |     0     |\n",
      "-------------------------------------------------------------\n",
      "Score: 2093.0 out of 2690.0\t(77.80669144981412%)\n",
      "F1 Score\n",
      "[0.45877551 0.03726708 0.80620931]\n",
      "Avg Precision Score\n",
      "[0.61353712 0.15       0.7278481 ]\n",
      "Normalized confusion matrix\n",
      "[[0.36636245 0.00391134 0.62972621]\n",
      " [0.13475177 0.0212766  0.84397163]\n",
      " [0.08866442 0.00785634 0.90347924]]\n"
     ]
    },
    {
     "data": {
      "image/png": "[encoded data removed]",
      "text/plain": [
       "<matplotlib.figure.Figure at 0x20cb15fd0>"
      ]
     },
     "metadata": {},
     "output_type": "display_data"
    }
   ],
   "source": [
    "models = [\n",
    "RandomForestClassifier(n_estimators = 400),\n",
    "RandomForestClassifier(n_estimators = 400),\n",
    "RandomForestClassifier(n_estimators = 400), \n",
    "LogisticRegression(),\n",
    "LogisticRegression(), #, subsample = 0.2, learning_rate = 0.025, random_state=0, min_samples_leaf = 3),\n",
    "]\n",
    "trained_models, trained_data = train_multiple(models, [\n",
    "    [2.4,10,1], \n",
    "    [1,1,1], \n",
    "    [1.25,6,1],\n",
    "    [2.4,10,1],\n",
    "    [1.25,6,1],\n",
    "])\n",
    "\n",
    "model = DecisionTreeClassifier()\n",
    "models = list(trained_models)\n",
    "training_data = trained_data[0]\n",
    "testing_data = trained_data[1]\n",
    "preds = [label_to_int(m.predict(training_data[0])) for m in models]\n",
    "model.fit(np.swapaxes(preds,0,1), training_data[1])\n",
    "tr_acc = model.score(np.swapaxes(preds,0,1), training_data[1])\n",
    "print('{0:.2f}% training accuracy'.format(tr_acc*100))\n",
    "\n",
    "test_preds = [label_to_int(m.predict(testing_data[0])) for m in models]\n",
    "val_acc = model.score(np.swapaxes(test_preds,0,1), testing_data[1])\n",
    "print('{0:.2f}% validation accuracy'.format(val_acc*100))\n",
    "print(\"Baseline comparison: TR {0:.2f}% VAL {1:.2f}%\".format((tr_acc-baseline_tr)*100,(val_acc-baseline_val)*100))\n",
    "\n",
    "actual = testing_data[1]\n",
    "predicted = model.predict(np.swapaxes(test_preds,0,1))\n",
    "sc.report_score(actual, predicted)\n",
    "print(\"F1 Score\")\n",
    "print(f1_score(actual, predicted, average = None))\n",
    "print(\"Avg Precision Score\")\n",
    "print(precision_score(actual, predicted, average = None))\n",
    "matrix = confusion_matrix(actual,predicted)\n",
    "plot_confusion_matrix(matrix, classes=[\"agree\",\"disagree\", \"discuss\"],\n",
    "                      title='Normalized confusion matrix')\n",
    "plt.show()"
   ]
  },
  {
   "cell_type": "markdown",
   "metadata": {
    "collapsed": true
   },
   "source": [
    "# Train and Save Final Model"
   ]
  },
  {
   "cell_type": "code",
   "execution_count": 34,
   "metadata": {},
   "outputs": [
    {
     "name": "stdout",
     "output_type": "stream",
     "text": [
      "Counter({'discuss': 8909, 'agree': 5149, 'disagree': 5040})\n",
      "Training Baseline 46.65% Testing Baseline 65.49%\n"
     ]
    },
    {
     "data": {
      "text/plain": [
       "['saved_models/stance_detection_trained.joblib']"
      ]
     },
     "execution_count": 34,
     "metadata": {},
     "output_type": "execute_result"
    }
   ],
   "source": [
    "sampling = [1.4,6,1]\n",
    "stances_tr = train_stances\n",
    "disagrees = stances_tr[stances_tr[\"Stance\"]==\"disagree\"].sample(frac=sampling[1], replace = True).reset_index(drop=True)\n",
    "agrees = stances_tr[stances_tr[\"Stance\"]==\"agree\"].sample(frac=sampling[0], replace = True).reset_index(drop=True)\n",
    "discusses = stances_tr[stances_tr[\"Stance\"]==\"discuss\"].sample(frac=sampling[2], replace = True).reset_index(drop=True)\n",
    "stances_tr_augmented = pd.concat((agrees, disagrees, discusses)).sample(frac=1).reset_index(drop=True)\n",
    "training_data = [[],[]]\n",
    "for h,b,s in list(stances_tr_augmented.values):\n",
    "    training_data[0].append(stance_dict[(h,b)])\n",
    "    training_data[1].append(s)\n",
    "testing_data = [[],[]]\n",
    "c1 = Counter(training_data[1])\n",
    "baseline_tr = max([c1['agree'],c1['disagree'],c1['discuss']])/(c1['agree']+c1['disagree']+c1['discuss'])\n",
    "print(c1)\n",
    "print(\"Training Baseline {0:.2f}% Testing Baseline {1:.2f}%\".format(baseline_tr * 100, baseline_val * 100))\n",
    "\n",
    "model = RandomForestClassifier(max_depth = 10, n_estimators=500, random_state = 0)\n",
    "#model = LogisticRegression(max_iter = 200)\n",
    "# model = SVC()\n",
    "# model = GradientBoostingClassifier(n_estimators = 500, subsample = 0.1, learning_rate = 0.01, random_state=0)\n",
    "# models = list(trained_models)\n",
    "\n",
    "model.fit(training_data[0], training_data[1])\n",
    "\n",
    "from joblib import dump, load\n",
    "dump(model, 'saved_models/stance_detection_trained.joblib')"
   ]
  },
  {
   "cell_type": "code",
   "execution_count": null,
   "metadata": {
    "collapsed": true
   },
   "outputs": [],
   "source": []
  }
 ],
 "metadata": {
  "kernelspec": {
   "display_name": "Python 3",
   "language": "python",
   "name": "python3"
  },
  "language_info": {
   "codemirror_mode": {
    "name": "ipython",
    "version": 3
   },
   "file_extension": ".py",
   "mimetype": "text/x-python",
   "name": "python",
   "nbconvert_exporter": "python",
   "pygments_lexer": "ipython3",
   "version": "3.6.0"
  }
 },
 "nbformat": 4,
 "nbformat_minor": 2
}
