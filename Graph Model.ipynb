{
 "cells": [
  {
   "cell_type": "code",
   "execution_count": 76,
   "metadata": {},
   "outputs": [],
   "source": [
    "import numpy as np\n",
    "import pandas as pd\n",
    "import spacy\n",
    "import networkx as nx\n",
    "import score as sc\n",
    "import time\n",
    "from sklearn.metrics import confusion_matrix, pairwise\n",
    "from scipy.spatial import distance\n",
    "from preprocessing.utils import plot_confusion_matrix\n",
    "import matplotlib.pyplot as plt\n",
    "import nltk\n",
    "from collections import Counter, defaultdict\n",
    "#https://github.com/huggingface/neuralcoref\n",
    "#note: this NEEDS spacy 2.0.12 to work! downgrade with pip install spacy=2.0.12\n",
    "import en_coref_md\n",
    "nlp = spacy.load('en_core_web_sm')\n",
    "coref = en_coref_md.load()"
   ]
  },
  {
   "cell_type": "code",
   "execution_count": 303,
   "metadata": {
    "collapsed": true
   },
   "outputs": [],
   "source": [
    "from vaderSentiment.vaderSentiment import SentimentIntensityAnalyzer\n",
    "vader = SentimentIntensityAnalyzer()\n",
    "def get_sentiment(sentence):\n",
    "    sent =  vader.polarity_scores(sentence.text)\n",
    "    return [sent[\"pos\"],sent[\"neg\"],sent[\"neu\"],sent[\"compound\"]]\n",
    "\n",
    "def get_avg_sentiment(lst):\n",
    "    sents = np.array([get_sentiment(s) for s in lst])\n",
    "    return list(np.mean(sents, axis = 0))\n",
    "\n",
    "def get_diff_sentiment(a,b):\n",
    "    return list(np.absolute(np.array(a) - np.array(b)))"
   ]
  },
  {
   "cell_type": "code",
   "execution_count": 41,
   "metadata": {
    "collapsed": true
   },
   "outputs": [],
   "source": [
    "def train_test_split(bodies, stances, split=0.8):\n",
    "    idx = np.random.permutation(np.arange(len(bodies)))\n",
    "    bodies = bodies.values[idx]\n",
    "    train = int(len(bodies)*0.8)\n",
    "    bodies_tr = set([i[0] for i in bodies[:train]])\n",
    "    bodies_val = set([i[0] for i in bodies[train:]])\n",
    "    stances_tr = stances.loc[stances[\"Body ID\"].isin(bodies_tr), :]\n",
    "    stances_val = stances.loc[stances[\"Body ID\"].isin(bodies_val), :]\n",
    "    return stances_tr, stances_val"
   ]
  },
  {
   "cell_type": "code",
   "execution_count": 42,
   "metadata": {},
   "outputs": [
    {
     "name": "stdout",
     "output_type": "stream",
     "text": [
      "(13427, 3)\n"
     ]
    },
    {
     "data": {
      "text/html": [
       "<div>\n",
       "<style>\n",
       "    .dataframe thead tr:only-child th {\n",
       "        text-align: right;\n",
       "    }\n",
       "\n",
       "    .dataframe thead th {\n",
       "        text-align: left;\n",
       "    }\n",
       "\n",
       "    .dataframe tbody tr th {\n",
       "        vertical-align: top;\n",
       "    }\n",
       "</style>\n",
       "<table border=\"1\" class=\"dataframe\">\n",
       "  <thead>\n",
       "    <tr style=\"text-align: right;\">\n",
       "      <th></th>\n",
       "      <th>Headline</th>\n",
       "      <th>Body ID</th>\n",
       "      <th>Stance</th>\n",
       "    </tr>\n",
       "  </thead>\n",
       "  <tbody>\n",
       "    <tr>\n",
       "      <th>1</th>\n",
       "      <td>Hundreds of Palestinians flee floods in Gaza a...</td>\n",
       "      <td>158</td>\n",
       "      <td>agree</td>\n",
       "    </tr>\n",
       "    <tr>\n",
       "      <th>4</th>\n",
       "      <td>Spider burrowed through tourist's stomach and ...</td>\n",
       "      <td>1923</td>\n",
       "      <td>disagree</td>\n",
       "    </tr>\n",
       "    <tr>\n",
       "      <th>5</th>\n",
       "      <td>'Nasa Confirms Earth Will Experience 6 Days of...</td>\n",
       "      <td>154</td>\n",
       "      <td>agree</td>\n",
       "    </tr>\n",
       "    <tr>\n",
       "      <th>8</th>\n",
       "      <td>Banksy 'Arrested &amp; Real Identity Revealed' Is ...</td>\n",
       "      <td>1739</td>\n",
       "      <td>agree</td>\n",
       "    </tr>\n",
       "    <tr>\n",
       "      <th>10</th>\n",
       "      <td>Gateway Pundit</td>\n",
       "      <td>2327</td>\n",
       "      <td>discuss</td>\n",
       "    </tr>\n",
       "    <tr>\n",
       "      <th>11</th>\n",
       "      <td>Woman detained in Lebanon is not al-Baghdadi's...</td>\n",
       "      <td>1468</td>\n",
       "      <td>agree</td>\n",
       "    </tr>\n",
       "    <tr>\n",
       "      <th>14</th>\n",
       "      <td>Soon Marijuana May Lead to Ticket, Not Arrest,...</td>\n",
       "      <td>47</td>\n",
       "      <td>discuss</td>\n",
       "    </tr>\n",
       "    <tr>\n",
       "      <th>16</th>\n",
       "      <td>Boko Haram Denies Nigeria Cease-Fire Claim</td>\n",
       "      <td>2463</td>\n",
       "      <td>discuss</td>\n",
       "    </tr>\n",
       "    <tr>\n",
       "      <th>17</th>\n",
       "      <td>No, Robert Plant Didn’t Rip Up an $800 Million...</td>\n",
       "      <td>295</td>\n",
       "      <td>agree</td>\n",
       "    </tr>\n",
       "    <tr>\n",
       "      <th>19</th>\n",
       "      <td>ISIL Beheads American Photojournalist in Iraq</td>\n",
       "      <td>608</td>\n",
       "      <td>discuss</td>\n",
       "    </tr>\n",
       "    <tr>\n",
       "      <th>21</th>\n",
       "      <td>Boko Haram ceasefire ignored as violence flare...</td>\n",
       "      <td>1681</td>\n",
       "      <td>discuss</td>\n",
       "    </tr>\n",
       "    <tr>\n",
       "      <th>24</th>\n",
       "      <td>NET Extra: Back-from-the-dead Catholic priest ...</td>\n",
       "      <td>1014</td>\n",
       "      <td>agree</td>\n",
       "    </tr>\n",
       "    <tr>\n",
       "      <th>25</th>\n",
       "      <td>Rumor debunked: RoboCop-style robots are not p...</td>\n",
       "      <td>633</td>\n",
       "      <td>agree</td>\n",
       "    </tr>\n",
       "    <tr>\n",
       "      <th>29</th>\n",
       "      <td>Report: Christian Bale Just Bailed on the Stev...</td>\n",
       "      <td>1157</td>\n",
       "      <td>discuss</td>\n",
       "    </tr>\n",
       "    <tr>\n",
       "      <th>31</th>\n",
       "      <td>Insurgents killed in Nigeria despite alleged t...</td>\n",
       "      <td>1896</td>\n",
       "      <td>discuss</td>\n",
       "    </tr>\n",
       "  </tbody>\n",
       "</table>\n",
       "</div>"
      ],
      "text/plain": [
       "                                             Headline  Body ID    Stance\n",
       "1   Hundreds of Palestinians flee floods in Gaza a...      158     agree\n",
       "4   Spider burrowed through tourist's stomach and ...     1923  disagree\n",
       "5   'Nasa Confirms Earth Will Experience 6 Days of...      154     agree\n",
       "8   Banksy 'Arrested & Real Identity Revealed' Is ...     1739     agree\n",
       "10                                     Gateway Pundit     2327   discuss\n",
       "11  Woman detained in Lebanon is not al-Baghdadi's...     1468     agree\n",
       "14  Soon Marijuana May Lead to Ticket, Not Arrest,...       47   discuss\n",
       "16         Boko Haram Denies Nigeria Cease-Fire Claim     2463   discuss\n",
       "17  No, Robert Plant Didn’t Rip Up an $800 Million...      295     agree\n",
       "19      ISIL Beheads American Photojournalist in Iraq      608   discuss\n",
       "21  Boko Haram ceasefire ignored as violence flare...     1681   discuss\n",
       "24  NET Extra: Back-from-the-dead Catholic priest ...     1014     agree\n",
       "25  Rumor debunked: RoboCop-style robots are not p...      633     agree\n",
       "29  Report: Christian Bale Just Bailed on the Stev...     1157   discuss\n",
       "31  Insurgents killed in Nigeria despite alleged t...     1896   discuss"
      ]
     },
     "execution_count": 42,
     "metadata": {},
     "output_type": "execute_result"
    }
   ],
   "source": [
    "train_stances = pd.read_csv(\"fn_data/train_stances.csv\")\n",
    "train_stances = train_stances.loc[lambda x: x.Stance != \"unrelated\"]\n",
    "print(train_stances.shape)\n",
    "train_stances.head(15)"
   ]
  },
  {
   "cell_type": "code",
   "execution_count": 43,
   "metadata": {},
   "outputs": [
    {
     "name": "stdout",
     "output_type": "stream",
     "text": [
      "(1683, 2)\n"
     ]
    },
    {
     "data": {
      "text/html": [
       "<div>\n",
       "<style>\n",
       "    .dataframe thead tr:only-child th {\n",
       "        text-align: right;\n",
       "    }\n",
       "\n",
       "    .dataframe thead th {\n",
       "        text-align: left;\n",
       "    }\n",
       "\n",
       "    .dataframe tbody tr th {\n",
       "        vertical-align: top;\n",
       "    }\n",
       "</style>\n",
       "<table border=\"1\" class=\"dataframe\">\n",
       "  <thead>\n",
       "    <tr style=\"text-align: right;\">\n",
       "      <th></th>\n",
       "      <th>Body ID</th>\n",
       "      <th>articleBody</th>\n",
       "    </tr>\n",
       "  </thead>\n",
       "  <tbody>\n",
       "    <tr>\n",
       "      <th>0</th>\n",
       "      <td>0</td>\n",
       "      <td>A small meteorite crashed into a wooded area i...</td>\n",
       "    </tr>\n",
       "    <tr>\n",
       "      <th>1</th>\n",
       "      <td>4</td>\n",
       "      <td>Last week we hinted at what was to come as Ebo...</td>\n",
       "    </tr>\n",
       "    <tr>\n",
       "      <th>2</th>\n",
       "      <td>5</td>\n",
       "      <td>(NEWSER) – Wonder how long a Quarter Pounder w...</td>\n",
       "    </tr>\n",
       "    <tr>\n",
       "      <th>3</th>\n",
       "      <td>6</td>\n",
       "      <td>Posting photos of a gun-toting child online, I...</td>\n",
       "    </tr>\n",
       "    <tr>\n",
       "      <th>4</th>\n",
       "      <td>7</td>\n",
       "      <td>At least 25 suspected Boko Haram insurgents we...</td>\n",
       "    </tr>\n",
       "  </tbody>\n",
       "</table>\n",
       "</div>"
      ],
      "text/plain": [
       "   Body ID                                        articleBody\n",
       "0        0  A small meteorite crashed into a wooded area i...\n",
       "1        4  Last week we hinted at what was to come as Ebo...\n",
       "2        5  (NEWSER) – Wonder how long a Quarter Pounder w...\n",
       "3        6  Posting photos of a gun-toting child online, I...\n",
       "4        7  At least 25 suspected Boko Haram insurgents we..."
      ]
     },
     "execution_count": 43,
     "metadata": {},
     "output_type": "execute_result"
    }
   ],
   "source": [
    "train_bodies = pd.read_csv(\"fn_data/train_bodies.csv\")\n",
    "print(train_bodies.shape)\n",
    "train_bodies.head()"
   ]
  },
  {
   "cell_type": "code",
   "execution_count": 44,
   "metadata": {},
   "outputs": [
    {
     "data": {
      "text/plain": [
       "((10795, 3), (2632, 3))"
      ]
     },
     "execution_count": 44,
     "metadata": {},
     "output_type": "execute_result"
    }
   ],
   "source": [
    "stances_tr, stances_val = train_test_split(train_bodies, train_stances)\n",
    "stances_tr.shape, stances_val.shape"
   ]
  },
  {
   "cell_type": "code",
   "execution_count": 222,
   "metadata": {
    "collapsed": true
   },
   "outputs": [],
   "source": [
    "disagrees = stances_tr[stances_tr[\"Stance\"]==\"disagree\"]\n",
    "agrees = stances_tr[stances_tr[\"Stance\"]==\"agree\"]\n",
    "discusses = stances_tr[stances_tr[\"Stance\"]==\"discuss\"]\n",
    "stances_tr_augmented = pd.concat([stances_tr, agrees, disagrees, disagrees, disagrees, disagrees, disagrees, disagrees, disagrees]).sample(frac=1).reset_index(drop=True)"
   ]
  },
  {
   "cell_type": "code",
   "execution_count": 46,
   "metadata": {
    "collapsed": true
   },
   "outputs": [],
   "source": [
    "def get_body(n):\n",
    "    return train_bodies.loc[lambda x: x[\"Body ID\"] == n, \"articleBody\"].item()"
   ]
  },
  {
   "cell_type": "code",
   "execution_count": 47,
   "metadata": {
    "collapsed": true
   },
   "outputs": [],
   "source": [
    "def preprocess(text):\n",
    "    text = text.replace(\"' \",' ')\n",
    "    text = text.replace(\" '\",' ')\n",
    "    text = text.replace(\":\", \". \")\n",
    "    text = text.replace(\";\", \". \")\n",
    "    return text"
   ]
  },
  {
   "cell_type": "code",
   "execution_count": 48,
   "metadata": {
    "collapsed": true
   },
   "outputs": [],
   "source": [
    "def cosine_similarity(x,y):\n",
    "    return 1 - distance.cosine(x,y)"
   ]
  },
  {
   "cell_type": "code",
   "execution_count": 49,
   "metadata": {
    "collapsed": true
   },
   "outputs": [],
   "source": [
    "neg_words = set([\"n't\", \"not\", \"no\", \"never\", \"nobody\", \"non\"])\n",
    "doubt_words = set(['fake','fraud', 'hoax', 'false', 'deny', 'denies', 'despite', 'nope', 'doubt', 'bogus', 'debunk', 'prank', 'retract', 'scam', \"withdrawn\",\"misinformation\"])\n",
    "nr_words = neg_words.union(doubt_words)"
   ]
  },
  {
   "cell_type": "code",
   "execution_count": 50,
   "metadata": {
    "collapsed": true
   },
   "outputs": [],
   "source": [
    "def get_topics(doc):\n",
    "    \"\"\"\n",
    "    get topics of a sentence\n",
    "    input: spacy doc\n",
    "    output: dictionary with nouns as the key, and the set of noun chunks that contain the noun as the value\n",
    "    \"\"\"\n",
    "    subjs = {}\n",
    "    for token in doc:\n",
    "        if token.dep_ in [\"nsubj\", \"nsubjpass\", \"csubj\",\"csubjpass\", \"dobj\", \"dative\", \"attr\", \"oprd\", \"pobj\", \"compound\"]:\n",
    "            txt = token.lemma_.lower()\n",
    "            if txt not in subjs:\n",
    "                subjs[txt] = set([txt])      \n",
    "    for chunk in doc.noun_chunks:\n",
    "        if len(chunk.root.text) > 2:\n",
    "            txt = chunk.root.text.lower()\n",
    "            if txt not in subjs:\n",
    "                subjs[txt] = set([txt])\n",
    "            subjs[txt].add(chunk.text.lower())\n",
    "    subjects_= []\n",
    "    for word in subjs:\n",
    "        for phrase in subjs[word]:\n",
    "            subjects_ += phrase.split(\" \")\n",
    "    subjs[\"_vocab\"] = set(subjects_)\n",
    "    return subjs"
   ]
  },
  {
   "cell_type": "code",
   "execution_count": 51,
   "metadata": {
    "collapsed": true
   },
   "outputs": [],
   "source": [
    "def get_svos(sent):\n",
    "    \"\"\"\n",
    "    input: Spacy processed sentence\n",
    "    output: 3x2 tuple, each entry contains the word, and whether that word it's children are negating words\n",
    "    ex: \"he did not hit the ball\" -> ((\"-pron-\", False),(\"hit\", True), (\"ball\", False))\n",
    "    \"\"\"\n",
    "    def check_neg(tok):\n",
    "        neg_children = len([c.lemma_.lower() for c in tok.children if c.lemma_.lower() in neg_words])\n",
    "        if neg_children > 0 or (tok.lemma_.lower() in neg_words):\n",
    "            return -1\n",
    "        return 1\n",
    "    s = []\n",
    "    v = []\n",
    "    o = []\n",
    "    for token in sent:\n",
    "        if token.dep_ == 'ROOT':\n",
    "            v.append((token.lemma_.lower(), check_neg(token)))\n",
    "        elif token.dep_ in [\"nsubj\", \"nsubjpass\", \"csubj\",\"csubjpass\", \"agent\",\"compound\"]:\n",
    "            s.append((token.lemma_.lower(), check_neg(token)))\n",
    "        elif token.dep_ in [\"dobj\", \"dative\", \"attr\", \"oprd\", \"pobj\"]:\n",
    "            o.append((token.lemma_.lower(), check_neg(token)))\n",
    "    # https://github.com/clir/clearnlp-guidelines/blob/master/md/specifications/dependency_labels.md\n",
    "    return (s,v,o)"
   ]
  },
  {
   "cell_type": "code",
   "execution_count": null,
   "metadata": {
    "collapsed": true
   },
   "outputs": [],
   "source": []
  },
  {
   "cell_type": "code",
   "execution_count": 52,
   "metadata": {
    "collapsed": true,
    "scrolled": true
   },
   "outputs": [],
   "source": [
    "def build_graph(doc):\n",
    "    \"\"\"\n",
    "    build a NetworkX graph of the dependency tree\n",
    "    input: spacy Doc\n",
    "    output: networkx graph\n",
    "    \"\"\"\n",
    "    edges = set()\n",
    "    for token in doc:\n",
    "        if len(token) > 1:\n",
    "            for child in token.children:\n",
    "                if len(child) > 1:\n",
    "                    edges.add((token.lemma_.lower(),child.lemma_.lower()))\n",
    "    graph = nx.Graph(list(edges))\n",
    "    return graph"
   ]
  },
  {
   "cell_type": "code",
   "execution_count": 152,
   "metadata": {
    "collapsed": true
   },
   "outputs": [],
   "source": [
    "def get_summary(doc, subjects, n = 5):\n",
    "    \"\"\"\n",
    "    get summary of n sentences in document\n",
    "    custom sentence scoring metric, first sentence will always be returned\n",
    "    \"\"\"\n",
    "    subjects_ = subjects[\"_vocab\"]\n",
    "    def score_sentence(doc):\n",
    "        # not very robust right now\n",
    "        score = 0\n",
    "        word_count = 0\n",
    "        for token in doc:\n",
    "            word_count += 1\n",
    "            t = token.lemma_.lower()\n",
    "            if t in subjects_:\n",
    "                score += 1\n",
    "            elif t in nr_words:\n",
    "                score += 1\n",
    "        return score/word_count\n",
    "    sentences = [s for s in doc.sents]\n",
    "    scored_sentences = [[idx, sent, score_sentence(sent)] for idx, sent in enumerate(sentences)]\n",
    "    include_first = False\n",
    "    if scored_sentences[0][-1] != 0:\n",
    "        include_first = True\n",
    "    scored_sentences.sort(key = lambda x: x[2], reverse = True)\n",
    "    if include_first:\n",
    "        top = scored_sentences[:n-1]\n",
    "        top.sort(key = lambda x: x[0])\n",
    "        result = [sentences[0]] + [s[1] for s in top]\n",
    "    else:\n",
    "        top = scored_sentences[:n]\n",
    "        top.sort(key = lambda x: x[0])\n",
    "        result = [s[1] for s in top]\n",
    "    return result"
   ]
  },
  {
   "cell_type": "code",
   "execution_count": 118,
   "metadata": {
    "collapsed": true
   },
   "outputs": [],
   "source": [
    "def get_shortest_path_to_negating(graph, subjects):\n",
    "    \"\"\"\n",
    "    get the shortest path from each subject to any negating word\n",
    "    returns: dictionary with subject as key, and 2-element list of path length and the actual path as the value\n",
    "    - if a subject does not exist in graph, then result will not include that subject as key\n",
    "    - if a subject does not have a path to any negating word, then the value will be [None, None]\n",
    "    \"\"\"\n",
    "    results = {}\n",
    "    for s in subjects:\n",
    "        if graph.has_node(s) and s not in nr_words:\n",
    "            results[s] = [None, None] #length of path, path\n",
    "            for word in nr_words:\n",
    "                if word in graph:\n",
    "                    try:\n",
    "                        path = nx.shortest_path(graph, source = s, target = word)\n",
    "                        if results[s][0] == None or len(path) < results[s][0]:\n",
    "                            results[s][0] = len(path)\n",
    "                            results[s][1] = path\n",
    "                    except:\n",
    "                        continue\n",
    "    return results"
   ]
  },
  {
   "cell_type": "code",
   "execution_count": 119,
   "metadata": {
    "collapsed": true
   },
   "outputs": [],
   "source": [
    "# https://github.com/CornellDataScience/Summarization/blob/master/textrank2.py\n",
    "import editdistance\n",
    "import itertools\n",
    "import networkx as nx\n",
    "import nltk\n",
    "\n",
    "\n",
    "def build_tr_graph(nodes):\n",
    "    \"\"\"\n",
    "    Return networkx graph instance built from nodes\n",
    "    \"\"\"\n",
    "    #initialize graph\n",
    "    graph = nx.Graph()  \n",
    "    graph.add_nodes_from(nodes)\n",
    "    nodePairs = list(itertools.combinations(nodes, 2))\n",
    "\n",
    "    #add edges weighted by Levenshtein distance\n",
    "    for pair in nodePairs:\n",
    "        levDistance = editdistance.eval(pair[0], pair[1])\n",
    "        graph.add_edge(pair[0], pair[1], weight=levDistance)\n",
    "\n",
    "    return graph\n",
    "\n",
    "\n",
    "def extract_sentences(text, clean_sentences=False, language='english'):\n",
    "    \"\"\"\n",
    "    Return list of sentences in text sorted in descending order of importance\n",
    "    \"\"\"\n",
    "    sent_detector = nltk.data.load('tokenizers/punkt/'+language+'.pickle')\n",
    "    sentence_tokens = sent_detector.tokenize(text.strip())\n",
    "    graph = build_tr_graph(sentence_tokens)\n",
    "\n",
    "    calculated_page_rank = nx.pagerank(graph, weight='weight')\n",
    "\n",
    "    #list of most important sentences first\n",
    "    sentences = sorted(calculated_page_rank, key=calculated_page_rank.get,\n",
    "                       reverse=True)\n",
    "\n",
    "    return sentences\n",
    "\n",
    "def get_summary_tr(text, numSentences=1):\n",
    "    '''\n",
    "    Return summary of text in numSentences sentences (default: 1)\n",
    "    '''\n",
    "    sentences = extract_sentences(text)\n",
    "\n",
    "    if numSentences > len(sentences) or numSentences == 1: summary = sentences[0]\n",
    "    \n",
    "    else: \n",
    "        summary = ' '.join(sentences[:numSentences])\n",
    "        summary_words = summary.split()\n",
    "        dot_indices = [idx for idx, word in enumerate(summary_words) if word.find('.') != -1]\n",
    "        if dot_indices:\n",
    "            last_dot = max(dot_indices) + 1\n",
    "            summary = ' '.join(summary_words[:last_dot])\n",
    "        else:\n",
    "            summary = ' '.join(summary_words)\n",
    "    return summary"
   ]
  },
  {
   "cell_type": "code",
   "execution_count": 120,
   "metadata": {
    "collapsed": true
   },
   "outputs": [],
   "source": [
    "story_words = [\"story\",\"news\",\"article\",\"report\",\"reportedly\"]"
   ]
  },
  {
   "cell_type": "code",
   "execution_count": 121,
   "metadata": {
    "collapsed": true
   },
   "outputs": [],
   "source": [
    "def get_story_words_neg(doc):\n",
    "    relevant_words = []\n",
    "    for token in doc:\n",
    "        if token.lemma_.lower() in story_words:\n",
    "            relevant_words += [c.lemma_.lower() for c in token.children]\n",
    "            relevant_words += [a.lemma_.lower() for a in token.ancestors]\n",
    "    return len(set(relevant_words).intersection(nr_words)) != 0"
   ]
  },
  {
   "cell_type": "code",
   "execution_count": 122,
   "metadata": {
    "collapsed": true
   },
   "outputs": [],
   "source": [
    "def get_neg_ancestors(doc):\n",
    "    \"\"\"\n",
    "    get the ancestors of every negating word\n",
    "    input: spacy Doc\n",
    "    returns: (number of negating words, number of refuting words, set of words that were in the ancestor list of negating words)\n",
    "    \"\"\"\n",
    "    results = [0,0,[]]\n",
    "    for s in doc.sents:\n",
    "        for token in s:\n",
    "            if token.lemma_.lower() in neg_words:\n",
    "                results[0] += 1\n",
    "                results[2] += [ancestor.lemma_.lower() for ancestor in token.ancestors if len(ancestor) > 2]\n",
    "            elif token.lemma_.lower() in doubt_words:\n",
    "                results[1] += 1\n",
    "                results[2] += [ancestor.lemma_.lower() for ancestor in token.ancestors if len(ancestor) > 2]\n",
    "    results[2] = set(results[2])\n",
    "    return results"
   ]
  },
  {
   "cell_type": "code",
   "execution_count": 330,
   "metadata": {},
   "outputs": [
    {
     "name": "stdout",
     "output_type": "stream",
     "text": [
      "Pope Francis turns out not to have made pets in heaven comment\n",
      "{'pope': [5, ['pope', 'francis', 'turn', 'make', 'not']], 'francis': [4, ['francis', 'turn', 'make', 'not']], 'pet': [4, ['pet', 'comment', 'make', 'not']], 'heaven': [6, ['heaven', 'in', 'pet', 'comment', 'make', 'not']]}\n",
      "([('pope', 1), ('francis', 1), ('pet', 1)], [('turn', 1)], [('heaven', 1)])\n"
     ]
    }
   ],
   "source": [
    "h_id = 0\n",
    "df = disagrees\n",
    "test = nlp(preprocess(list(df.values)[h_id][0]))\n",
    "print(test)\n",
    "test_graph = build_graph(test)\n",
    "test_subj = get_topics(test)\n",
    "#print(test_subj)\n",
    "test_svo = get_svos(test)\n",
    "print(get_shortest_path_to_negating(test_graph, test_subj))\n",
    "print(test_svo)"
   ]
  },
  {
   "cell_type": "code",
   "execution_count": 331,
   "metadata": {
    "scrolled": true
   },
   "outputs": [
    {
     "name": "stdout",
     "output_type": "stream",
     "text": [
      "[NEW YORK — Pope Francis has given hope to gays, unmarried couples and advocates of the Big Bang theory., Now, Pope Francis has endeared Pope Francis to dog lovers, animal-rights activists and vegans.\n",
      "\n",
      ", Trying to console a little boy whose dog had died, Pope Francis told Pope Francis in a recent public appearance on St Peter’s Square that “paradise is open to all of God’s creatures”., Theologians cautioned that Pope Francis had spoken casually, not made a doctrinal statement.\n",
      "\n",
      ", Pope Francis said paradise is open to all creatures,” Rev Martin said.\n",
      "\n",
      "]\n",
      "([('pope', 1), ('francis', 1), ('big', 1), ('bang', 1)], [('give', 1)], [('hope', 1), ('theory', 1)])\n",
      "([('pope', 1), ('francis', 1), ('pope', 1), ('dog', 1), ('animal', 1), ('right', 1)], [('endear', 1)], [('francis', 1), ('lover', 1)])\n",
      "([('dog', 1), ('pope', 1), ('francis', 1), ('pope', 1), ('st', 1), ('\"', 1), ('paradise', 1)], [('tell', 1)], [('boy', 1), ('francis', 1), ('appearance', 1), ('square', 1), ('all', 1), ('creature', 1)])\n",
      "([('theologians', 1), ('pope', 1), ('francis', 1)], [('caution', 1)], [('statement', 1)])\n",
      "([('pope', 1), ('francis', 1), ('paradise', 1), ('rev', 1), ('martin', 1)], [('say', 1)], [('creature', 1)])\n"
     ]
    }
   ],
   "source": [
    "body_text = get_body(list(df.values)[h_id][1])\n",
    "# print(body_text)\n",
    "# print(\"\")\n",
    "body = coref(preprocess(body_text))\n",
    "resolved = body._.coref_resolved\n",
    "# print(resolved)\n",
    "# print(\"\")\n",
    "body = nlp(resolved)\n",
    "summary = get_summary(body, test_subj, 5)\n",
    "print(summary)\n",
    "svos = [get_svos(s) for s in summary]\n",
    "for s in svos:\n",
    "    print(s)"
   ]
  },
  {
   "cell_type": "code",
   "execution_count": 332,
   "metadata": {},
   "outputs": [
    {
     "name": "stdout",
     "output_type": "stream",
     "text": [
      "[1, 0, {'turn', 'make'}]\n",
      "[3, 0, {'speak', 'believe', 'say', 'caution', 'make', 'mean'}]\n"
     ]
    }
   ],
   "source": [
    "print(get_neg_ancestors(test))\n",
    "print(get_neg_ancestors(body))"
   ]
  },
  {
   "cell_type": "code",
   "execution_count": 113,
   "metadata": {},
   "outputs": [
    {
     "name": "stdout",
     "output_type": "stream",
     "text": [
      "[1, 1, 1, 1, 1] [1, 1, 0, 0, 0]\n"
     ]
    },
    {
     "data": {
      "text/plain": [
       "0.6324555320336759"
      ]
     },
     "execution_count": 113,
     "metadata": {},
     "output_type": "execute_result"
    }
   ],
   "source": [
    "svo_list = test_svo[0] + test_svo[1] + test_svo[2]\n",
    "svo_set = defaultdict(int)\n",
    "for s in svos:\n",
    "    for item in s:\n",
    "        for pair in item:\n",
    "            svo_set[pair[0]] = pair[1]\n",
    "headline_vec = [x[1] for x in svo_list]\n",
    "body_vec = [svo_set[x[0]] for x in svo_list]\n",
    "print(headline_vec, body_vec)\n",
    "cosine_similarity(headline_vec, body_vec)"
   ]
  },
  {
   "cell_type": "code",
   "execution_count": null,
   "metadata": {},
   "outputs": [],
   "source": []
  },
  {
   "cell_type": "code",
   "execution_count": 114,
   "metadata": {},
   "outputs": [
    {
     "name": "stdout",
     "output_type": "stream",
     "text": [
      "Processed 0\n",
      "Processed 2500\n",
      "Processed 5000\n",
      "Processed 7500\n",
      "Processed 10000\n",
      "Processed 12500\n",
      "Done!\n",
      "Processed 0\n",
      "Processed 100\n",
      "Processed 200\n",
      "Processed 300\n",
      "Processed 400\n",
      "Processed 500\n",
      "Processed 600\n",
      "Processed 700\n",
      "Processed 800\n",
      "Processed 900\n",
      "Processed 1000\n",
      "Processed 1100\n",
      "Processed 1200\n",
      "Processed 1300\n",
      "Processed 1400\n",
      "Processed 1500\n",
      "Processed 1600\n",
      "Done!\n",
      "843\n"
     ]
    }
   ],
   "source": [
    "headline_info = {}\n",
    "body_info = {}\n",
    "start = time.time()\n",
    "stance_data = list(train_stances.values)\n",
    "body_data = list(train_bodies.values)\n",
    "for headline in range(len(stance_data)):\n",
    "    if headline % 2500 == 0:\n",
    "        print(\"Processed \"+str(headline))\n",
    "    h, b_id, s = tuple(stance_data[headline])\n",
    "    h_ = preprocess(h)\n",
    "    nlp_h = nlp(h_)\n",
    "    headline_graph = build_graph(nlp_h)\n",
    "    headline_subj = get_topics(nlp_h)\n",
    "    headline_svo = get_svos(nlp_h)\n",
    "    headline_info[h] = (nlp_h, headline_graph, headline_subj, headline_svo)\n",
    "print(\"Done!\")\n",
    "for body in range(len(body_data)):\n",
    "    if body % 100 == 0:\n",
    "        print(\"Processed \"+str(body))\n",
    "    b_id, txt = tuple(body_data[body])\n",
    "    nlp_a = coref(preprocess(txt))\n",
    "    nlp_b = nlp(nlp_a._.coref_resolved)\n",
    "    body_graph = build_graph(nlp_b)\n",
    "    body_info[b_id] = (nlp_b, body_graph)\n",
    "print(\"Done!\")\n",
    "end = time.time()\n",
    "print(int(end-start))"
   ]
  },
  {
   "cell_type": "code",
   "execution_count": 311,
   "metadata": {},
   "outputs": [],
   "source": [
    "def get_features(stance_df, n_sent = 5):\n",
    "    start = time.time()\n",
    "    data = list(stance_df.values)\n",
    "    features = []\n",
    "    actual = []\n",
    "    for item in data:\n",
    "        h, b, s = tuple(item)\n",
    "        nlp_h, headline_graph, headline_subjs, headline_svo = headline_info[h]\n",
    "        nlp_b, body_graph = body_info[b]\n",
    "        \n",
    "        #sometimes the coref deletes bodies that are one sentence\n",
    "        if len(nlp_b) == 0:\n",
    "            nlp_b = nlp(preprocess(get_body(b)))\n",
    "            body_graph = build_graph(nlp_b)\n",
    "\n",
    "        #return the shortest path to negating word for each subject in headline_subjs, if one exists\n",
    "        neg_h = get_shortest_path_to_negating(headline_graph, headline_subjs)\n",
    "        neg_b = get_shortest_path_to_negating(body_graph, headline_subjs)\n",
    "\n",
    "        shared_subjects = set(neg_h).intersection(set(neg_b)) \n",
    "        # subjects talked about negatively by both headline and body\n",
    "        p_one = 0\n",
    "        p_neither = 0\n",
    "        p_both = 0\n",
    "        for sub in shared_subjects:\n",
    "            nh, nb = neg_h[sub],  neg_b[sub]\n",
    "            #one doc mentions negatively, the other does not\n",
    "            if nh[0] == None and nb[0] != None and nb[0] <= 5:\n",
    "                p_one += 1\n",
    "            elif nh[0] != None and nb[0] == None and nh[0] <= 5:\n",
    "                p_one += 1\n",
    "            #both docs mention negatively\n",
    "            elif nh[0] != None and nb[0] != None:\n",
    "                p_both += 1\n",
    "            else:\n",
    "                p_neither += 1\n",
    "        if len(shared_subjects) == 0:\n",
    "            shared_subjects.add(\"_\")\n",
    "        shared_subjs_cos_sim = (p_neither + p_both - p_one)/(len(shared_subjects) * len(shared_subjects))\n",
    "        p_one /= len(shared_subjects)\n",
    "        p_neither /= len(shared_subjects)\n",
    "        p_both /= len(shared_subjects)\n",
    "\n",
    "        if len(headline_subjs[\"_vocab\"]) == 0:\n",
    "            headline_subjs[\"_vocab\"].add(\"_\")\n",
    "        neg_subj = headline_subjs[\"_vocab\"].intersection(nr_words)\n",
    "        p_neg_subj = len(neg_subj)/len(headline_subjs[\"_vocab\"])\n",
    "\n",
    "        #embedding vector based on subject, verb, object\n",
    "        #for each svo in headline, headline vector entry is 1 if not negated, -1 if negated\n",
    "        #if not present in body, then entry is 0, otherwise 1 if not negated, -1 if negated\n",
    "        svo_list = headline_svo[0] + headline_svo[1] + headline_svo[2]\n",
    "        summary = get_summary(nlp_b, headline_subjs, n_sent)\n",
    "        body_svo = [get_svos(s) for s in summary]\n",
    "        svo_set = defaultdict(int)\n",
    "        for svo in body_svo:\n",
    "            for item in svo:\n",
    "                for pair in item:\n",
    "                    svo_set[pair[0]] = pair[1]\n",
    "        headline_vec = [x[1] for x in svo_list]\n",
    "        body_vec = [svo_set[x[0]] for x in svo_list]\n",
    "        #cosine similarity of stance vecs\n",
    "        svo_cos_sim = 0\n",
    "        if len(svo_list) != 0 and sum(headline_vec) != 0 and sum(body_vec) != 0:\n",
    "            svo_cos_sim = cosine_similarity(headline_vec, body_vec)\n",
    "            \n",
    "        \n",
    "        #are any words that refer to an article/story negated in the body\n",
    "        body_neg_story = int(any([get_story_words_neg(s) for s in summary]))\n",
    "        \n",
    "        #number of refuting/negating words in head and body, ancestors of those words\n",
    "        n_neg_head, n_ref_head, neg_ancestors_head = get_neg_ancestors(nlp_h)\n",
    "        n_neg_body, n_ref_body, neg_ancestors_body = get_neg_ancestors(nlp_b)\n",
    "        n_punct_body = 0 #irregular punctuation\n",
    "        for tok in nlp_b:\n",
    "            if tok.text in [\"?\",\"!\"]:\n",
    "                n_punct_body +=1\n",
    "\n",
    "        body_head_neg = 0 # number of ancestors in body that are also ancestors in head\n",
    "        head_body_neg = 0 # number of ancestors in head that are also ancestors in body\n",
    "        body_subj_neg = 0 # number of ancestors in body that are topics in head\n",
    "        head_subj_neg = 0 # number of ancestors in body that are topics in body summary\n",
    "        \n",
    "        for word in neg_ancestors_body:\n",
    "            if word in neg_ancestors_head:\n",
    "                body_head_neg += 1\n",
    "            elif word in headline_subjs[\"_vocab\"]:\n",
    "                body_subj_neg += 1\n",
    "        \n",
    "        for word in neg_ancestors_head:\n",
    "            if word in neg_ancestors_body:\n",
    "                head_body_neg += 1\n",
    "            elif word in svo_set:\n",
    "                head_subj_neg += 1\n",
    "        \n",
    "        #sentiment\n",
    "        avg_hd_sent = get_avg_sentiment(nlp_h.sents)\n",
    "        avg_body_sent = get_avg_sentiment(summary)\n",
    "        diff_avg_sent = get_diff_sentiment(avg_hd_sent, avg_body_sent)\n",
    "        body_sents = [get_sentiment(s) for s in summary]\n",
    "        cos_sim_sents = np.mean([np.nan_to_num(cosine_similarity(s, avg_hd_sent)) for s in body_sents])\n",
    "            \n",
    "        features.append([\n",
    "            p_one, \n",
    "            p_neither, \n",
    "            p_both, \n",
    "            shared_subjs_cos_sim,\n",
    "            p_neg_subj, \n",
    "            svo_cos_sim, \n",
    "            body_neg_story, \n",
    "            n_ref_head, \n",
    "            n_neg_head, \n",
    "            n_ref_body, \n",
    "            n_neg_body,\n",
    "            n_punct_body,\n",
    "            body_head_neg,\n",
    "            body_subj_neg,\n",
    "            head_body_neg,\n",
    "            head_subj_neg,\n",
    "            cos_sim_sents,\n",
    "        ] + diff_avg_sent)\n",
    "        actual.append(s)\n",
    "    end = time.time()\n",
    "    print(int(end-start))\n",
    "    return features, actual"
   ]
  },
  {
   "cell_type": "code",
   "execution_count": null,
   "metadata": {},
   "outputs": [],
   "source": []
  },
  {
   "cell_type": "code",
   "execution_count": 321,
   "metadata": {},
   "outputs": [
    {
     "name": "stderr",
     "output_type": "stream",
     "text": [
      "/Users/dannyyang/Library/Python/3.6/lib/python/site-packages/scipy/spatial/distance.py:505: RuntimeWarning: invalid value encountered in double_scalars\n",
      "  dist = 1.0 - np.dot(u, v) / (norm(u) * norm(v))\n"
     ]
    },
    {
     "name": "stdout",
     "output_type": "stream",
     "text": [
      "90\n",
      "24\n"
     ]
    }
   ],
   "source": [
    "training_data = get_features(stances_tr, 5)\n",
    "testing_data = get_features(stances_val, 5)"
   ]
  },
  {
   "cell_type": "code",
   "execution_count": 322,
   "metadata": {},
   "outputs": [
    {
     "name": "stdout",
     "output_type": "stream",
     "text": [
      "[1.0, 0.0, 0.0, 0.0, 0.0, 0.0, 0.0, 1.0, 0.0, 0.0, 0.0, 0.0, 1.0, 0.0, 0.0, 0.0, 0.0, 0.5, 1.0, 1.0, 1.0, 1.0, 0.75, 0.0, 0.6]\n",
      "[0.0, 0.0, 0.0, 0.0, 0.0, 0.0, 1.0, 0.0, 1.0, 0.0, 1.0, 0.0, 0.0, 1.0, 0.0, 0.0, 0.0, 0.5, 0.0, 0.0, 0.0, 0.0, 0.25, 1.0, 0.4]\n",
      "[0.0, 0.0, 1.0, 1.0, 1.0, 1.0, 0.0, 0.0, 0.0, 1.0, 0.0, 1.0, 0.0, 0.0, 1.0, 1.0, 1.0, 0.0, 0.0, 0.0, 0.0, 0.0, 0.0, 0.0, 0.0]\n",
      "[-0.2, 0.0, 0.2, 0.2, 0.2, 0.25, 1.0, -0.16666666666666666, 0.5, 0.2, 0.25, 0.3333333333333333, -0.14285714285714285, 0.2, 0.3333333333333333, 0.3333333333333333, 0.16666666666666666, 0.0, -1.0, -0.125, -0.16666666666666666, -0.2, -0.125, 0.5, -0.04]\n",
      "[0.0, 0.0, 0.0, 0.0, 0.0, 0.0, 0.0, 0.0, 0.0, 0.0, 0.0, 0.0, 0.0, 0.0, 0.0, 0.0, 0.0, 0.0, 0.0, 0.0, 0.0, 0.0, 0.0, 0.0, 0.0]\n",
      "[0.7559289460184544, 0, 1.0000000000000002, 0.8164965809277261, 0.7559289460184544, 0.7745966692414834, 0, 0.7071067811865475, 0.6546536707079772, 0.5070925528371099, 0.7559289460184544, 0.7745966692414834, 0.8366600265340756, 0.9128709291752769, 0.6324555320336759, 0.2357022603955159, 0.7142857142857142, 0.9258200997725514, 0.5773502691896258, 0.7302967433402213, 0.8451542547285165, 0.7559289460184544, 0.4264014327112209, 0.6123724356957945, 0.7453559924999299]\n",
      "[0, 0, 0, 0, 0, 0, 0, 0, 0, 0, 0, 0, 0, 0, 0, 0, 0, 0, 0, 0, 0, 0, 0, 0, 0]\n",
      "[0, 0, 0, 0, 1, 0, 0, 0, 0, 1, 0, 1, 0, 0, 0, 1, 0, 0, 0, 0, 0, 0, 0, 0, 0]\n",
      "[0, 0, 1, 1, 0, 2, 0, 0, 0, 1, 0, 0, 0, 0, 1, 1, 2, 0, 0, 0, 0, 0, 0, 0, 0]\n",
      "[0, 0, 3, 0, 3, 1, 0, 2, 0, 0, 0, 0, 0, 0, 0, 5, 0, 1, 1, 0, 0, 0, 1, 0, 0]\n",
      "[1, 0, 6, 1, 12, 5, 0, 7, 0, 8, 0, 1, 2, 0, 3, 2, 2, 2, 2, 8, 3, 5, 2, 0, 2]\n",
      "[0, 0, 0, 0, 0, 0, 0, 1, 0, 0, 0, 0, 0, 0, 0, 2, 0, 0, 0, 1, 0, 0, 0, 0, 0]\n",
      "[0, 0, 1, 0, 0, 0, 0, 0, 0, 1, 0, 0, 0, 0, 1, 0, 0, 0, 0, 0, 0, 0, 0, 0, 0]\n",
      "[0, 0, 2, 0, 0, 0, 0, 0, 0, 1, 0, 0, 0, 0, 0, 0, 0, 0, 0, 0, 0, 0, 0, 0, 0]\n",
      "[0, 0, 1, 0, 0, 0, 0, 0, 0, 1, 0, 0, 0, 0, 1, 0, 0, 0, 0, 0, 0, 0, 0, 0, 0]\n",
      "[0, 0, 0, 2, 0, 1, 0, 0, 0, 0, 0, 1, 0, 0, 1, 1, 0, 0, 0, 0, 0, 0, 0, 0, 0]\n",
      "[0.9753425463059353, 0.6842834189447757, 0.887994801697219, 0.694685659444633, 0.8074742549336047, 0.9571129705095807, 0.9709012034796569, 0.5713039235046165, 0.6879160725921991, 0.9885757261940565, 0.9152084397252709, 0.8570373133486342, 0.7465529598559183, 0.8945505718738902, 0.861075822273415, 0.7681509233376678, 0.8527802162544067, 0.9408543343673423, 0.9586700874317533, 0.6891888233245906, 0.8964548615023341, 0.7771875264609756, 0.942731877648758, 0.4918003607985389, 0.9038703260336352]\n",
      "[0.0144, 0.0, 0.0, 0.14300000000000002, 0.013800000000000002, 0.0, 0.016, 0.17740000000000003, 0.0945, 0.0626, 0.1046, 0.040799999999999996, 0.0, 0.0, 0.0784, 0.0668, 0.023799999999999998, 0.015, 0.011600000000000001, 0.0174, 0.0, 0.1048, 0.06680000000000001, 0.1868, 0.0]\n",
      "[0.0288, 0.1166, 0.04460000000000003, 0.1264, 0.307, 0.06459999999999999, 0.03, 0.3482, 0.1494, 0.07139999999999999, 0.0, 0.21660000000000001, 0.1714, 0.09419999999999999, 0.0214, 0.060600000000000015, 0.18, 0.1298, 0.06459999999999999, 0.3078, 0.06219999999999992, 0.1054, 0.0, 0.1868, 0.057999999999999996]\n",
      "[0.04359999999999997, 0.3166, 0.04459999999999986, 0.016599999999999948, 0.2932, 0.06459999999999999, 0.04600000000000004, 0.17079999999999995, 0.05490000000000017, 0.134, 0.10459999999999992, 0.17580000000000007, 0.1714, 0.09420000000000006, 0.05699999999999994, 0.006199999999999983, 0.15620000000000012, 0.11480000000000001, 0.07620000000000005, 0.2903999999999999, 0.062200000000000144, 0.00039999999999995595, 0.06679999999999997, 0.00019999999999986695, 0.05800000000000005]\n",
      "[0.12728, 0.3114, 0.1482400000000001, 0.6513, 0.2924, 0.13981999999999994, 0.06376, 0.6392000000000001, 0.6468, 0.014740000000000003, 0.32118, 0.23879999999999996, 0.64828, 0.33444, 0.26570000000000005, 0.41306, 0.41318, 0.0037399999999999656, 0.17672, 0.6118399999999999, 0.32383, 0.25961999999999996, 0.18296999999999997, 0.8936200000000001, 0.3452]\n"
     ]
    }
   ],
   "source": [
    "for i in range(len(training_data[0][0])):\n",
    "    r = []\n",
    "    for row in training_data[0]:\n",
    "        r.append(row[i])\n",
    "    print(r[:25])"
   ]
  },
  {
   "cell_type": "code",
   "execution_count": 323,
   "metadata": {},
   "outputs": [
    {
     "name": "stdout",
     "output_type": "stream",
     "text": [
      "Counter({'discuss': 7146, 'agree': 2990, 'disagree': 659}) Counter({'discuss': 1763, 'agree': 688, 'disagree': 181})\n"
     ]
    }
   ],
   "source": [
    "print(Counter(training_data[1]), Counter(testing_data[1]))"
   ]
  },
  {
   "cell_type": "code",
   "execution_count": 324,
   "metadata": {},
   "outputs": [
    {
     "data": {
      "text/plain": [
       "0.6698328267477204"
      ]
     },
     "execution_count": 324,
     "metadata": {},
     "output_type": "execute_result"
    }
   ],
   "source": [
    "1763 /(1763 + 688 + 181)"
   ]
  },
  {
   "cell_type": "code",
   "execution_count": null,
   "metadata": {
    "collapsed": true
   },
   "outputs": [],
   "source": []
  },
  {
   "cell_type": "code",
   "execution_count": 325,
   "metadata": {},
   "outputs": [
    {
     "data": {
      "text/plain": [
       "LogisticRegression(C=1.0, class_weight=None, dual=False, fit_intercept=True,\n",
       "          intercept_scaling=1, max_iter=200, multi_class='ovr', n_jobs=1,\n",
       "          penalty='l2', random_state=None, solver='liblinear', tol=0.0001,\n",
       "          verbose=0, warm_start=False)"
      ]
     },
     "execution_count": 325,
     "metadata": {},
     "output_type": "execute_result"
    }
   ],
   "source": [
    "from sklearn.linear_model import LogisticRegression\n",
    "from sklearn.ensemble import RandomForestClassifier\n",
    "from sklearn.tree import DecisionTreeClassifier\n",
    "from sklearn.svm import SVC\n",
    "# model = DecisionTreeClassifier()\n",
    "# model = RandomForestClassifier(n_estimators = 100)\n",
    "model = LogisticRegression(max_iter = 200)\n",
    "# model = SVC()\n",
    "model.fit(training_data[0], training_data[1])"
   ]
  },
  {
   "cell_type": "code",
   "execution_count": 326,
   "metadata": {},
   "outputs": [
    {
     "name": "stdout",
     "output_type": "stream",
     "text": [
      "68.50% training accuracy\n",
      "68.54% validation accuracy\n"
     ]
    }
   ],
   "source": [
    "tr_acc = model.score(training_data[0], training_data[1])\n",
    "print('{0:.2f}% training accuracy'.format(tr_acc*100))\n",
    "val_acc = model.score(testing_data[0], testing_data[1])\n",
    "print('{0:.2f}% validation accuracy'.format(val_acc*100))"
   ]
  },
  {
   "cell_type": "code",
   "execution_count": 327,
   "metadata": {},
   "outputs": [
    {
     "name": "stdout",
     "output_type": "stream",
     "text": [
      "['agree' 'disagree' 'discuss'] [[-1.01948879 -0.62400861 -0.74736462  0.14289115  2.79513969  0.6283766\n",
      "   0.34581344  0.47305097  0.74784198  0.04682519 -0.01213821  0.06954832\n",
      "   0.17266047 -0.17803413  0.17266047 -0.16636371 -1.47433563  0.39117567\n",
      "  -0.02985435  0.15373507 -0.35922682]\n",
      " [ 0.67824127 -0.43644438 -0.05316765  0.13132758 -0.07954039 -1.45056218\n",
      "   0.10790295  0.26456214  0.18529606  0.12865576  0.0088836   0.093455\n",
      "  -0.22274265  0.06884118 -0.22274265  0.17338158  0.65301937  0.73660018\n",
      "  -1.1302591  -0.13605949  0.0141109 ]\n",
      " [ 0.65988462  0.44568602  0.64148373 -0.10878163 -2.7902204  -0.09956303\n",
      "  -0.35150212 -0.57521184 -0.83486035 -0.11245675  0.00528066 -0.10826955\n",
      "  -0.12822394  0.11615287 -0.12822394  0.11566371  0.90926911 -0.68412939\n",
      "   0.29071718 -0.16332454  0.20477092]]\n"
     ]
    }
   ],
   "source": [
    "print(model.classes_, model.coef_)"
   ]
  },
  {
   "cell_type": "code",
   "execution_count": 328,
   "metadata": {
    "collapsed": true
   },
   "outputs": [],
   "source": [
    "actual = testing_data[1]\n",
    "predicted = model.predict(testing_data[0])"
   ]
  },
  {
   "cell_type": "code",
   "execution_count": 329,
   "metadata": {},
   "outputs": [
    {
     "name": "stdout",
     "output_type": "stream",
     "text": [
      "-------------------------------------------------------------\n",
      "|           |   agree   | disagree  |  discuss  | unrelated |\n",
      "-------------------------------------------------------------\n",
      "|   agree   |    114    |     0     |    574    |     0     |\n",
      "-------------------------------------------------------------\n",
      "| disagree  |    14     |     0     |    167    |     0     |\n",
      "-------------------------------------------------------------\n",
      "|  discuss  |    72     |     1     |   1690    |     0     |\n",
      "-------------------------------------------------------------\n",
      "| unrelated |     0     |     0     |     0     |     0     |\n",
      "-------------------------------------------------------------\n",
      "Score: 2011.0 out of 2632.0\t(76.40577507598785%)\n",
      "Normalized confusion matrix\n",
      "[[1.65697674e-01 0.00000000e+00 8.34302326e-01]\n",
      " [7.73480663e-02 0.00000000e+00 9.22651934e-01]\n",
      " [4.08394782e-02 5.67214974e-04 9.58593307e-01]]\n"
     ]
    },
    {
     "data": {
      "image/png": "[encoded data removed]",
      "text/plain": [
       "<matplotlib.figure.Figure at 0x1c98de860>"
      ]
     },
     "metadata": {},
     "output_type": "display_data"
    }
   ],
   "source": [
    "sc.report_score(actual, predicted)\n",
    "matrix = confusion_matrix(actual,predicted)\n",
    "plot_confusion_matrix(matrix, classes=[\"agree\",\"disagree\", \"discuss\"],\n",
    "                      title='Normalized confusion matrix')\n",
    "plt.show()"
   ]
  },
  {
   "cell_type": "code",
   "execution_count": null,
   "metadata": {
    "collapsed": true
   },
   "outputs": [],
   "source": []
  },
  {
   "cell_type": "code",
   "execution_count": null,
   "metadata": {
    "collapsed": true
   },
   "outputs": [],
   "source": []
  }
 ],
 "metadata": {
  "kernelspec": {
   "display_name": "Python 3",
   "language": "python",
   "name": "python3"
  },
  "language_info": {
   "codemirror_mode": {
    "name": "ipython",
    "version": 3
   },
   "file_extension": ".py",
   "mimetype": "text/x-python",
   "name": "python",
   "nbconvert_exporter": "python",
   "pygments_lexer": "ipython3",
   "version": "3.6.0"
  }
 },
 "nbformat": 4,
 "nbformat_minor": 2
}
