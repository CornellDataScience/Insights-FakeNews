{
 "cells": [
  {
   "cell_type": "markdown",
   "metadata": {},
   "source": [
    "C4.5 Binary Decision Tree Implementation\n",
    "\n",
    "Usage: \n",
    "\n",
    "1. Read csv file in; will be stored as a 2 Dimensional list. (See fread())\n",
    "2. Train a classifier (i.e. train(list))\n",
    "3. Prune the decision tree (i.e. prune_tree(tree, 0.5))\n",
    "4. Predict the result (i.e. predict([.....], classifier))\n",
    "\n",
    "The function assumes that the last column of your data is populated by labels."
   ]
  },
  {
   "cell_type": "code",
   "execution_count": 192,
   "metadata": {},
   "outputs": [],
   "source": [
    "import c45\n",
    "import timeit\n",
    "from random import shuffle\n",
    "import importlib"
   ]
  },
  {
   "cell_type": "code",
   "execution_count": 198,
   "metadata": {},
   "outputs": [
    {
     "data": {
      "text/plain": [
       "<module 'c45' from '/Users/dannyyang/Documents/GitHub/Insights-FakeNews/c45.py'>"
      ]
     },
     "execution_count": 198,
     "metadata": {},
     "output_type": "execute_result"
    }
   ],
   "source": [
    "importlib.reload(c45)"
   ]
  },
  {
   "cell_type": "code",
   "execution_count": 174,
   "metadata": {
    "collapsed": true
   },
   "outputs": [],
   "source": [
    "\"\"\"\n",
    "Helper functions: type_conversion, fread\n",
    "\"\"\"\n",
    "def type_conversion(val):\n",
    "        val = val.strip()\n",
    "\n",
    "        try:\n",
    "            if '.' in val:\n",
    "                return float(val)\n",
    "            else:\n",
    "                return int(val)\n",
    "\n",
    "        except ValueError:\n",
    "            #For other types, return\n",
    "            return val\n",
    "\n",
    "def fread(f, col_labels = False):\n",
    "    \"\"\"\n",
    "    takes a filepath, f, and a boolean argument, col_labels.\n",
    "    By default, col_labels is False, implying that the columns do not have labels. If set to true,\n",
    "    fread will remove the row containing column labels at the end.\n",
    "    \"\"\"\n",
    "    data = csv.reader(open(f, 'rt'))\n",
    "    lst = [[type_conversion(i) for i in r] for r in data]\n",
    "    if col_labels:\n",
    "        lst.pop(0)\n",
    "    return lst"
   ]
  },
  {
   "cell_type": "code",
   "execution_count": 157,
   "metadata": {},
   "outputs": [],
   "source": [
    "df = fread(\"./Iris.csv\", True)\n",
    "#n * d data, n rows d cols\n",
    "df = [i[1:] for i in df]\n",
    "shuffle(df)\n",
    "df, df_test = df[:-50],df[-50:]\n",
    "\n",
    "#these are for performance testing estimates\n",
    "df2 = df[:int(len(df)/2)] #n/2\n",
    "df3 = [i[:2] for i in df] #d/2\n",
    "df4 = [i[:-1]+i for i in df] #2d\n",
    "df5 = df+df # 2n\n",
    "df6 = df5+df5 #4n\n",
    "df7 = [i[:-1]+i for i in df4] #4d"
   ]
  },
  {
   "cell_type": "code",
   "execution_count": 146,
   "metadata": {},
   "outputs": [],
   "source": [
    "\"\"\"\n",
    "TODO:\n",
    "Optimize\n",
    "Testing\n",
    "\"\"\"\n",
    "\n",
    "data = fread(\"./test_val_dump.csv\", True)\n",
    "drop_first_col = [x[1:] for x in data]\n",
    "val_data = drop_first_col"
   ]
  },
  {
   "cell_type": "markdown",
   "metadata": {},
   "source": [
    "The base cases are the following:\n",
    "\n",
    "•  All the examples from the training set belong to the same class ( a tree leaf labeled with that class is returned ).\n",
    "\n",
    "•  The training set is empty ( returns a tree leaf called failure ).\n",
    "\n",
    "•  The attribute list is empty ( returns a leaf labeled with the most frequent class or the disjuction of all the classes).\n",
    "https://octaviansima.wordpress.com/2011/03/25/decision-trees-c4-5/"
   ]
  },
  {
   "cell_type": "code",
   "execution_count": 194,
   "metadata": {
    "collapsed": true
   },
   "outputs": [],
   "source": [
    "def test_times(df):\n",
    "    times = []\n",
    "    tree = c45.DecisionTree()\n",
    "    for i in range(10):\n",
    "        start = timeit.default_timer()\n",
    "        tree.fit(df)\n",
    "        stop = timeit.default_timer()\n",
    "        times.append(stop-start)\n",
    "    print(sum(times)/len(times)) "
   ]
  },
  {
   "cell_type": "code",
   "execution_count": 195,
   "metadata": {},
   "outputs": [
    {
     "name": "stdout",
     "output_type": "stream",
     "text": [
      "0.012557539594126865\n",
      "0.020265244401525707\n",
      "0.01848158090142533\n",
      "0.03079748079762794\n"
     ]
    }
   ],
   "source": [
    "#n d\n",
    "test_times(df)\n",
    "#n 2d\n",
    "test_times(df4)\n",
    "#2n d\n",
    "test_times(df5)\n",
    "test_times(df6)"
   ]
  },
  {
   "cell_type": "code",
   "execution_count": 165,
   "metadata": {},
   "outputs": [
    {
     "name": "stdout",
     "output_type": "stream",
     "text": [
      "0.005157519900240004\n"
     ]
    }
   ],
   "source": [
    "test_times(df2)"
   ]
  },
  {
   "cell_type": "code",
   "execution_count": 200,
   "metadata": {},
   "outputs": [],
   "source": [
    "def test_accuracy(tr, test):\n",
    "    tree = c45.DecisionTree()\n",
    "    tree.fit(tr)\n",
    "    acc = [(tree.classify(x[:-1]) == x[-1]) for x in test]\n",
    "    print(Counter(acc))"
   ]
  },
  {
   "cell_type": "code",
   "execution_count": 201,
   "metadata": {},
   "outputs": [
    {
     "name": "stdout",
     "output_type": "stream",
     "text": [
      "Counter({True: 48, False: 2})\n"
     ]
    }
   ],
   "source": [
    "test_accuracy(df, df_test)"
   ]
  },
  {
   "cell_type": "code",
   "execution_count": 202,
   "metadata": {},
   "outputs": [
    {
     "name": "stdout",
     "output_type": "stream",
     "text": [
      "Counter({True: 956, False: 44})\n"
     ]
    }
   ],
   "source": [
    "test_accuracy(val_data[1000:5000], val_data[0:1000])"
   ]
  },
  {
   "cell_type": "code",
   "execution_count": null,
   "metadata": {},
   "outputs": [],
   "source": []
  },
  {
   "cell_type": "code",
   "execution_count": null,
   "metadata": {},
   "outputs": [],
   "source": []
  },
  {
   "cell_type": "code",
   "execution_count": 25,
   "metadata": {
    "collapsed": true
   },
   "outputs": [],
   "source": [
    "class DecisionTree():\n",
    "    def __init__(self, criterion = entropy, max_depth = None): \n",
    "        self.classifier = None\n",
    "        self.criterion = criterion\n",
    "        #self.fitted = False\n",
    "    \n",
    "    def fit(self, X):\n",
    "        self.classifier = train(X, self.criterion)\n",
    "        #self.fitted = True\n",
    "        \n",
    "        def prune(self):\n",
    "            prune_tree(self.classifier, 0.5, self.criterion)\n",
    "            \n",
    "        prune(self)\n",
    "        \n",
    "    def classify(self, x):\n",
    "        return predict(x, self.classifier)\n",
    "        "
   ]
  },
  {
   "cell_type": "code",
   "execution_count": 20,
   "metadata": {},
   "outputs": [
    {
     "ename": "NameError",
     "evalue": "name 'DecisionTree' is not defined",
     "output_type": "error",
     "traceback": [
      "\u001b[0;31m---------------------------------------------------------------------------\u001b[0m",
      "\u001b[0;31mNameError\u001b[0m                                 Traceback (most recent call last)",
      "\u001b[0;32m<ipython-input-20-9cf5d00f4ebe>\u001b[0m in \u001b[0;36m<module>\u001b[0;34m()\u001b[0m\n\u001b[1;32m      1\u001b[0m \u001b[0mtimes\u001b[0m \u001b[0;34m=\u001b[0m \u001b[0;34m[\u001b[0m\u001b[0;34m]\u001b[0m\u001b[0;34m\u001b[0m\u001b[0m\n\u001b[0;32m----> 2\u001b[0;31m \u001b[0mDT\u001b[0m \u001b[0;34m=\u001b[0m \u001b[0mDecisionTree\u001b[0m\u001b[0;34m(\u001b[0m\u001b[0;34m)\u001b[0m\u001b[0;34m\u001b[0m\u001b[0m\n\u001b[0m\u001b[1;32m      3\u001b[0m \u001b[0;32mfor\u001b[0m \u001b[0mi\u001b[0m \u001b[0;32min\u001b[0m \u001b[0mrange\u001b[0m\u001b[0;34m(\u001b[0m\u001b[0;36m25\u001b[0m\u001b[0;34m)\u001b[0m\u001b[0;34m:\u001b[0m\u001b[0;34m\u001b[0m\u001b[0m\n\u001b[1;32m      4\u001b[0m     \u001b[0mstart\u001b[0m \u001b[0;34m=\u001b[0m \u001b[0mtimeit\u001b[0m\u001b[0;34m.\u001b[0m\u001b[0mdefault_timer\u001b[0m\u001b[0;34m(\u001b[0m\u001b[0;34m)\u001b[0m\u001b[0;34m\u001b[0m\u001b[0m\n\u001b[1;32m      5\u001b[0m     \u001b[0mDT\u001b[0m\u001b[0;34m.\u001b[0m\u001b[0mfit\u001b[0m\u001b[0;34m(\u001b[0m\u001b[0mdf\u001b[0m\u001b[0;34m)\u001b[0m\u001b[0;34m\u001b[0m\u001b[0m\n",
      "\u001b[0;31mNameError\u001b[0m: name 'DecisionTree' is not defined"
     ]
    }
   ],
   "source": [
    "times = []\n",
    "DT = DecisionTree()\n",
    "for i in range(25):\n",
    "    start = timeit.default_timer()\n",
    "    DT.fit(df)\n",
    "    #DT.prune()\n",
    "    stop = timeit.default_timer()\n",
    "    times.append(stop-start)\n",
    "print(sum(times)/len(times)) "
   ]
  },
  {
   "cell_type": "code",
   "execution_count": null,
   "metadata": {
    "collapsed": true
   },
   "outputs": [],
   "source": []
  }
 ],
 "metadata": {
  "kernelspec": {
   "display_name": "Python 3",
   "language": "python",
   "name": "python3"
  },
  "language_info": {
   "codemirror_mode": {
    "name": "ipython",
    "version": 3
   },
   "file_extension": ".py",
   "mimetype": "text/x-python",
   "name": "python",
   "nbconvert_exporter": "python",
   "pygments_lexer": "ipython3",
   "version": "3.6.2"
  }
 },
 "nbformat": 4,
 "nbformat_minor": 2
}
