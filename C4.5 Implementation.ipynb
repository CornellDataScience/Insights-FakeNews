{
 "cells": [
  {
   "cell_type": "markdown",
   "metadata": {},
   "source": [
    "C4.5 Binary Decision Tree Implementation\n",
    "\n",
    "Usage: \n",
    "\n",
    "1. Read csv file in; will be stored as a 2 Dimensional list. (See fread())\n",
    "2. Train a classifier (i.e. train(list))\n",
    "3. Prune the decision tree (i.e. prune_tree(tree, 0.5))\n",
    "4. Predict the result (i.e. predict([.....], classifier))\n",
    "\n",
    "The function assumes that the last column of your data is populated by labels."
   ]
  },
  {
   "cell_type": "code",
   "execution_count": 244,
   "metadata": {},
   "outputs": [],
   "source": [
    "import c45\n",
    "import timeit\n",
    "from random import shuffle\n",
    "import importlib\n",
    "import csv\n",
    "from random import randrange"
   ]
  },
  {
   "cell_type": "code",
   "execution_count": 245,
   "metadata": {},
   "outputs": [
    {
     "data": {
      "text/plain": [
       "<module 'c45' from '/Users/maximillian/Documents/GitHub/CDS/Insights-FakeNews/c45.py'>"
      ]
     },
     "execution_count": 245,
     "metadata": {},
     "output_type": "execute_result"
    }
   ],
   "source": [
    "importlib.reload(c45)"
   ]
  },
  {
   "cell_type": "code",
   "execution_count": 13,
   "metadata": {},
   "outputs": [],
   "source": [
    "\"\"\"\n",
    "Helper functions: type_conversion, fread\n",
    "\"\"\"\n",
    "def type_conversion(val):\n",
    "        val = val.strip()\n",
    "\n",
    "        try:\n",
    "            if '.' in val:\n",
    "                return float(val)\n",
    "            else:\n",
    "                return int(val)\n",
    "\n",
    "        except ValueError:\n",
    "            #For other types, return\n",
    "            return val\n",
    "\n",
    "def fread(f, col_labels = False):\n",
    "    \"\"\"\n",
    "    takes a filepath, f, and a boolean argument, col_labels.\n",
    "    By default, col_labels is False, implying that the columns do not have labels. If set to true,\n",
    "    fread will remove the row containing column labels at the end.\n",
    "    \"\"\"\n",
    "    data = csv.reader(open(f, 'rt'))\n",
    "    lst = [[type_conversion(i) for i in r] for r in data]\n",
    "    if col_labels:\n",
    "        lst.pop(0)\n",
    "    return lst"
   ]
  },
  {
   "cell_type": "code",
   "execution_count": 14,
   "metadata": {},
   "outputs": [],
   "source": [
    "df = fread(\"./Iris.csv\", True)\n",
    "#n * d data, n rows d cols\n",
    "df = [i[1:] for i in df]\n",
    "shuffle(df)\n",
    "df, df_test = df[:-50],df[-50:]\n",
    "\n",
    "#these are for performance testing estimates\n",
    "df2 = df[:int(len(df)/2)] #n/2\n",
    "df3 = [i[:2] for i in df] #d/2\n",
    "df4 = [i[:-1]+i for i in df] #2d\n",
    "df5 = df+df # 2n\n",
    "df6 = df5+df5 #4n\n",
    "df7 = [i[:-1]+i for i in df4] #4d"
   ]
  },
  {
   "cell_type": "code",
   "execution_count": 15,
   "metadata": {},
   "outputs": [],
   "source": [
    "\"\"\"\n",
    "TODO:\n",
    "Optimize\n",
    "Testing\n",
    "\"\"\"\n",
    "\n",
    "data = fread(\"./test_val_dump.csv\", True)\n",
    "drop_first_col = [x[1:] for x in data]\n",
    "val_data = drop_first_col"
   ]
  },
  {
   "cell_type": "markdown",
   "metadata": {},
   "source": [
    "The base cases are the following:\n",
    "\n",
    "•  All the examples from the training set belong to the same class ( a tree leaf labeled with that class is returned ).\n",
    "\n",
    "•  The training set is empty ( returns a tree leaf called failure ).\n",
    "\n",
    "•  The attribute list is empty ( returns a leaf labeled with the most frequent class or the disjuction of all the classes).\n",
    "https://octaviansima.wordpress.com/2011/03/25/decision-trees-c4-5/"
   ]
  },
  {
   "cell_type": "code",
   "execution_count": 194,
   "metadata": {
    "collapsed": true
   },
   "outputs": [],
   "source": [
    "def test_times(df):\n",
    "    times = []\n",
    "    tree = c45.DecisionTree()\n",
    "    for i in range(10):\n",
    "        start = timeit.default_timer()\n",
    "        tree.fit(df)\n",
    "        stop = timeit.default_timer()\n",
    "        times.append(stop-start)\n",
    "    print(sum(times)/len(times)) "
   ]
  },
  {
   "cell_type": "code",
   "execution_count": 195,
   "metadata": {},
   "outputs": [
    {
     "name": "stdout",
     "output_type": "stream",
     "text": [
      "0.012557539594126865\n",
      "0.020265244401525707\n",
      "0.01848158090142533\n",
      "0.03079748079762794\n"
     ]
    }
   ],
   "source": [
    "#n d\n",
    "test_times(df)\n",
    "#n 2d\n",
    "test_times(df4)\n",
    "#2n d\n",
    "test_times(df5)\n",
    "test_times(df6)"
   ]
  },
  {
   "cell_type": "code",
   "execution_count": 203,
   "metadata": {},
   "outputs": [
    {
     "name": "stdout",
     "output_type": "stream",
     "text": [
      "0.006191417694208212\n"
     ]
    }
   ],
   "source": [
    "test_times(df2)"
   ]
  },
  {
   "cell_type": "code",
   "execution_count": 205,
   "metadata": {},
   "outputs": [],
   "source": [
    "def test_accuracy(tr, test):\n",
    "    tree = c45.DecisionTree(max_depth = 25, min_samples_leaf = 3, min_samples_split = 10)\n",
    "    tree.fit(tr)\n",
    "    acc = [(tree.classify(x[:-1]) == x[-1]) for x in test]\n",
    "    print(Counter(acc))"
   ]
  },
  {
   "cell_type": "code",
   "execution_count": 206,
   "metadata": {},
   "outputs": [
    {
     "name": "stdout",
     "output_type": "stream",
     "text": [
      "Counter({True: 48, False: 2})\n"
     ]
    }
   ],
   "source": [
    "test_accuracy(df, df_test)"
   ]
  },
  {
   "cell_type": "code",
   "execution_count": 207,
   "metadata": {},
   "outputs": [
    {
     "name": "stdout",
     "output_type": "stream",
     "text": [
      "Counter({True: 966, False: 34})\n"
     ]
    }
   ],
   "source": [
    "test_accuracy(val_data[:-1000], val_data[-1000:])"
   ]
  },
  {
   "cell_type": "code",
   "execution_count": 208,
   "metadata": {},
   "outputs": [
    {
     "name": "stdout",
     "output_type": "stream",
     "text": [
      "15.544272611194174\n"
     ]
    }
   ],
   "source": [
    "test_times(val_data)"
   ]
  },
  {
   "cell_type": "code",
   "execution_count": 86,
   "metadata": {},
   "outputs": [],
   "source": [
    "import numpy as np\n",
    "def count_nodes(tree):\n",
    "    \"\"\"\n",
    "    \"tree\" is a classifier, i.e. the underlying Tree object within a DecisionTree object.\n",
    "    \"\"\"\n",
    "    if((tree.right_branch == None) and (tree.left_branch == None)):\n",
    "        return 1\n",
    "    else:\n",
    "        if(not tree.right_branch == None):\n",
    "            return 1 + count_nodes(tree.right_branch)\n",
    "        if(not tree.left_branch == None): \n",
    "            return 1 + count_nodes(tree.left_branch)\n",
    "\n",
    "def c45_tree_to_dict(model, feature_names):\n",
    "    \"\"\"\n",
    "    Adaptation from utils.tree_to_dict\n",
    "    \"\"\"\n",
    "    tree_ = model.classifier\n",
    "    n_nodes = count_nodes(model.classifier)\n",
    "    lb = []#model.classifier.left_branch\n",
    "    rb = []#model.classifier.right_branch\n",
    "    feature = model.classifier.feature\n",
    "    threshold = model.classifier.value\n",
    "    \n",
    "    def flatten_branch(branch, acc):\n",
    "        if((branch.right_branch == None) and (branch.left_branch == None)):\n",
    "            return acc.append(branch)\n",
    "        else:\n",
    "            if(not tree.right_branch == None):\n",
    "                return flatten_branch(tree.right_branch, acc.append(branch))\n",
    "            if(not tree.left_branch == None): \n",
    "                return flatten_branch(tree.left_branch, acc.append(branch))\n",
    "    lbtemp = flatten_branch(model.classifier.left_branch, [])\n",
    "    rbtemp = flatten_branch(model.classifier.right_branch, [])\n",
    "    i = 0\n",
    "    for tree in lbtemp:\n",
    "        lb.append(tree)\n",
    "        i += 1\n",
    "    i = len(rb)\n",
    "    for tree in rbtemp:\n",
    "        rb.append(tree)\n",
    "        i += 1\n",
    "    \n",
    "    # traverse the tree\n",
    "    node_depth = np.zeros(shape=n_nodes, dtype=np.int64)\n",
    "    is_leaves = np.zeros(shape=n_nodes, dtype=bool)\n",
    "    stack = [(0, -1)]  # seed is the root node id and its parent depth\n",
    "    while len(stack) > 0:\n",
    "        node_id, parent_depth = stack.pop()\n",
    "        node_depth[node_id] = parent_depth + 1\n",
    "\n",
    "        if (lb[node_id] != rb[node_id]):\n",
    "            stack.append((lb[node_id], parent_depth + 1))\n",
    "            stack.append((rb[node_id], parent_depth + 1))\n",
    "        else:\n",
    "            is_leaves[node_id] = True\n",
    "\n",
    "    #aggregate results\n",
    "    nodes = {}\n",
    "    for i in range(n_nodes):\n",
    "        nodes[i] = {\n",
    "            \"is_leaf\": 1 if is_leaves[i] else 0,\n",
    "            \"depth\": int(node_depth[i]),\n",
    "            \"id\": int(i),\n",
    "            \"children_l\": int(lb[i]),\n",
    "            \"children_r\": int(rb[i]),\n",
    "            \"feature\": feature_names[feature[i]],\n",
    "            \"threshold\": threshold[i]\n",
    "        }\n",
    "    return {\n",
    "        'n_nodes':int(n_nodes), \n",
    "        \"nodes\": nodes,\n",
    "        \"feature_importances\": list(model.classifier.gain)}"
   ]
  },
  {
   "cell_type": "code",
   "execution_count": 87,
   "metadata": {},
   "outputs": [
    {
     "data": {
      "text/plain": [
       "3"
      ]
     },
     "execution_count": 87,
     "metadata": {},
     "output_type": "execute_result"
    }
   ],
   "source": [
    "tree = c45.DecisionTree()\n",
    "tree.fit(df)\n",
    "count_nodes(tree.classifier)"
   ]
  },
  {
   "cell_type": "code",
   "execution_count": 90,
   "metadata": {},
   "outputs": [],
   "source": [
    "def test_forest(df, ss, ntrees):\n",
    "    times = []\n",
    "    forest = c45.RandomForest(subsample_ratio = ss, n_trees = ntrees)\n",
    "    for i in range(10):\n",
    "        start = timeit.default_timer()\n",
    "        forest.fit(df)\n",
    "        stop = timeit.default_timer()\n",
    "        times.append(stop-start)\n",
    "    print(sum(times)/len(times)) \n"
   ]
  },
  {
   "cell_type": "code",
   "execution_count": 93,
   "metadata": {},
   "outputs": [
    {
     "name": "stdout",
     "output_type": "stream",
     "text": [
      "2.152095545598422\n"
     ]
    }
   ],
   "source": [
    "test_forest(val_data, .1, 5)"
   ]
  },
  {
   "cell_type": "code",
   "execution_count": 94,
   "metadata": {},
   "outputs": [
    {
     "name": "stdout",
     "output_type": "stream",
     "text": [
      "6.315452301497862\n"
     ]
    }
   ],
   "source": [
    "test_forest(val_data, .2, 5)"
   ]
  },
  {
   "cell_type": "code",
   "execution_count": 96,
   "metadata": {},
   "outputs": [
    {
     "name": "stdout",
     "output_type": "stream",
     "text": [
      "16.441954580102173\n"
     ]
    }
   ],
   "source": [
    "test_forest(val_data, .4, 5)"
   ]
  },
  {
   "cell_type": "code",
   "execution_count": 98,
   "metadata": {},
   "outputs": [
    {
     "name": "stdout",
     "output_type": "stream",
     "text": [
      "20.760438473096293\n"
     ]
    }
   ],
   "source": [
    "test_forest(val_data, .1, 50)"
   ]
  },
  {
   "cell_type": "code",
   "execution_count": 160,
   "metadata": {},
   "outputs": [],
   "source": [
    "test = c45.RandomForest(subsample_ratio = .1, n_trees = 5)"
   ]
  },
  {
   "cell_type": "code",
   "execution_count": 161,
   "metadata": {},
   "outputs": [],
   "source": [
    "test.fit(val_data)"
   ]
  },
  {
   "cell_type": "code",
   "execution_count": 150,
   "metadata": {},
   "outputs": [
    {
     "data": {
      "text/plain": [
       "0.0"
      ]
     },
     "execution_count": 150,
     "metadata": {},
     "output_type": "execute_result"
    }
   ],
   "source": [
    "(tree.classifier.left_branch.gain)"
   ]
  },
  {
   "cell_type": "code",
   "execution_count": 213,
   "metadata": {},
   "outputs": [
    {
     "data": {
      "text/plain": [
       "[96.66666666666667,\n",
       " 96.21468926553672,\n",
       " 96.10169491525423,\n",
       " 95.76271186440678,\n",
       " 96.55367231638418,\n",
       " 96.4406779661017]"
      ]
     },
     "execution_count": 213,
     "metadata": {},
     "output_type": "execute_result"
    }
   ],
   "source": [
    "c45.evaluate_forest(val_data, 6, subsample_ratio = .1, ntrees = 5)"
   ]
  },
  {
   "cell_type": "code",
   "execution_count": 214,
   "metadata": {},
   "outputs": [
    {
     "data": {
      "text/plain": [
       "96.6949152542373"
      ]
     },
     "execution_count": 214,
     "metadata": {},
     "output_type": "execute_result"
    }
   ],
   "source": [
    "importlib.reload(c45)\n",
    "#rf = c45.RandomForest(subsample_ratio = .1, n_trees = 5)\n",
    "#rf.fit(val_data)\n",
    "#rf.score(val_data, 6)\n",
    "c45.mean_accuracy(val_data, 5, .1, ntrees = 5)"
   ]
  },
  {
   "cell_type": "code",
   "execution_count": 215,
   "metadata": {},
   "outputs": [
    {
     "data": {
      "text/plain": [
       "96.98681732580037"
      ]
     },
     "execution_count": 215,
     "metadata": {},
     "output_type": "execute_result"
    }
   ],
   "source": [
    "c45.mean_accuracy(val_data, 5, .5, ntrees = 25)"
   ]
  },
  {
   "cell_type": "code",
   "execution_count": 241,
   "metadata": {},
   "outputs": [
    {
     "data": {
      "text/plain": [
       "96.46892655367233"
      ]
     },
     "execution_count": 241,
     "metadata": {},
     "output_type": "execute_result"
    }
   ],
   "source": [
    "c45.mean_tree_accuracy(val_data, 5)"
   ]
  },
  {
   "cell_type": "code",
   "execution_count": 258,
   "metadata": {},
   "outputs": [],
   "source": [
    "def time_classifier(df, classifier):\n",
    "    \"\"\"\n",
    "    timing function that should also have the side effect of actually training a forest\n",
    "    \"\"\"\n",
    "    times = []\n",
    "    for i in range(10):\n",
    "        start = timeit.default_timer()\n",
    "        classifier.fit(df)\n",
    "        stop = timeit.default_timer()\n",
    "        times.append(stop-start)\n",
    "    print(sum(times)/len(times))\n",
    "    \n",
    "def time_scoring(df, n_folds, subsamp_ratio, ntrees, forest = False):\n",
    "    times = []\n",
    "    if forest:\n",
    "        for i in range(10):\n",
    "            start = timeit.default_timer()\n",
    "            meanacc = c45.mean_accuracy(df, 5, subsamp_ratio, ntrees)\n",
    "            stop = timeit.default_timer()\n",
    "            times.append(stop-start)\n",
    "        return (meanacc, (sum(times)/len(times)))\n",
    "    else:\n",
    "        for i in range(10):\n",
    "            start = timeit.default_timer()\n",
    "            meanacc = c45.mean_tree_accuracy(df, 5)\n",
    "            stop = timeit.default_timer()\n",
    "            times.append(stop-start)\n",
    "        return (meanacc, (sum(times)/len(times)))\n",
    "    \n"
   ]
  },
  {
   "cell_type": "code",
   "execution_count": 246,
   "metadata": {},
   "outputs": [],
   "source": [
    "forest1 = c45.RandomForest(subsample_ratio = .5, n_trees = 25)"
   ]
  },
  {
   "cell_type": "code",
   "execution_count": 247,
   "metadata": {},
   "outputs": [
    {
     "name": "stdout",
     "output_type": "stream",
     "text": [
      "118.45014807390108\n"
     ]
    }
   ],
   "source": [
    "time_classifier(val_data, forest1)"
   ]
  },
  {
   "cell_type": "code",
   "execution_count": 249,
   "metadata": {},
   "outputs": [
    {
     "data": {
      "text/plain": [
       "(97.0056497175141, 412.03126984929696)"
      ]
     },
     "execution_count": 249,
     "metadata": {},
     "output_type": "execute_result"
    }
   ],
   "source": [
    "time_scoring(val_data, 5, .5, 25, forest = True)"
   ]
  },
  {
   "cell_type": "code",
   "execution_count": 248,
   "metadata": {},
   "outputs": [
    {
     "data": {
      "text/plain": [
       "[<c45.DecisionTree at 0x118deada0>,\n",
       " <c45.DecisionTree at 0x118e12550>,\n",
       " <c45.DecisionTree at 0x1190481d0>,\n",
       " <c45.DecisionTree at 0x11914bc18>,\n",
       " <c45.DecisionTree at 0x118fd4588>,\n",
       " <c45.DecisionTree at 0x118e47a58>,\n",
       " <c45.DecisionTree at 0x119146358>,\n",
       " <c45.DecisionTree at 0x119036e10>,\n",
       " <c45.DecisionTree at 0x119135c50>,\n",
       " <c45.DecisionTree at 0x118e82518>,\n",
       " <c45.DecisionTree at 0x119142a20>,\n",
       " <c45.DecisionTree at 0x118ff9710>,\n",
       " <c45.DecisionTree at 0x118e70eb8>,\n",
       " <c45.DecisionTree at 0x119029438>,\n",
       " <c45.DecisionTree at 0x1190498d0>,\n",
       " <c45.DecisionTree at 0x118e5e320>,\n",
       " <c45.DecisionTree at 0x118e87b70>,\n",
       " <c45.DecisionTree at 0x1191fa588>,\n",
       " <c45.DecisionTree at 0x11900dac8>,\n",
       " <c45.DecisionTree at 0x118e7e668>,\n",
       " <c45.DecisionTree at 0x119052a20>,\n",
       " <c45.DecisionTree at 0x11908d438>,\n",
       " <c45.DecisionTree at 0x119139e48>,\n",
       " <c45.DecisionTree at 0x11902e0b8>,\n",
       " <c45.DecisionTree at 0x118fff400>]"
      ]
     },
     "execution_count": 248,
     "metadata": {},
     "output_type": "execute_result"
    }
   ],
   "source": [
    "forest1.forest"
   ]
  },
  {
   "cell_type": "code",
   "execution_count": 256,
   "metadata": {},
   "outputs": [
    {
     "data": {
      "text/plain": [
       "5"
      ]
     },
     "execution_count": 256,
     "metadata": {},
     "output_type": "execute_result"
    }
   ],
   "source": [
    "count_nodes(forest1.forest[4].classifier)"
   ]
  },
  {
   "cell_type": "code",
   "execution_count": 259,
   "metadata": {},
   "outputs": [
    {
     "data": {
      "text/plain": [
       "(96.32768361581921, 59.30279422180028)"
      ]
     },
     "execution_count": 259,
     "metadata": {},
     "output_type": "execute_result"
    }
   ],
   "source": [
    "time_scoring(val_data, 5, None, None, forest = False)"
   ]
  }
 ],
 "metadata": {
  "kernelspec": {
   "display_name": "Python 3",
   "language": "python",
   "name": "python3"
  },
  "language_info": {
   "codemirror_mode": {
    "name": "ipython",
    "version": 3
   },
   "file_extension": ".py",
   "mimetype": "text/x-python",
   "name": "python",
   "nbconvert_exporter": "python",
   "pygments_lexer": "ipython3",
   "version": "3.7.0"
  }
 },
 "nbformat": 4,
 "nbformat_minor": 2
}
