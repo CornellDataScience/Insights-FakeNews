{
 "cells": [
  {
   "cell_type": "markdown",
   "metadata": {},
   "source": [
    "C4.5 Binary Decision Tree Implementation\n",
    "\n",
    "Usage: \n",
    "\n",
    "1. Read csv file in; will be stored as a 2 Dimensional list. (See fread())\n",
    "2. Train a classifier (i.e. train(list))\n",
    "3. Prune the decision tree (i.e. prune_tree(tree, 0.5))\n",
    "4. Predict the result (i.e. predict([.....], classifier))\n",
    "\n",
    "The function assumes that the last column of your data is populated by labels."
   ]
  },
  {
   "cell_type": "code",
   "execution_count": 46,
   "metadata": {},
   "outputs": [],
   "source": [
    "import c45\n",
    "import timeit\n",
    "from random import shuffle\n",
    "import importlib\n",
    "import csv"
   ]
  },
  {
   "cell_type": "code",
   "execution_count": 47,
   "metadata": {},
   "outputs": [
    {
     "data": {
      "text/plain": [
       "<module 'c45' from '/Users/maximillian/Documents/GitHub/CDS/Insights-FakeNews/c45.py'>"
      ]
     },
     "execution_count": 47,
     "metadata": {},
     "output_type": "execute_result"
    }
   ],
   "source": [
    "importlib.reload(c45)"
   ]
  },
  {
   "cell_type": "code",
   "execution_count": 13,
   "metadata": {},
   "outputs": [],
   "source": [
    "\"\"\"\n",
    "Helper functions: type_conversion, fread\n",
    "\"\"\"\n",
    "def type_conversion(val):\n",
    "        val = val.strip()\n",
    "\n",
    "        try:\n",
    "            if '.' in val:\n",
    "                return float(val)\n",
    "            else:\n",
    "                return int(val)\n",
    "\n",
    "        except ValueError:\n",
    "            #For other types, return\n",
    "            return val\n",
    "\n",
    "def fread(f, col_labels = False):\n",
    "    \"\"\"\n",
    "    takes a filepath, f, and a boolean argument, col_labels.\n",
    "    By default, col_labels is False, implying that the columns do not have labels. If set to true,\n",
    "    fread will remove the row containing column labels at the end.\n",
    "    \"\"\"\n",
    "    data = csv.reader(open(f, 'rt'))\n",
    "    lst = [[type_conversion(i) for i in r] for r in data]\n",
    "    if col_labels:\n",
    "        lst.pop(0)\n",
    "    return lst"
   ]
  },
  {
   "cell_type": "code",
   "execution_count": 14,
   "metadata": {},
   "outputs": [],
   "source": [
    "df = fread(\"./Iris.csv\", True)\n",
    "#n * d data, n rows d cols\n",
    "df = [i[1:] for i in df]\n",
    "shuffle(df)\n",
    "df, df_test = df[:-50],df[-50:]\n",
    "\n",
    "#these are for performance testing estimates\n",
    "df2 = df[:int(len(df)/2)] #n/2\n",
    "df3 = [i[:2] for i in df] #d/2\n",
    "df4 = [i[:-1]+i for i in df] #2d\n",
    "df5 = df+df # 2n\n",
    "df6 = df5+df5 #4n\n",
    "df7 = [i[:-1]+i for i in df4] #4d"
   ]
  },
  {
   "cell_type": "code",
   "execution_count": 15,
   "metadata": {},
   "outputs": [],
   "source": [
    "\"\"\"\n",
    "TODO:\n",
    "Optimize\n",
    "Testing\n",
    "\"\"\"\n",
    "\n",
    "data = fread(\"./test_val_dump.csv\", True)\n",
    "drop_first_col = [x[1:] for x in data]\n",
    "val_data = drop_first_col"
   ]
  },
  {
   "cell_type": "markdown",
   "metadata": {},
   "source": [
    "The base cases are the following:\n",
    "\n",
    "•  All the examples from the training set belong to the same class ( a tree leaf labeled with that class is returned ).\n",
    "\n",
    "•  The training set is empty ( returns a tree leaf called failure ).\n",
    "\n",
    "•  The attribute list is empty ( returns a leaf labeled with the most frequent class or the disjuction of all the classes).\n",
    "https://octaviansima.wordpress.com/2011/03/25/decision-trees-c4-5/"
   ]
  },
  {
   "cell_type": "code",
   "execution_count": 194,
   "metadata": {
    "collapsed": true
   },
   "outputs": [],
   "source": [
    "def test_times(df):\n",
    "    times = []\n",
    "    tree = c45.DecisionTree()\n",
    "    for i in range(10):\n",
    "        start = timeit.default_timer()\n",
    "        tree.fit(df)\n",
    "        stop = timeit.default_timer()\n",
    "        times.append(stop-start)\n",
    "    print(sum(times)/len(times)) "
   ]
  },
  {
   "cell_type": "code",
   "execution_count": 195,
   "metadata": {},
   "outputs": [
    {
     "name": "stdout",
     "output_type": "stream",
     "text": [
      "0.012557539594126865\n",
      "0.020265244401525707\n",
      "0.01848158090142533\n",
      "0.03079748079762794\n"
     ]
    }
   ],
   "source": [
    "#n d\n",
    "test_times(df)\n",
    "#n 2d\n",
    "test_times(df4)\n",
    "#2n d\n",
    "test_times(df5)\n",
    "test_times(df6)"
   ]
  },
  {
   "cell_type": "code",
   "execution_count": 203,
   "metadata": {},
   "outputs": [
    {
     "name": "stdout",
     "output_type": "stream",
     "text": [
      "0.006191417694208212\n"
     ]
    }
   ],
   "source": [
    "test_times(df2)"
   ]
  },
  {
   "cell_type": "code",
   "execution_count": 205,
   "metadata": {},
   "outputs": [],
   "source": [
    "def test_accuracy(tr, test):\n",
    "    tree = c45.DecisionTree(max_depth = 25, min_samples_leaf = 3, min_samples_split = 10)\n",
    "    tree.fit(tr)\n",
    "    acc = [(tree.classify(x[:-1]) == x[-1]) for x in test]\n",
    "    print(Counter(acc))"
   ]
  },
  {
   "cell_type": "code",
   "execution_count": 206,
   "metadata": {},
   "outputs": [
    {
     "name": "stdout",
     "output_type": "stream",
     "text": [
      "Counter({True: 48, False: 2})\n"
     ]
    }
   ],
   "source": [
    "test_accuracy(df, df_test)"
   ]
  },
  {
   "cell_type": "code",
   "execution_count": 207,
   "metadata": {},
   "outputs": [
    {
     "name": "stdout",
     "output_type": "stream",
     "text": [
      "Counter({True: 966, False: 34})\n"
     ]
    }
   ],
   "source": [
    "test_accuracy(val_data[:-1000], val_data[-1000:])"
   ]
  },
  {
   "cell_type": "code",
   "execution_count": 208,
   "metadata": {},
   "outputs": [
    {
     "name": "stdout",
     "output_type": "stream",
     "text": [
      "15.544272611194174\n"
     ]
    }
   ],
   "source": [
    "test_times(val_data)"
   ]
  },
  {
   "cell_type": "code",
   "execution_count": 48,
   "metadata": {},
   "outputs": [],
   "source": [
    "import numpy as np\n",
    "def count_nodes(tree):\n",
    "    \"\"\"\n",
    "    \"tree\" is a classifier, i.e. the underlying Tree object within a DecisionTree object.\n",
    "    \"\"\"\n",
    "    if((tree.right_branch == None) and (tree.left_branch == None)):\n",
    "        return 1\n",
    "    else:\n",
    "        if(not tree.right_branch == None):\n",
    "            return 1 + count_nodes(tree.right_branch)\n",
    "        if(not tree.left_branch == None): \n",
    "            return 1 + count_nodes(tree.left_branch)\n",
    "\n",
    "def c45_tree_to_dict(model, feature_names):\n",
    "    \"\"\"\n",
    "    Adaptation from utils.tree_to_dict\n",
    "    \"\"\"\n",
    "    tree_ = model.classifier\n",
    "    n_nodes = count_nodes(model.classifier)\n",
    "    lb = model.classifier.left_branch\n",
    "    rb = model.classifier.right_branch\n",
    "    feature = model.classifier.feature\n",
    "    threshold = model.classifier.value\n",
    "    \n",
    "    # traverse the tree\n",
    "    node_depth = np.zeros(shape=n_nodes, dtype=np.int64)\n",
    "    is_leaves = np.zeros(shape=n_nodes, dtype=bool)\n",
    "    stack = [(0, -1)]  # seed is the root node id and its parent depth\n",
    "    while len(stack) > 0:\n",
    "        node_id, parent_depth = stack.pop()\n",
    "        node_depth[node_id] = parent_depth + 1\n",
    "\n",
    "        if (lb[node_id] != rb[node_id]):\n",
    "            stack.append((lb[node_id], parent_depth + 1))\n",
    "            stack.append((rb[node_id], parent_depth + 1))\n",
    "        else:\n",
    "            is_leaves[node_id] = True\n",
    "\n",
    "    #aggregate results\n",
    "    nodes = {}\n",
    "    for i in range(n_nodes):\n",
    "        nodes[i] = {\n",
    "            \"is_leaf\": 1 if is_leaves[i] else 0,\n",
    "            \"depth\": int(node_depth[i]),\n",
    "            \"id\": int(i),\n",
    "            \"children_l\": int(lb[i]),\n",
    "            \"children_r\": int(rb[i]),\n",
    "            \"feature\": feature_names[feature[i]],\n",
    "            \"threshold\": threshold[i]\n",
    "        }\n",
    "    return {\n",
    "        'n_nodes':int(n_nodes), \n",
    "        \"nodes\": nodes}#, \n",
    "        #\"feature_importances\": list(model.feature_importances_)}"
   ]
  },
  {
   "cell_type": "code",
   "execution_count": 52,
   "metadata": {},
   "outputs": [
    {
     "data": {
      "text/plain": [
       "3"
      ]
     },
     "execution_count": 52,
     "metadata": {},
     "output_type": "execute_result"
    }
   ],
   "source": [
    "tree = c45.DecisionTree()\n",
    "tree.fit(df)\n",
    "count_nodes(tree.classifier)"
   ]
  },
  {
   "cell_type": "code",
   "execution_count": 56,
   "metadata": {},
   "outputs": [
    {
     "data": {
      "text/plain": [
       "0.0"
      ]
     },
     "execution_count": 56,
     "metadata": {},
     "output_type": "execute_result"
    }
   ],
   "source": [
    "(tree.classifier.left_branch.gain)"
   ]
  },
  {
   "cell_type": "code",
   "execution_count": 40,
   "metadata": {},
   "outputs": [
    {
     "ename": "TypeError",
     "evalue": "'Tree' object does not support indexing",
     "output_type": "error",
     "traceback": [
      "\u001b[0;31m---------------------------------------------------------------------------\u001b[0m",
      "\u001b[0;31mTypeError\u001b[0m                                 Traceback (most recent call last)",
      "\u001b[0;32m<ipython-input-40-68ee18d154e0>\u001b[0m in \u001b[0;36m<module>\u001b[0;34m()\u001b[0m\n\u001b[0;32m----> 1\u001b[0;31m \u001b[0mc45_tree_to_dict\u001b[0m\u001b[0;34m(\u001b[0m\u001b[0mtree\u001b[0m\u001b[0;34m,\u001b[0m \u001b[0;34m[\u001b[0m\u001b[0;34m\"1\"\u001b[0m\u001b[0;34m,\u001b[0m \u001b[0;34m\"2\"\u001b[0m\u001b[0;34m,\u001b[0m \u001b[0;34m\"3\"\u001b[0m\u001b[0;34m,\u001b[0m \u001b[0;34m\"4\"\u001b[0m\u001b[0;34m]\u001b[0m\u001b[0;34m)\u001b[0m\u001b[0;34m\u001b[0m\u001b[0m\n\u001b[0m",
      "\u001b[0;32m<ipython-input-39-3c893a75258b>\u001b[0m in \u001b[0;36mc45_tree_to_dict\u001b[0;34m(model, feature_names)\u001b[0m\n\u001b[1;32m     31\u001b[0m         \u001b[0mnode_depth\u001b[0m\u001b[0;34m[\u001b[0m\u001b[0mnode_id\u001b[0m\u001b[0;34m]\u001b[0m \u001b[0;34m=\u001b[0m \u001b[0mparent_depth\u001b[0m \u001b[0;34m+\u001b[0m \u001b[0;36m1\u001b[0m\u001b[0;34m\u001b[0m\u001b[0m\n\u001b[1;32m     32\u001b[0m \u001b[0;34m\u001b[0m\u001b[0m\n\u001b[0;32m---> 33\u001b[0;31m         \u001b[0;32mif\u001b[0m \u001b[0;34m(\u001b[0m\u001b[0mlb\u001b[0m\u001b[0;34m[\u001b[0m\u001b[0mnode_id\u001b[0m\u001b[0;34m]\u001b[0m \u001b[0;34m!=\u001b[0m \u001b[0mrb\u001b[0m\u001b[0;34m[\u001b[0m\u001b[0mnode_id\u001b[0m\u001b[0;34m]\u001b[0m\u001b[0;34m)\u001b[0m\u001b[0;34m:\u001b[0m\u001b[0;34m\u001b[0m\u001b[0m\n\u001b[0m\u001b[1;32m     34\u001b[0m             \u001b[0mstack\u001b[0m\u001b[0;34m.\u001b[0m\u001b[0mappend\u001b[0m\u001b[0;34m(\u001b[0m\u001b[0;34m(\u001b[0m\u001b[0mlb\u001b[0m\u001b[0;34m[\u001b[0m\u001b[0mnode_id\u001b[0m\u001b[0;34m]\u001b[0m\u001b[0;34m,\u001b[0m \u001b[0mparent_depth\u001b[0m \u001b[0;34m+\u001b[0m \u001b[0;36m1\u001b[0m\u001b[0;34m)\u001b[0m\u001b[0;34m)\u001b[0m\u001b[0;34m\u001b[0m\u001b[0m\n\u001b[1;32m     35\u001b[0m             \u001b[0mstack\u001b[0m\u001b[0;34m.\u001b[0m\u001b[0mappend\u001b[0m\u001b[0;34m(\u001b[0m\u001b[0;34m(\u001b[0m\u001b[0mrb\u001b[0m\u001b[0;34m[\u001b[0m\u001b[0mnode_id\u001b[0m\u001b[0;34m]\u001b[0m\u001b[0;34m,\u001b[0m \u001b[0mparent_depth\u001b[0m \u001b[0;34m+\u001b[0m \u001b[0;36m1\u001b[0m\u001b[0;34m)\u001b[0m\u001b[0;34m)\u001b[0m\u001b[0;34m\u001b[0m\u001b[0m\n",
      "\u001b[0;31mTypeError\u001b[0m: 'Tree' object does not support indexing"
     ]
    }
   ],
   "source": [
    "c45_tree_to_dict(tree, [\"1\", \"2\", \"3\", \"4\"])"
   ]
  },
  {
   "cell_type": "code",
   "execution_count": 34,
   "metadata": {},
   "outputs": [
    {
     "name": "stdout",
     "output_type": "stream",
     "text": [
      "[[5.8, 2.7, 4.1, 1.0, 'Iris-versicolor'], [6.3, 2.5, 5.0, 1.9, 'Iris-virginica'], [6.8, 2.8, 4.8, 1.4, 'Iris-versicolor'], [6.8, 3.0, 5.5, 2.1, 'Iris-virginica'], [6.4, 2.7, 5.3, 1.9, 'Iris-virginica'], [6.6, 2.9, 4.6, 1.3, 'Iris-versicolor'], [5.1, 3.5, 1.4, 0.3, 'Iris-setosa'], [5.8, 2.7, 5.1, 1.9, 'Iris-virginica'], [5.7, 3.8, 1.7, 0.3, 'Iris-setosa'], [5.5, 2.6, 4.4, 1.2, 'Iris-versicolor'], [7.4, 2.8, 6.1, 1.9, 'Iris-virginica'], [6.7, 3.0, 5.2, 2.3, 'Iris-virginica'], [6.5, 3.0, 5.5, 1.8, 'Iris-virginica'], [6.2, 3.4, 5.4, 2.3, 'Iris-virginica'], [5.4, 3.9, 1.7, 0.4, 'Iris-setosa'], [4.9, 2.4, 3.3, 1.0, 'Iris-versicolor'], [6.1, 2.9, 4.7, 1.4, 'Iris-versicolor'], [4.6, 3.6, 1.0, 0.2, 'Iris-setosa'], [6.5, 3.0, 5.2, 2.0, 'Iris-virginica'], [6.6, 3.0, 4.4, 1.4, 'Iris-versicolor'], [5.1, 3.4, 1.5, 0.2, 'Iris-setosa'], [4.6, 3.1, 1.5, 0.2, 'Iris-setosa'], [4.5, 2.3, 1.3, 0.3, 'Iris-setosa'], [5.0, 2.0, 3.5, 1.0, 'Iris-versicolor'], [6.1, 3.0, 4.9, 1.8, 'Iris-virginica'], [6.1, 2.8, 4.0, 1.3, 'Iris-versicolor'], [6.9, 3.2, 5.7, 2.3, 'Iris-virginica'], [5.1, 3.8, 1.6, 0.2, 'Iris-setosa'], [6.1, 2.8, 4.7, 1.2, 'Iris-versicolor'], [5.0, 3.5, 1.3, 0.3, 'Iris-setosa'], [6.0, 3.0, 4.8, 1.8, 'Iris-virginica'], [6.3, 3.3, 4.7, 1.6, 'Iris-versicolor'], [6.3, 2.7, 4.9, 1.8, 'Iris-virginica'], [4.7, 3.2, 1.3, 0.2, 'Iris-setosa'], [4.9, 2.5, 4.5, 1.7, 'Iris-virginica'], [6.3, 2.3, 4.4, 1.3, 'Iris-versicolor'], [5.9, 3.0, 4.2, 1.5, 'Iris-versicolor'], [6.5, 2.8, 4.6, 1.5, 'Iris-versicolor'], [7.2, 3.0, 5.8, 1.6, 'Iris-virginica'], [5.5, 2.4, 3.8, 1.1, 'Iris-versicolor'], [4.9, 3.1, 1.5, 0.1, 'Iris-setosa'], [5.7, 2.8, 4.5, 1.3, 'Iris-versicolor'], [6.0, 2.7, 5.1, 1.6, 'Iris-versicolor'], [6.3, 2.9, 5.6, 1.8, 'Iris-virginica'], [5.4, 3.4, 1.5, 0.4, 'Iris-setosa'], [5.8, 2.6, 4.0, 1.2, 'Iris-versicolor'], [6.5, 3.2, 5.1, 2.0, 'Iris-virginica'], [7.7, 3.8, 6.7, 2.2, 'Iris-virginica'], [6.7, 3.1, 5.6, 2.4, 'Iris-virginica'], [5.9, 3.2, 4.8, 1.8, 'Iris-versicolor'], [5.4, 3.4, 1.7, 0.2, 'Iris-setosa'], [5.4, 3.7, 1.5, 0.2, 'Iris-setosa'], [7.9, 3.8, 6.4, 2.0, 'Iris-virginica'], [4.8, 3.4, 1.9, 0.2, 'Iris-setosa'], [5.4, 3.0, 4.5, 1.5, 'Iris-versicolor'], [5.8, 4.0, 1.2, 0.2, 'Iris-setosa'], [6.4, 3.2, 5.3, 2.3, 'Iris-virginica'], [6.4, 2.8, 5.6, 2.2, 'Iris-virginica'], [6.5, 3.0, 5.8, 2.2, 'Iris-virginica'], [5.2, 4.1, 1.5, 0.1, 'Iris-setosa'], [7.7, 3.0, 6.1, 2.3, 'Iris-virginica'], [5.0, 3.2, 1.2, 0.2, 'Iris-setosa'], [6.1, 3.0, 4.6, 1.4, 'Iris-versicolor'], [5.1, 3.8, 1.5, 0.3, 'Iris-setosa'], [5.0, 3.5, 1.6, 0.6, 'Iris-setosa'], [5.8, 2.7, 5.1, 1.9, 'Iris-virginica'], [5.6, 2.7, 4.2, 1.3, 'Iris-versicolor'], [5.5, 2.4, 3.7, 1.0, 'Iris-versicolor'], [5.1, 3.7, 1.5, 0.4, 'Iris-setosa'], [6.1, 2.6, 5.6, 1.4, 'Iris-virginica'], [4.6, 3.2, 1.4, 0.2, 'Iris-setosa'], [4.6, 3.4, 1.4, 0.3, 'Iris-setosa'], [5.0, 3.3, 1.4, 0.2, 'Iris-setosa'], [5.1, 3.5, 1.4, 0.2, 'Iris-setosa'], [6.9, 3.1, 5.4, 2.1, 'Iris-virginica'], [7.0, 3.2, 4.7, 1.4, 'Iris-versicolor'], [6.9, 3.1, 4.9, 1.5, 'Iris-versicolor'], [6.8, 3.2, 5.9, 2.3, 'Iris-virginica'], [6.7, 3.0, 5.0, 1.7, 'Iris-versicolor'], [4.4, 3.2, 1.3, 0.2, 'Iris-setosa'], [5.7, 2.5, 5.0, 2.0, 'Iris-virginica'], [6.2, 2.2, 4.5, 1.5, 'Iris-versicolor'], [5.5, 4.2, 1.4, 0.2, 'Iris-setosa'], [5.5, 2.5, 4.0, 1.3, 'Iris-versicolor'], [7.2, 3.2, 6.0, 1.8, 'Iris-virginica'], [6.3, 3.3, 6.0, 2.5, 'Iris-virginica'], [6.3, 2.5, 4.9, 1.5, 'Iris-versicolor'], [6.7, 2.5, 5.8, 1.8, 'Iris-virginica'], [5.5, 2.3, 4.0, 1.3, 'Iris-versicolor'], [6.2, 2.9, 4.3, 1.3, 'Iris-versicolor'], [5.9, 3.0, 5.1, 1.8, 'Iris-virginica'], [5.1, 2.5, 3.0, 1.1, 'Iris-versicolor'], [6.7, 3.3, 5.7, 2.1, 'Iris-virginica'], [5.7, 2.8, 4.1, 1.3, 'Iris-versicolor'], [6.3, 3.4, 5.6, 2.4, 'Iris-virginica'], [5.1, 3.8, 1.9, 0.4, 'Iris-setosa'], [5.7, 2.9, 4.2, 1.3, 'Iris-versicolor'], [6.4, 3.2, 4.5, 1.5, 'Iris-versicolor'], [5.7, 4.4, 1.5, 0.4, 'Iris-setosa'], [5.6, 2.9, 3.6, 1.3, 'Iris-versicolor']] ['1', '2', '3', '4']\n"
     ]
    }
   ],
   "source": [
    "print(df)"
   ]
  },
  {
   "cell_type": "code",
   "execution_count": null,
   "metadata": {},
   "outputs": [],
   "source": []
  }
 ],
 "metadata": {
  "kernelspec": {
   "display_name": "Python 3",
   "language": "python",
   "name": "python3"
  },
  "language_info": {
   "codemirror_mode": {
    "name": "ipython",
    "version": 3
   },
   "file_extension": ".py",
   "mimetype": "text/x-python",
   "name": "python",
   "nbconvert_exporter": "python",
   "pygments_lexer": "ipython3",
   "version": "3.7.0"
  }
 },
 "nbformat": 4,
 "nbformat_minor": 2
}
