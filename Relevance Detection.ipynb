{
 "cells": [
  {
   "cell_type": "code",
   "execution_count": 1,
   "metadata": {},
   "outputs": [
    {
     "data": {
      "text/plain": [
       "'\\nRelevance Detection\\n'"
      ]
     },
     "execution_count": 1,
     "metadata": {},
     "output_type": "execute_result"
    }
   ],
   "source": [
    "\"\"\"\n",
    "Relevance Detection\n",
    "\"\"\""
   ]
  },
  {
   "cell_type": "code",
   "execution_count": 2,
   "metadata": {
    "collapsed": true
   },
   "outputs": [],
   "source": [
    "import pandas as pd\n",
    "import nltk\n",
    "import numpy as np\n",
    "import preprocessing\n",
    "import importlib\n",
    "from sklearn.feature_extraction.text import TfidfVectorizer, CountVectorizer\n",
    "from collections import Counter\n",
    "from sklearn.metrics import confusion_matrix\n",
    "import score\n",
    "from sklearn.preprocessing import StandardScaler"
   ]
  },
  {
   "cell_type": "code",
   "execution_count": 25,
   "metadata": {},
   "outputs": [
    {
     "data": {
      "text/plain": [
       "<module 'preprocessing' from '/Users/dannyyang/Documents/GitHub/Insights-FakeNews/preprocessing.py'>"
      ]
     },
     "execution_count": 25,
     "metadata": {},
     "output_type": "execute_result"
    }
   ],
   "source": [
    "#run this cell to reload the preprocessing module\n",
    "importlib.reload(preprocessing)"
   ]
  },
  {
   "cell_type": "code",
   "execution_count": 4,
   "metadata": {},
   "outputs": [
    {
     "name": "stdout",
     "output_type": "stream",
     "text": [
      "(49972, 3)\n"
     ]
    },
    {
     "data": {
      "text/html": [
       "<div>\n",
       "<style>\n",
       "    .dataframe thead tr:only-child th {\n",
       "        text-align: right;\n",
       "    }\n",
       "\n",
       "    .dataframe thead th {\n",
       "        text-align: left;\n",
       "    }\n",
       "\n",
       "    .dataframe tbody tr th {\n",
       "        vertical-align: top;\n",
       "    }\n",
       "</style>\n",
       "<table border=\"1\" class=\"dataframe\">\n",
       "  <thead>\n",
       "    <tr style=\"text-align: right;\">\n",
       "      <th></th>\n",
       "      <th>Headline</th>\n",
       "      <th>Body ID</th>\n",
       "      <th>Stance</th>\n",
       "    </tr>\n",
       "  </thead>\n",
       "  <tbody>\n",
       "    <tr>\n",
       "      <th>0</th>\n",
       "      <td>Police find mass graves with at least '15 bodi...</td>\n",
       "      <td>712</td>\n",
       "      <td>unrelated</td>\n",
       "    </tr>\n",
       "    <tr>\n",
       "      <th>1</th>\n",
       "      <td>Hundreds of Palestinians flee floods in Gaza a...</td>\n",
       "      <td>158</td>\n",
       "      <td>agree</td>\n",
       "    </tr>\n",
       "    <tr>\n",
       "      <th>2</th>\n",
       "      <td>Christian Bale passes on role of Steve Jobs, a...</td>\n",
       "      <td>137</td>\n",
       "      <td>unrelated</td>\n",
       "    </tr>\n",
       "    <tr>\n",
       "      <th>3</th>\n",
       "      <td>HBO and Apple in Talks for $15/Month Apple TV ...</td>\n",
       "      <td>1034</td>\n",
       "      <td>unrelated</td>\n",
       "    </tr>\n",
       "    <tr>\n",
       "      <th>4</th>\n",
       "      <td>Spider burrowed through tourist's stomach and ...</td>\n",
       "      <td>1923</td>\n",
       "      <td>disagree</td>\n",
       "    </tr>\n",
       "  </tbody>\n",
       "</table>\n",
       "</div>"
      ],
      "text/plain": [
       "                                            Headline  Body ID     Stance\n",
       "0  Police find mass graves with at least '15 bodi...      712  unrelated\n",
       "1  Hundreds of Palestinians flee floods in Gaza a...      158      agree\n",
       "2  Christian Bale passes on role of Steve Jobs, a...      137  unrelated\n",
       "3  HBO and Apple in Talks for $15/Month Apple TV ...     1034  unrelated\n",
       "4  Spider burrowed through tourist's stomach and ...     1923   disagree"
      ]
     },
     "execution_count": 4,
     "metadata": {},
     "output_type": "execute_result"
    }
   ],
   "source": [
    "train_stances = pd.read_csv(\"fn_data/train_stances.csv\")\n",
    "print(train_stances.shape)\n",
    "train_stances.head()"
   ]
  },
  {
   "cell_type": "code",
   "execution_count": 5,
   "metadata": {},
   "outputs": [
    {
     "name": "stdout",
     "output_type": "stream",
     "text": [
      "(1683, 2)\n"
     ]
    },
    {
     "data": {
      "text/html": [
       "<div>\n",
       "<style>\n",
       "    .dataframe thead tr:only-child th {\n",
       "        text-align: right;\n",
       "    }\n",
       "\n",
       "    .dataframe thead th {\n",
       "        text-align: left;\n",
       "    }\n",
       "\n",
       "    .dataframe tbody tr th {\n",
       "        vertical-align: top;\n",
       "    }\n",
       "</style>\n",
       "<table border=\"1\" class=\"dataframe\">\n",
       "  <thead>\n",
       "    <tr style=\"text-align: right;\">\n",
       "      <th></th>\n",
       "      <th>Body ID</th>\n",
       "      <th>articleBody</th>\n",
       "    </tr>\n",
       "  </thead>\n",
       "  <tbody>\n",
       "    <tr>\n",
       "      <th>0</th>\n",
       "      <td>0</td>\n",
       "      <td>A small meteorite crashed into a wooded area i...</td>\n",
       "    </tr>\n",
       "    <tr>\n",
       "      <th>1</th>\n",
       "      <td>4</td>\n",
       "      <td>Last week we hinted at what was to come as Ebo...</td>\n",
       "    </tr>\n",
       "    <tr>\n",
       "      <th>2</th>\n",
       "      <td>5</td>\n",
       "      <td>(NEWSER) – Wonder how long a Quarter Pounder w...</td>\n",
       "    </tr>\n",
       "    <tr>\n",
       "      <th>3</th>\n",
       "      <td>6</td>\n",
       "      <td>Posting photos of a gun-toting child online, I...</td>\n",
       "    </tr>\n",
       "    <tr>\n",
       "      <th>4</th>\n",
       "      <td>7</td>\n",
       "      <td>At least 25 suspected Boko Haram insurgents we...</td>\n",
       "    </tr>\n",
       "  </tbody>\n",
       "</table>\n",
       "</div>"
      ],
      "text/plain": [
       "   Body ID                                        articleBody\n",
       "0        0  A small meteorite crashed into a wooded area i...\n",
       "1        4  Last week we hinted at what was to come as Ebo...\n",
       "2        5  (NEWSER) – Wonder how long a Quarter Pounder w...\n",
       "3        6  Posting photos of a gun-toting child online, I...\n",
       "4        7  At least 25 suspected Boko Haram insurgents we..."
      ]
     },
     "execution_count": 5,
     "metadata": {},
     "output_type": "execute_result"
    }
   ],
   "source": [
    "train_bodies = pd.read_csv(\"fn_data/train_bodies.csv\")\n",
    "print(train_bodies.shape)\n",
    "train_bodies.head()"
   ]
  },
  {
   "cell_type": "code",
   "execution_count": 6,
   "metadata": {},
   "outputs": [
    {
     "data": {
      "text/plain": [
       "((39949, 3), (10023, 3))"
      ]
     },
     "execution_count": 6,
     "metadata": {},
     "output_type": "execute_result"
    }
   ],
   "source": [
    "stances_tr, stances_val = preprocessing.train_test_split(train_bodies, train_stances)\n",
    "stances_tr.shape, stances_val.shape"
   ]
  },
  {
   "cell_type": "code",
   "execution_count": 7,
   "metadata": {
    "collapsed": true
   },
   "outputs": [],
   "source": [
    "# this one takes a while!\n",
    "idf = preprocessing.build_idf(train_bodies, stances_tr)"
   ]
  },
  {
   "cell_type": "code",
   "execution_count": 9,
   "metadata": {},
   "outputs": [
    {
     "data": {
      "text/plain": [
       "4.8233617373283293"
      ]
     },
     "execution_count": 9,
     "metadata": {},
     "output_type": "execute_result"
    }
   ],
   "source": []
  },
  {
   "cell_type": "code",
   "execution_count": 72,
   "metadata": {},
   "outputs": [
    {
     "name": "stdout",
     "output_type": "stream",
     "text": [
      "['burger', 'year', 'friend', 'news', 'report'] ['bought', 'showed', 'started', 'wonder', 'went']\n",
      "['burger', 'year', 'friend', 'charity', 'mcjordan'] ['bought', 'started', 'showed', 'dissuaded', 'sauce']\n"
     ]
    }
   ],
   "source": [
    "#this is just a comparison between using IDF score and not using IDF score - not related to the model\n",
    "#change the body id to see\n",
    "body = preprocessing.get_body(5, train_bodies)\n",
    "#no IDF\n",
    "processed2 = preprocessing.process_body(body)\n",
    "print(processed2['common_nouns'],processed2['common_verbs'])\n",
    "\n",
    "#with IDF\n",
    "processed = preprocessing.process_body(body, idf)\n",
    "print(processed['common_nouns'],processed['common_verbs'])"
   ]
  },
  {
   "cell_type": "code",
   "execution_count": 80,
   "metadata": {},
   "outputs": [
    {
     "name": "stdout",
     "output_type": "stream",
     "text": [
      "['unconfirmed', 'report', 'circulating', 'social', 'medium', 'islamic', 'state', 'group', 'carried', 'chemical', 'attack', 'battling', 'kurdish', 'force', 'kobani']\n",
      "['kurdish', 'affair', 'analyst', 'mutlu', 'civiroglu', 'spoke', 'remaining', 'doctor', 'inside', 'kobani', 'told', 'victim', 'civilian']\n",
      "[] []\n",
      "['unconfirmed', 'social', 'islamic', 'chemical', 'kurdish'] ['kurdish', 'civiroglu']\n",
      "['circulating', 'carried', 'battling'] ['spoke', 'remaining', 'told']\n"
     ]
    }
   ],
   "source": [
    "body = preprocessing.get_body(1369, train_bodies)\n",
    "processed = preprocessing.process_body(body, idf)\n",
    "print(processed['first_sentence']['tokens'])\n",
    "print(processed['significant_sentence']['tokens'])\n",
    "print(processed['first_sentence']['adverbs'],processed['significant_sentence']['adverbs'])\n",
    "print(processed['first_sentence']['adjectives'],processed['significant_sentence']['adjectives'])\n",
    "print(processed['first_sentence']['verbs'],processed['significant_sentence']['verbs'])"
   ]
  },
  {
   "cell_type": "code",
   "execution_count": 20,
   "metadata": {},
   "outputs": [
    {
     "name": "stdout",
     "output_type": "stream",
     "text": [
      "processed 100\n",
      "processed 200\n",
      "processed 300\n",
      "processed 400\n",
      "processed 500\n",
      "processed 600\n",
      "processed 700\n",
      "processed 800\n",
      "processed 900\n",
      "processed 1000\n",
      "processed 1100\n",
      "processed 1200\n",
      "processed 1300\n",
      "processed 1400\n",
      "processed 1500\n",
      "processed 1600\n",
      "done! processed 1683\n"
     ]
    }
   ],
   "source": [
    "#this takes a while!\n",
    "body_info = preprocessing.process_bodies(train_bodies, idf)"
   ]
  },
  {
   "cell_type": "code",
   "execution_count": 21,
   "metadata": {
    "collapsed": true
   },
   "outputs": [],
   "source": [
    "feats_list = [\n",
    "    'shared_nouns',\n",
    "    'shared_verbs',\n",
    "    'shared_bigrams',\n",
    "    'shared_trigrams',\n",
    "    'shared_tokens',\n",
    "#     'sentiment_pos',\n",
    "#     'sentiment_neg',\n",
    "#     'sentiment_neu',\n",
    "#     'sentiment_compound',\n",
    "\n",
    "    'shared_nouns_fst',\n",
    "    'shared_verbs_fst',\n",
    "    'shared_bigrams_fst',\n",
    "    'shared_trigrams_fst',\n",
    "    'shared_tokens_fst',\n",
    "#     'sentiment_pos_fst',\n",
    "#     'sentiment_neg_fst',\n",
    "#     'sentiment_neu_fst',\n",
    "#     'sentiment_compound_fst',\n",
    "\n",
    "    'shared_nouns_sig',\n",
    "    'shared_verbs_sig',\n",
    "    'shared_bigrams_sig',\n",
    "    'shared_trigrams_sig',\n",
    "    'shared_tokens_sig',\n",
    "#     'sentiment_pos_sig',\n",
    "#     'sentiment_neg_sig',\n",
    "#     'sentiment_neu_sig',\n",
    "#     'sentiment_compound_sig',\n",
    "    \n",
    "    'cos_nouns_sig',\n",
    "    'cos_bigrams_sig',\n",
    "    'cos_trigrams_sig',\n",
    "    'cos_tokens_sig',\n",
    "\n",
    "    'cos_nouns_fst',\n",
    "    'cos_bigrams_fst',\n",
    "    'cos_trigrams_fst',\n",
    "    'cos_tokens_fst',\n",
    "]"
   ]
  },
  {
   "cell_type": "code",
   "execution_count": 26,
   "metadata": {},
   "outputs": [],
   "source": [
    "# this one takes a while also!\n",
    "\n",
    "#train data\n",
    "data_feats = [preprocessing.get_feats(i, body_info) for i in stances_tr.values]\n",
    "train_df = pd.DataFrame()\n",
    "for i in feats_list:\n",
    "    train_df[i] = [x[i] for x in data_feats]\n",
    "\n",
    "#val data\n",
    "val_feats = [preprocessing.get_feats(i, body_info) for i in stances_val.values]\n",
    "val_df = pd.DataFrame()\n",
    "for i in feats_list:\n",
    "    val_df[i] = [x[i] for x in val_feats]"
   ]
  },
  {
   "cell_type": "code",
   "execution_count": 27,
   "metadata": {},
   "outputs": [
    {
     "data": {
      "text/html": [
       "<div>\n",
       "<style>\n",
       "    .dataframe thead tr:only-child th {\n",
       "        text-align: right;\n",
       "    }\n",
       "\n",
       "    .dataframe thead th {\n",
       "        text-align: left;\n",
       "    }\n",
       "\n",
       "    .dataframe tbody tr th {\n",
       "        vertical-align: top;\n",
       "    }\n",
       "</style>\n",
       "<table border=\"1\" class=\"dataframe\">\n",
       "  <thead>\n",
       "    <tr style=\"text-align: right;\">\n",
       "      <th></th>\n",
       "      <th>shared_nouns</th>\n",
       "      <th>shared_verbs</th>\n",
       "      <th>shared_bigrams</th>\n",
       "      <th>shared_trigrams</th>\n",
       "      <th>shared_tokens</th>\n",
       "      <th>shared_nouns_fst</th>\n",
       "      <th>shared_verbs_fst</th>\n",
       "      <th>shared_bigrams_fst</th>\n",
       "      <th>shared_trigrams_fst</th>\n",
       "      <th>shared_tokens_fst</th>\n",
       "      <th>...</th>\n",
       "      <th>shared_trigrams_sig</th>\n",
       "      <th>shared_tokens_sig</th>\n",
       "      <th>cos_nouns_sig</th>\n",
       "      <th>cos_bigrams_sig</th>\n",
       "      <th>cos_trigrams_sig</th>\n",
       "      <th>cos_tokens_sig</th>\n",
       "      <th>cos_nouns_fst</th>\n",
       "      <th>cos_bigrams_fst</th>\n",
       "      <th>cos_trigrams_fst</th>\n",
       "      <th>cos_tokens_fst</th>\n",
       "    </tr>\n",
       "  </thead>\n",
       "  <tbody>\n",
       "    <tr>\n",
       "      <th>0</th>\n",
       "      <td>0</td>\n",
       "      <td>0</td>\n",
       "      <td>0</td>\n",
       "      <td>0</td>\n",
       "      <td>0</td>\n",
       "      <td>0</td>\n",
       "      <td>0</td>\n",
       "      <td>0</td>\n",
       "      <td>0</td>\n",
       "      <td>0</td>\n",
       "      <td>...</td>\n",
       "      <td>0</td>\n",
       "      <td>0</td>\n",
       "      <td>1.000000</td>\n",
       "      <td>1.000000</td>\n",
       "      <td>1.000000</td>\n",
       "      <td>1.000000</td>\n",
       "      <td>1.00000</td>\n",
       "      <td>1.000000</td>\n",
       "      <td>1.000000</td>\n",
       "      <td>1.000000</td>\n",
       "    </tr>\n",
       "    <tr>\n",
       "      <th>1</th>\n",
       "      <td>0</td>\n",
       "      <td>0</td>\n",
       "      <td>0</td>\n",
       "      <td>0</td>\n",
       "      <td>0</td>\n",
       "      <td>0</td>\n",
       "      <td>0</td>\n",
       "      <td>0</td>\n",
       "      <td>0</td>\n",
       "      <td>0</td>\n",
       "      <td>...</td>\n",
       "      <td>0</td>\n",
       "      <td>0</td>\n",
       "      <td>1.000000</td>\n",
       "      <td>1.000000</td>\n",
       "      <td>1.000000</td>\n",
       "      <td>1.000000</td>\n",
       "      <td>1.00000</td>\n",
       "      <td>1.000000</td>\n",
       "      <td>1.000000</td>\n",
       "      <td>1.000000</td>\n",
       "    </tr>\n",
       "    <tr>\n",
       "      <th>2</th>\n",
       "      <td>0</td>\n",
       "      <td>0</td>\n",
       "      <td>0</td>\n",
       "      <td>0</td>\n",
       "      <td>0</td>\n",
       "      <td>0</td>\n",
       "      <td>0</td>\n",
       "      <td>0</td>\n",
       "      <td>0</td>\n",
       "      <td>0</td>\n",
       "      <td>...</td>\n",
       "      <td>0</td>\n",
       "      <td>0</td>\n",
       "      <td>1.000000</td>\n",
       "      <td>1.000000</td>\n",
       "      <td>1.000000</td>\n",
       "      <td>1.000000</td>\n",
       "      <td>1.00000</td>\n",
       "      <td>1.000000</td>\n",
       "      <td>1.000000</td>\n",
       "      <td>1.000000</td>\n",
       "    </tr>\n",
       "    <tr>\n",
       "      <th>3</th>\n",
       "      <td>1</td>\n",
       "      <td>0</td>\n",
       "      <td>0</td>\n",
       "      <td>0</td>\n",
       "      <td>3</td>\n",
       "      <td>0</td>\n",
       "      <td>0</td>\n",
       "      <td>0</td>\n",
       "      <td>0</td>\n",
       "      <td>0</td>\n",
       "      <td>...</td>\n",
       "      <td>0</td>\n",
       "      <td>1</td>\n",
       "      <td>0.666667</td>\n",
       "      <td>1.000000</td>\n",
       "      <td>1.000000</td>\n",
       "      <td>0.841886</td>\n",
       "      <td>1.00000</td>\n",
       "      <td>1.000000</td>\n",
       "      <td>1.000000</td>\n",
       "      <td>1.000000</td>\n",
       "    </tr>\n",
       "    <tr>\n",
       "      <th>4</th>\n",
       "      <td>4</td>\n",
       "      <td>0</td>\n",
       "      <td>0</td>\n",
       "      <td>0</td>\n",
       "      <td>12</td>\n",
       "      <td>3</td>\n",
       "      <td>0</td>\n",
       "      <td>2</td>\n",
       "      <td>1</td>\n",
       "      <td>8</td>\n",
       "      <td>...</td>\n",
       "      <td>6</td>\n",
       "      <td>9</td>\n",
       "      <td>0.087129</td>\n",
       "      <td>0.332576</td>\n",
       "      <td>0.367544</td>\n",
       "      <td>0.216651</td>\n",
       "      <td>0.53709</td>\n",
       "      <td>0.838835</td>\n",
       "      <td>0.912294</td>\n",
       "      <td>0.403715</td>\n",
       "    </tr>\n",
       "  </tbody>\n",
       "</table>\n",
       "<p>5 rows × 23 columns</p>\n",
       "</div>"
      ],
      "text/plain": [
       "   shared_nouns  shared_verbs  shared_bigrams  shared_trigrams  shared_tokens  \\\n",
       "0             0             0               0                0              0   \n",
       "1             0             0               0                0              0   \n",
       "2             0             0               0                0              0   \n",
       "3             1             0               0                0              3   \n",
       "4             4             0               0                0             12   \n",
       "\n",
       "   shared_nouns_fst  shared_verbs_fst  shared_bigrams_fst  \\\n",
       "0                 0                 0                   0   \n",
       "1                 0                 0                   0   \n",
       "2                 0                 0                   0   \n",
       "3                 0                 0                   0   \n",
       "4                 3                 0                   2   \n",
       "\n",
       "   shared_trigrams_fst  shared_tokens_fst       ...        \\\n",
       "0                    0                  0       ...         \n",
       "1                    0                  0       ...         \n",
       "2                    0                  0       ...         \n",
       "3                    0                  0       ...         \n",
       "4                    1                  8       ...         \n",
       "\n",
       "   shared_trigrams_sig  shared_tokens_sig  cos_nouns_sig  cos_bigrams_sig  \\\n",
       "0                    0                  0       1.000000         1.000000   \n",
       "1                    0                  0       1.000000         1.000000   \n",
       "2                    0                  0       1.000000         1.000000   \n",
       "3                    0                  1       0.666667         1.000000   \n",
       "4                    6                  9       0.087129         0.332576   \n",
       "\n",
       "   cos_trigrams_sig  cos_tokens_sig  cos_nouns_fst  cos_bigrams_fst  \\\n",
       "0          1.000000        1.000000        1.00000         1.000000   \n",
       "1          1.000000        1.000000        1.00000         1.000000   \n",
       "2          1.000000        1.000000        1.00000         1.000000   \n",
       "3          1.000000        0.841886        1.00000         1.000000   \n",
       "4          0.367544        0.216651        0.53709         0.838835   \n",
       "\n",
       "   cos_trigrams_fst  cos_tokens_fst  \n",
       "0          1.000000        1.000000  \n",
       "1          1.000000        1.000000  \n",
       "2          1.000000        1.000000  \n",
       "3          1.000000        1.000000  \n",
       "4          0.912294        0.403715  \n",
       "\n",
       "[5 rows x 23 columns]"
      ]
     },
     "execution_count": 27,
     "metadata": {},
     "output_type": "execute_result"
    }
   ],
   "source": [
    "train_df.head()"
   ]
  },
  {
   "cell_type": "code",
   "execution_count": 28,
   "metadata": {},
   "outputs": [
    {
     "data": {
      "text/plain": [
       "Counter({-1: 29099, 1: 10850})"
      ]
     },
     "execution_count": 28,
     "metadata": {},
     "output_type": "execute_result"
    }
   ],
   "source": [
    "train_df['label'] = [-1 if x == \"unrelated\" else 1 for x in list(stances_tr['Stance'])]\n",
    "val_df['label'] = [-1 if x == \"unrelated\" else 1 for x in list(stances_val['Stance'])]\n",
    "Counter(train_df['label'])"
   ]
  },
  {
   "cell_type": "code",
   "execution_count": 62,
   "metadata": {},
   "outputs": [
    {
     "data": {
      "text/html": [
       "<div>\n",
       "<style>\n",
       "    .dataframe thead tr:only-child th {\n",
       "        text-align: right;\n",
       "    }\n",
       "\n",
       "    .dataframe thead th {\n",
       "        text-align: left;\n",
       "    }\n",
       "\n",
       "    .dataframe tbody tr th {\n",
       "        vertical-align: top;\n",
       "    }\n",
       "</style>\n",
       "<table border=\"1\" class=\"dataframe\">\n",
       "  <thead>\n",
       "    <tr style=\"text-align: right;\">\n",
       "      <th></th>\n",
       "      <th>shared_nouns</th>\n",
       "      <th>shared_verbs</th>\n",
       "      <th>shared_bigrams</th>\n",
       "      <th>shared_trigrams</th>\n",
       "      <th>shared_tokens</th>\n",
       "      <th>shared_nouns_fst</th>\n",
       "      <th>shared_verbs_fst</th>\n",
       "      <th>shared_bigrams_fst</th>\n",
       "      <th>shared_trigrams_fst</th>\n",
       "      <th>shared_tokens_fst</th>\n",
       "      <th>...</th>\n",
       "      <th>shared_tokens_sig</th>\n",
       "      <th>cos_nouns_sig</th>\n",
       "      <th>cos_bigrams_sig</th>\n",
       "      <th>cos_trigrams_sig</th>\n",
       "      <th>cos_tokens_sig</th>\n",
       "      <th>cos_nouns_fst</th>\n",
       "      <th>cos_bigrams_fst</th>\n",
       "      <th>cos_trigrams_fst</th>\n",
       "      <th>cos_tokens_fst</th>\n",
       "      <th>label</th>\n",
       "    </tr>\n",
       "  </thead>\n",
       "  <tbody>\n",
       "    <tr>\n",
       "      <th>0</th>\n",
       "      <td>-0.402182</td>\n",
       "      <td>-0.211633</td>\n",
       "      <td>0.0</td>\n",
       "      <td>0.0</td>\n",
       "      <td>-0.738752</td>\n",
       "      <td>-0.497202</td>\n",
       "      <td>-0.258563</td>\n",
       "      <td>-0.346181</td>\n",
       "      <td>-0.164315</td>\n",
       "      <td>-0.544335</td>\n",
       "      <td>...</td>\n",
       "      <td>-0.429451</td>\n",
       "      <td>0.342679</td>\n",
       "      <td>0.223577</td>\n",
       "      <td>0.083049</td>\n",
       "      <td>0.445390</td>\n",
       "      <td>0.442750</td>\n",
       "      <td>0.246388</td>\n",
       "      <td>0.158629</td>\n",
       "      <td>0.53798</td>\n",
       "      <td>-1</td>\n",
       "    </tr>\n",
       "    <tr>\n",
       "      <th>1</th>\n",
       "      <td>-0.402182</td>\n",
       "      <td>-0.211633</td>\n",
       "      <td>0.0</td>\n",
       "      <td>0.0</td>\n",
       "      <td>-0.738752</td>\n",
       "      <td>-0.497202</td>\n",
       "      <td>-0.258563</td>\n",
       "      <td>-0.346181</td>\n",
       "      <td>-0.164315</td>\n",
       "      <td>-0.544335</td>\n",
       "      <td>...</td>\n",
       "      <td>-0.429451</td>\n",
       "      <td>0.342679</td>\n",
       "      <td>0.223577</td>\n",
       "      <td>0.083049</td>\n",
       "      <td>0.445390</td>\n",
       "      <td>0.442750</td>\n",
       "      <td>0.246388</td>\n",
       "      <td>0.158629</td>\n",
       "      <td>0.53798</td>\n",
       "      <td>-1</td>\n",
       "    </tr>\n",
       "    <tr>\n",
       "      <th>2</th>\n",
       "      <td>-0.402182</td>\n",
       "      <td>-0.211633</td>\n",
       "      <td>0.0</td>\n",
       "      <td>0.0</td>\n",
       "      <td>-0.738752</td>\n",
       "      <td>-0.497202</td>\n",
       "      <td>-0.258563</td>\n",
       "      <td>-0.346181</td>\n",
       "      <td>-0.164315</td>\n",
       "      <td>-0.544335</td>\n",
       "      <td>...</td>\n",
       "      <td>-0.429451</td>\n",
       "      <td>0.342679</td>\n",
       "      <td>0.223577</td>\n",
       "      <td>0.083049</td>\n",
       "      <td>0.445390</td>\n",
       "      <td>0.442750</td>\n",
       "      <td>0.246388</td>\n",
       "      <td>0.158629</td>\n",
       "      <td>0.53798</td>\n",
       "      <td>-1</td>\n",
       "    </tr>\n",
       "    <tr>\n",
       "      <th>3</th>\n",
       "      <td>1.162866</td>\n",
       "      <td>-0.211633</td>\n",
       "      <td>0.0</td>\n",
       "      <td>0.0</td>\n",
       "      <td>0.453797</td>\n",
       "      <td>-0.497202</td>\n",
       "      <td>-0.258563</td>\n",
       "      <td>-0.346181</td>\n",
       "      <td>-0.164315</td>\n",
       "      <td>-0.544335</td>\n",
       "      <td>...</td>\n",
       "      <td>0.527923</td>\n",
       "      <td>-1.807936</td>\n",
       "      <td>0.223577</td>\n",
       "      <td>0.083049</td>\n",
       "      <td>-0.964891</td>\n",
       "      <td>0.442750</td>\n",
       "      <td>0.246388</td>\n",
       "      <td>0.158629</td>\n",
       "      <td>0.53798</td>\n",
       "      <td>1</td>\n",
       "    </tr>\n",
       "    <tr>\n",
       "      <th>4</th>\n",
       "      <td>5.858011</td>\n",
       "      <td>-0.211633</td>\n",
       "      <td>0.0</td>\n",
       "      <td>0.0</td>\n",
       "      <td>4.031442</td>\n",
       "      <td>2.476703</td>\n",
       "      <td>-0.258563</td>\n",
       "      <td>2.243146</td>\n",
       "      <td>2.338244</td>\n",
       "      <td>4.132904</td>\n",
       "      <td>...</td>\n",
       "      <td>8.186912</td>\n",
       "      <td>-5.547024</td>\n",
       "      <td>-12.225623</td>\n",
       "      <td>-4.789160</td>\n",
       "      <td>-6.541620</td>\n",
       "      <td>-1.845256</td>\n",
       "      <td>-1.041451</td>\n",
       "      <td>-0.168716</td>\n",
       "      <td>-3.24733</td>\n",
       "      <td>1</td>\n",
       "    </tr>\n",
       "  </tbody>\n",
       "</table>\n",
       "<p>5 rows × 24 columns</p>\n",
       "</div>"
      ],
      "text/plain": [
       "   shared_nouns  shared_verbs  shared_bigrams  shared_trigrams  shared_tokens  \\\n",
       "0     -0.402182     -0.211633             0.0              0.0      -0.738752   \n",
       "1     -0.402182     -0.211633             0.0              0.0      -0.738752   \n",
       "2     -0.402182     -0.211633             0.0              0.0      -0.738752   \n",
       "3      1.162866     -0.211633             0.0              0.0       0.453797   \n",
       "4      5.858011     -0.211633             0.0              0.0       4.031442   \n",
       "\n",
       "   shared_nouns_fst  shared_verbs_fst  shared_bigrams_fst  \\\n",
       "0         -0.497202         -0.258563           -0.346181   \n",
       "1         -0.497202         -0.258563           -0.346181   \n",
       "2         -0.497202         -0.258563           -0.346181   \n",
       "3         -0.497202         -0.258563           -0.346181   \n",
       "4          2.476703         -0.258563            2.243146   \n",
       "\n",
       "   shared_trigrams_fst  shared_tokens_fst  ...    shared_tokens_sig  \\\n",
       "0            -0.164315          -0.544335  ...            -0.429451   \n",
       "1            -0.164315          -0.544335  ...            -0.429451   \n",
       "2            -0.164315          -0.544335  ...            -0.429451   \n",
       "3            -0.164315          -0.544335  ...             0.527923   \n",
       "4             2.338244           4.132904  ...             8.186912   \n",
       "\n",
       "   cos_nouns_sig  cos_bigrams_sig  cos_trigrams_sig  cos_tokens_sig  \\\n",
       "0       0.342679         0.223577          0.083049        0.445390   \n",
       "1       0.342679         0.223577          0.083049        0.445390   \n",
       "2       0.342679         0.223577          0.083049        0.445390   \n",
       "3      -1.807936         0.223577          0.083049       -0.964891   \n",
       "4      -5.547024       -12.225623         -4.789160       -6.541620   \n",
       "\n",
       "   cos_nouns_fst  cos_bigrams_fst  cos_trigrams_fst  cos_tokens_fst  label  \n",
       "0       0.442750         0.246388          0.158629         0.53798     -1  \n",
       "1       0.442750         0.246388          0.158629         0.53798     -1  \n",
       "2       0.442750         0.246388          0.158629         0.53798     -1  \n",
       "3       0.442750         0.246388          0.158629         0.53798      1  \n",
       "4      -1.845256        -1.041451         -0.168716        -3.24733      1  \n",
       "\n",
       "[5 rows x 24 columns]"
      ]
     },
     "execution_count": 62,
     "metadata": {},
     "output_type": "execute_result"
    }
   ],
   "source": [
    "scaler = StandardScaler()\n",
    "\n",
    "for i in feats_list:\n",
    "    train_df[i] = scaler.fit_transform(train_df[i].values.reshape(-1,1))\n",
    "    val_df[i] = scaler.fit_transform(val_df[i].values.reshape(-1,1))\n",
    "train_df.head()"
   ]
  },
  {
   "cell_type": "code",
   "execution_count": 63,
   "metadata": {},
   "outputs": [
    {
     "data": {
      "text/plain": [
       "RandomForestClassifier(bootstrap=True, class_weight=None, criterion='gini',\n",
       "            max_depth=None, max_features='auto', max_leaf_nodes=None,\n",
       "            min_impurity_decrease=0.0, min_impurity_split=None,\n",
       "            min_samples_leaf=1, min_samples_split=2,\n",
       "            min_weight_fraction_leaf=0.0, n_estimators=10, n_jobs=1,\n",
       "            oob_score=False, random_state=None, verbose=0,\n",
       "            warm_start=False)"
      ]
     },
     "execution_count": 63,
     "metadata": {},
     "output_type": "execute_result"
    }
   ],
   "source": [
    "from sklearn.linear_model import LogisticRegression, RidgeClassifier, Lasso\n",
    "from sklearn.ensemble import RandomForestClassifier\n",
    "model = RandomForestClassifier()\n",
    "#Lasso(alpha=0.01)\n",
    "model.fit(train_df.iloc[:,:-1], train_df.iloc[:,-1].values.reshape(-1))"
   ]
  },
  {
   "cell_type": "code",
   "execution_count": 64,
   "metadata": {},
   "outputs": [
    {
     "name": "stdout",
     "output_type": "stream",
     "text": [
      "98.65% training accuracy\n",
      "96.45% validation accuracy\n"
     ]
    }
   ],
   "source": [
    "tr_acc = model.score(train_df.iloc[:,:-1], train_df.iloc[:,-1].values.reshape(-1))\n",
    "print('{0:.2f}% training accuracy'.format(tr_acc*100))\n",
    "val_acc = model.score(val_df.iloc[:,:-1], val_df.iloc[:,-1].values.reshape(-1))\n",
    "print('{0:.2f}% validation accuracy'.format(val_acc*100))"
   ]
  },
  {
   "cell_type": "code",
   "execution_count": 66,
   "metadata": {},
   "outputs": [],
   "source": [
    "#get coefficients - logistic\n",
    "#[(feats_list[i],model.coef_[0][i]) for i in list(range(len(feats_list)))]\n",
    "\n",
    "#coefficients - lasso\n",
    "#model.coef_\n"
   ]
  },
  {
   "cell_type": "code",
   "execution_count": 67,
   "metadata": {},
   "outputs": [
    {
     "name": "stdout",
     "output_type": "stream",
     "text": [
      "confusion matrix: \n",
      "[[7272  174]\n",
      " [ 182 2395]]\n",
      "\n"
     ]
    }
   ],
   "source": [
    "true_label = val_df.iloc[:,-1]\n",
    "prediction = model.predict(val_df.iloc[:,:-1])\n",
    "matrix = confusion_matrix(true_label,prediction)\n",
    "print('confusion matrix: \\n{}\\n'.format(matrix))\n",
    "tn1, fp1, fn1, tp1 = matrix.ravel()"
   ]
  },
  {
   "cell_type": "code",
   "execution_count": 68,
   "metadata": {},
   "outputs": [
    {
     "name": "stdout",
     "output_type": "stream",
     "text": [
      "-------------------------------------------------------------\n",
      "|           |   agree   | disagree  |  discuss  | unrelated |\n",
      "-------------------------------------------------------------\n",
      "|   agree   |     0     |     0     |    653    |    55     |\n",
      "-------------------------------------------------------------\n",
      "| disagree  |     0     |     0     |    156    |    23     |\n",
      "-------------------------------------------------------------\n",
      "|  discuss  |     0     |     0     |   1586    |    104    |\n",
      "-------------------------------------------------------------\n",
      "| unrelated |     0     |     0     |    174    |   7272    |\n",
      "-------------------------------------------------------------\n",
      "Score: 3606.25 out of 4438.5\t(81.2492959333108%)\n"
     ]
    },
    {
     "data": {
      "text/plain": [
       "81.2492959333108"
      ]
     },
     "execution_count": 68,
     "metadata": {},
     "output_type": "execute_result"
    }
   ],
   "source": [
    "#use FNC scorer to generate score report\n",
    "label_prediction = [\"discuss\" if i == 1 else \"unrelated\" for i in prediction]\n",
    "label_actual = pd.DataFrame(stances_val)['Stance']\n",
    "score.report_score(label_actual, label_prediction)"
   ]
  },
  {
   "cell_type": "code",
   "execution_count": null,
   "metadata": {
    "collapsed": true
   },
   "outputs": [],
   "source": []
  }
 ],
 "metadata": {
  "kernelspec": {
   "display_name": "Python 3",
   "language": "python",
   "name": "python3"
  },
  "language_info": {
   "codemirror_mode": {
    "name": "ipython",
    "version": 3
   },
   "file_extension": ".py",
   "mimetype": "text/x-python",
   "name": "python",
   "nbconvert_exporter": "python",
   "pygments_lexer": "ipython3",
   "version": "3.6.0"
  }
 },
 "nbformat": 4,
 "nbformat_minor": 2
}
