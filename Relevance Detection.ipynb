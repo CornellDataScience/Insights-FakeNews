{
 "cells": [
  {
   "cell_type": "markdown",
   "metadata": {
    "collapsed": true
   },
   "source": [
    "\n",
    "# Relevance Detection\n"
   ]
  },
  {
   "cell_type": "code",
   "execution_count": 8,
   "metadata": {},
   "outputs": [],
   "source": [
    "import pandas as pd\n",
    "import nltk\n",
    "import numpy as np\n",
    "import preprocessing\n",
    "import utils\n",
    "import importlib\n",
    "from collections import Counter\n",
    "from sklearn.metrics import confusion_matrix\n",
    "import score\n",
    "from sklearn.preprocessing import StandardScaler"
   ]
  },
  {
   "cell_type": "code",
   "execution_count": 9,
   "metadata": {},
   "outputs": [
    {
     "data": {
      "text/plain": [
       "<module 'utils' from '/Users/dannyyang/Documents/GitHub/Insights-FakeNews/utils.py'>"
      ]
     },
     "execution_count": 9,
     "metadata": {},
     "output_type": "execute_result"
    }
   ],
   "source": [
    "#run this cell to reload the preprocessing module\n",
    "importlib.reload(preprocessing)\n",
    "importlib.reload(utils)"
   ]
  },
  {
   "cell_type": "code",
   "execution_count": 10,
   "metadata": {
    "collapsed": true
   },
   "outputs": [],
   "source": [
    "preprocess = preprocessing.Preprocessing()"
   ]
  },
  {
   "cell_type": "code",
   "execution_count": 11,
   "metadata": {},
   "outputs": [
    {
     "name": "stdout",
     "output_type": "stream",
     "text": [
      "(49972, 3)\n"
     ]
    },
    {
     "data": {
      "text/html": [
       "<div>\n",
       "<style>\n",
       "    .dataframe thead tr:only-child th {\n",
       "        text-align: right;\n",
       "    }\n",
       "\n",
       "    .dataframe thead th {\n",
       "        text-align: left;\n",
       "    }\n",
       "\n",
       "    .dataframe tbody tr th {\n",
       "        vertical-align: top;\n",
       "    }\n",
       "</style>\n",
       "<table border=\"1\" class=\"dataframe\">\n",
       "  <thead>\n",
       "    <tr style=\"text-align: right;\">\n",
       "      <th></th>\n",
       "      <th>Headline</th>\n",
       "      <th>Body ID</th>\n",
       "      <th>Stance</th>\n",
       "    </tr>\n",
       "  </thead>\n",
       "  <tbody>\n",
       "    <tr>\n",
       "      <th>0</th>\n",
       "      <td>Police find mass graves with at least '15 bodi...</td>\n",
       "      <td>712</td>\n",
       "      <td>unrelated</td>\n",
       "    </tr>\n",
       "    <tr>\n",
       "      <th>1</th>\n",
       "      <td>Hundreds of Palestinians flee floods in Gaza a...</td>\n",
       "      <td>158</td>\n",
       "      <td>agree</td>\n",
       "    </tr>\n",
       "    <tr>\n",
       "      <th>2</th>\n",
       "      <td>Christian Bale passes on role of Steve Jobs, a...</td>\n",
       "      <td>137</td>\n",
       "      <td>unrelated</td>\n",
       "    </tr>\n",
       "    <tr>\n",
       "      <th>3</th>\n",
       "      <td>HBO and Apple in Talks for $15/Month Apple TV ...</td>\n",
       "      <td>1034</td>\n",
       "      <td>unrelated</td>\n",
       "    </tr>\n",
       "    <tr>\n",
       "      <th>4</th>\n",
       "      <td>Spider burrowed through tourist's stomach and ...</td>\n",
       "      <td>1923</td>\n",
       "      <td>disagree</td>\n",
       "    </tr>\n",
       "  </tbody>\n",
       "</table>\n",
       "</div>"
      ],
      "text/plain": [
       "                                            Headline  Body ID     Stance\n",
       "0  Police find mass graves with at least '15 bodi...      712  unrelated\n",
       "1  Hundreds of Palestinians flee floods in Gaza a...      158      agree\n",
       "2  Christian Bale passes on role of Steve Jobs, a...      137  unrelated\n",
       "3  HBO and Apple in Talks for $15/Month Apple TV ...     1034  unrelated\n",
       "4  Spider burrowed through tourist's stomach and ...     1923   disagree"
      ]
     },
     "execution_count": 11,
     "metadata": {},
     "output_type": "execute_result"
    }
   ],
   "source": [
    "train_stances = pd.read_csv(\"fn_data/train_stances.csv\")\n",
    "print(train_stances.shape)\n",
    "train_stances.head()"
   ]
  },
  {
   "cell_type": "code",
   "execution_count": 12,
   "metadata": {},
   "outputs": [
    {
     "name": "stdout",
     "output_type": "stream",
     "text": [
      "(1683, 2)\n"
     ]
    },
    {
     "data": {
      "text/html": [
       "<div>\n",
       "<style>\n",
       "    .dataframe thead tr:only-child th {\n",
       "        text-align: right;\n",
       "    }\n",
       "\n",
       "    .dataframe thead th {\n",
       "        text-align: left;\n",
       "    }\n",
       "\n",
       "    .dataframe tbody tr th {\n",
       "        vertical-align: top;\n",
       "    }\n",
       "</style>\n",
       "<table border=\"1\" class=\"dataframe\">\n",
       "  <thead>\n",
       "    <tr style=\"text-align: right;\">\n",
       "      <th></th>\n",
       "      <th>Body ID</th>\n",
       "      <th>articleBody</th>\n",
       "    </tr>\n",
       "  </thead>\n",
       "  <tbody>\n",
       "    <tr>\n",
       "      <th>0</th>\n",
       "      <td>0</td>\n",
       "      <td>A small meteorite crashed into a wooded area i...</td>\n",
       "    </tr>\n",
       "    <tr>\n",
       "      <th>1</th>\n",
       "      <td>4</td>\n",
       "      <td>Last week we hinted at what was to come as Ebo...</td>\n",
       "    </tr>\n",
       "    <tr>\n",
       "      <th>2</th>\n",
       "      <td>5</td>\n",
       "      <td>(NEWSER) – Wonder how long a Quarter Pounder w...</td>\n",
       "    </tr>\n",
       "    <tr>\n",
       "      <th>3</th>\n",
       "      <td>6</td>\n",
       "      <td>Posting photos of a gun-toting child online, I...</td>\n",
       "    </tr>\n",
       "    <tr>\n",
       "      <th>4</th>\n",
       "      <td>7</td>\n",
       "      <td>At least 25 suspected Boko Haram insurgents we...</td>\n",
       "    </tr>\n",
       "  </tbody>\n",
       "</table>\n",
       "</div>"
      ],
      "text/plain": [
       "   Body ID                                        articleBody\n",
       "0        0  A small meteorite crashed into a wooded area i...\n",
       "1        4  Last week we hinted at what was to come as Ebo...\n",
       "2        5  (NEWSER) – Wonder how long a Quarter Pounder w...\n",
       "3        6  Posting photos of a gun-toting child online, I...\n",
       "4        7  At least 25 suspected Boko Haram insurgents we..."
      ]
     },
     "execution_count": 12,
     "metadata": {},
     "output_type": "execute_result"
    }
   ],
   "source": [
    "train_bodies = pd.read_csv(\"fn_data/train_bodies.csv\")\n",
    "print(train_bodies.shape)\n",
    "train_bodies.head()"
   ]
  },
  {
   "cell_type": "code",
   "execution_count": 13,
   "metadata": {},
   "outputs": [
    {
     "data": {
      "text/plain": [
       "((39748, 3), (10224, 3))"
      ]
     },
     "execution_count": 13,
     "metadata": {},
     "output_type": "execute_result"
    }
   ],
   "source": [
    "stances_tr, stances_val = preprocess.train_test_split(train_bodies, train_stances)\n",
    "stances_tr.shape, stances_val.shape"
   ]
  },
  {
   "cell_type": "code",
   "execution_count": 14,
   "metadata": {
    "collapsed": true
   },
   "outputs": [],
   "source": [
    "# this one takes a while!\n",
    "idf = preprocess.build_idf(train_bodies, stances_tr)"
   ]
  },
  {
   "cell_type": "code",
   "execution_count": 15,
   "metadata": {},
   "outputs": [
    {
     "data": {
      "text/plain": [
       "Counter({'agree': 3678, 'disagree': 840, 'discuss': 8909, 'unrelated': 36545})"
      ]
     },
     "execution_count": 15,
     "metadata": {},
     "output_type": "execute_result"
    }
   ],
   "source": [
    "Counter(train_stances['Stance'])"
   ]
  },
  {
   "cell_type": "code",
   "execution_count": 16,
   "metadata": {},
   "outputs": [
    {
     "name": "stdout",
     "output_type": "stream",
     "text": [
      "['burger', 'year', 'friend', 'news', 'report'] ['say', 'bought', 'showed', 'started', 'wonder']\n",
      "['burger', 'year', 'friend', 'charity', 'mcjordan'] ['bought', 'started', 'showed', 'dissuaded', 'wrapping']\n"
     ]
    }
   ],
   "source": [
    "#this is just a comparison between using IDF score and not using IDF score - not related to the model\n",
    "#change the body id to see\n",
    "body = preprocess.get_body(5, train_bodies)\n",
    "#no IDF\n",
    "processed2 = preprocess.process_body(body)\n",
    "print(processed2['common_nouns'],processed2['common_verbs'])\n",
    "\n",
    "#with IDF\n",
    "processed = preprocess.process_body(body, idf)\n",
    "print(processed['common_nouns'],processed['common_verbs'])"
   ]
  },
  {
   "cell_type": "code",
   "execution_count": 17,
   "metadata": {},
   "outputs": [
    {
     "name": "stdout",
     "output_type": "stream",
     "text": [
      "['unconfirmed', 'report', 'circulating', 'social', 'medium', 'islamic', 'state', 'group', 'carried', 'chemical', 'attack', 'battling', 'kurdish', 'force', 'kobani']\n",
      "['kurdish', 'affair', 'analyst', 'mutlu', 'civiroglu', 'spoke', 'one', 'four', 'remaining', 'doctor', 'inside', 'kobani', 'told', 'victim', 'civilian']\n",
      "[] []\n",
      "['unconfirmed', 'social', 'islamic', 'chemical', 'kurdish'] ['kurdish']\n",
      "['circulating', 'carried', 'battling'] ['civiroglu', 'spoke', 'remaining', 'told']\n"
     ]
    }
   ],
   "source": [
    "body = preprocess.get_body(1369, train_bodies)\n",
    "processed = preprocess.process_body(body, idf)\n",
    "print(processed['first_sentence']['tokens'])\n",
    "print(processed['significant_sentence']['tokens'])\n",
    "print(processed['first_sentence']['adverbs'],processed['significant_sentence']['adverbs'])\n",
    "print(processed['first_sentence']['adjectives'],processed['significant_sentence']['adjectives'])\n",
    "print(processed['first_sentence']['verbs'],processed['significant_sentence']['verbs'])"
   ]
  },
  {
   "cell_type": "code",
   "execution_count": 18,
   "metadata": {},
   "outputs": [
    {
     "name": "stdout",
     "output_type": "stream",
     "text": [
      "processed 100\n",
      "processed 200\n",
      "processed 300\n",
      "processed 400\n",
      "processed 500\n",
      "processed 600\n",
      "processed 700\n",
      "processed 800\n",
      "processed 900\n",
      "processed 1000\n",
      "processed 1100\n",
      "processed 1200\n",
      "processed 1300\n",
      "processed 1400\n",
      "processed 1500\n",
      "processed 1600\n",
      "done! processed 1683\n"
     ]
    }
   ],
   "source": [
    "#this takes a while!\n",
    "body_info = preprocess.process_bodies(train_bodies, idf)"
   ]
  },
  {
   "cell_type": "code",
   "execution_count": 19,
   "metadata": {
    "collapsed": true
   },
   "outputs": [],
   "source": [
    "feats_list = [\n",
    "    'shared_nouns',\n",
    "    'shared_verbs',\n",
    "    'shared_bigrams',\n",
    "    'shared_tokens',\n",
    "\n",
    "    'shared_nouns_fst',\n",
    "    'shared_verbs_fst',\n",
    "    'shared_bigrams_fst',\n",
    "    'shared_tokens_fst',\n",
    "\n",
    "    'shared_nouns_sig',\n",
    "    'shared_verbs_sig',\n",
    "    'shared_bigrams_sig',\n",
    "    'shared_tokens_sig',\n",
    "\n",
    "    'svo_s_fst',\n",
    "    'svo_v_fst',\n",
    "    'svo_o_fst',\n",
    "    \n",
    "    'svo_s_sig',\n",
    "    'svo_v_sig',\n",
    "    'svo_o_sig',\n",
    "    \n",
    "    'cos_nouns_sig',\n",
    "    'cos_bigrams_sig',\n",
    "    'cos_tokens_sig',\n",
    "\n",
    "    'cos_nouns_fst',\n",
    "    'cos_bigrams_fst',\n",
    "    'cos_tokens_fst',\n",
    "    \n",
    "#     'sentiment_pos',\n",
    "#     'sentiment_neg',\n",
    "#     'sentiment_neu',\n",
    "#     'sentiment_compound',\n",
    "#     'sentiment_pos_fst',\n",
    "#     'sentiment_neg_fst',\n",
    "#     'sentiment_neu_fst',\n",
    "#     'sentiment_compound_fst',\n",
    "#     'sentiment_pos_sig',\n",
    "#     'sentiment_neg_sig',\n",
    "#     'sentiment_neu_sig',\n",
    "#     'sentiment_compound_sig',\n",
    "]"
   ]
  },
  {
   "cell_type": "code",
   "execution_count": 20,
   "metadata": {},
   "outputs": [
    {
     "name": "stdout",
     "output_type": "stream",
     "text": [
      "584\n"
     ]
    }
   ],
   "source": [
    "import time\n",
    "# this one takes a while also! ~10 mins\n",
    "start = time.time()\n",
    "#train data\n",
    "data_feats = [preprocess.get_feats(i, body_info) for i in stances_tr.values]\n",
    "val_feats = [preprocess.get_feats(i, body_info) for i in stances_val.values]\n",
    "end = time.time()\n",
    "print(int(end-start))"
   ]
  },
  {
   "cell_type": "code",
   "execution_count": 21,
   "metadata": {},
   "outputs": [
    {
     "name": "stdout",
     "output_type": "stream",
     "text": [
      "shared_nouns\n",
      "shared_verbs\n",
      "shared_bigrams\n",
      "shared_tokens\n",
      "shared_nouns_fst\n",
      "shared_verbs_fst\n",
      "shared_bigrams_fst\n",
      "shared_tokens_fst\n",
      "shared_nouns_sig\n",
      "shared_verbs_sig\n",
      "shared_bigrams_sig\n",
      "shared_tokens_sig\n",
      "svo_s_fst\n",
      "svo_v_fst\n",
      "svo_o_fst\n",
      "svo_s_sig\n",
      "svo_v_sig\n",
      "svo_o_sig\n",
      "cos_nouns_sig\n",
      "cos_bigrams_sig\n",
      "cos_tokens_sig\n",
      "cos_nouns_fst\n",
      "cos_bigrams_fst\n",
      "cos_tokens_fst\n"
     ]
    }
   ],
   "source": [
    "#training data\n",
    "train_df = pd.DataFrame()\n",
    "for i in feats_list:\n",
    "    print(i)\n",
    "    train_df[i] = [x[i] for x in data_feats]\n",
    "\n",
    "#val data\n",
    "val_df = pd.DataFrame()\n",
    "for i in feats_list:\n",
    "    val_df[i] = [x[i] for x in val_feats]"
   ]
  },
  {
   "cell_type": "code",
   "execution_count": 22,
   "metadata": {},
   "outputs": [
    {
     "data": {
      "text/html": [
       "<div>\n",
       "<style>\n",
       "    .dataframe thead tr:only-child th {\n",
       "        text-align: right;\n",
       "    }\n",
       "\n",
       "    .dataframe thead th {\n",
       "        text-align: left;\n",
       "    }\n",
       "\n",
       "    .dataframe tbody tr th {\n",
       "        vertical-align: top;\n",
       "    }\n",
       "</style>\n",
       "<table border=\"1\" class=\"dataframe\">\n",
       "  <thead>\n",
       "    <tr style=\"text-align: right;\">\n",
       "      <th></th>\n",
       "      <th>shared_nouns</th>\n",
       "      <th>shared_verbs</th>\n",
       "      <th>shared_bigrams</th>\n",
       "      <th>shared_tokens</th>\n",
       "      <th>shared_nouns_fst</th>\n",
       "      <th>shared_verbs_fst</th>\n",
       "      <th>shared_bigrams_fst</th>\n",
       "      <th>shared_tokens_fst</th>\n",
       "      <th>shared_nouns_sig</th>\n",
       "      <th>shared_verbs_sig</th>\n",
       "      <th>...</th>\n",
       "      <th>svo_o_fst</th>\n",
       "      <th>svo_s_sig</th>\n",
       "      <th>svo_v_sig</th>\n",
       "      <th>svo_o_sig</th>\n",
       "      <th>cos_nouns_sig</th>\n",
       "      <th>cos_bigrams_sig</th>\n",
       "      <th>cos_tokens_sig</th>\n",
       "      <th>cos_nouns_fst</th>\n",
       "      <th>cos_bigrams_fst</th>\n",
       "      <th>cos_tokens_fst</th>\n",
       "    </tr>\n",
       "  </thead>\n",
       "  <tbody>\n",
       "    <tr>\n",
       "      <th>0</th>\n",
       "      <td>0</td>\n",
       "      <td>0</td>\n",
       "      <td>0</td>\n",
       "      <td>0</td>\n",
       "      <td>0</td>\n",
       "      <td>0</td>\n",
       "      <td>0</td>\n",
       "      <td>0</td>\n",
       "      <td>0</td>\n",
       "      <td>0</td>\n",
       "      <td>...</td>\n",
       "      <td>0</td>\n",
       "      <td>0</td>\n",
       "      <td>0</td>\n",
       "      <td>0</td>\n",
       "      <td>0.000000</td>\n",
       "      <td>0.0</td>\n",
       "      <td>0.000000</td>\n",
       "      <td>0.000000</td>\n",
       "      <td>0.000000</td>\n",
       "      <td>0.000000</td>\n",
       "    </tr>\n",
       "    <tr>\n",
       "      <th>1</th>\n",
       "      <td>2</td>\n",
       "      <td>0</td>\n",
       "      <td>3</td>\n",
       "      <td>7</td>\n",
       "      <td>1</td>\n",
       "      <td>0</td>\n",
       "      <td>1</td>\n",
       "      <td>4</td>\n",
       "      <td>1</td>\n",
       "      <td>0</td>\n",
       "      <td>...</td>\n",
       "      <td>0</td>\n",
       "      <td>0</td>\n",
       "      <td>0</td>\n",
       "      <td>0</td>\n",
       "      <td>0.149071</td>\n",
       "      <td>0.0</td>\n",
       "      <td>0.102062</td>\n",
       "      <td>0.141421</td>\n",
       "      <td>0.084515</td>\n",
       "      <td>0.308607</td>\n",
       "    </tr>\n",
       "    <tr>\n",
       "      <th>2</th>\n",
       "      <td>0</td>\n",
       "      <td>0</td>\n",
       "      <td>0</td>\n",
       "      <td>0</td>\n",
       "      <td>0</td>\n",
       "      <td>0</td>\n",
       "      <td>0</td>\n",
       "      <td>0</td>\n",
       "      <td>0</td>\n",
       "      <td>0</td>\n",
       "      <td>...</td>\n",
       "      <td>0</td>\n",
       "      <td>0</td>\n",
       "      <td>0</td>\n",
       "      <td>0</td>\n",
       "      <td>0.000000</td>\n",
       "      <td>0.0</td>\n",
       "      <td>0.000000</td>\n",
       "      <td>0.000000</td>\n",
       "      <td>0.000000</td>\n",
       "      <td>0.000000</td>\n",
       "    </tr>\n",
       "    <tr>\n",
       "      <th>3</th>\n",
       "      <td>0</td>\n",
       "      <td>0</td>\n",
       "      <td>0</td>\n",
       "      <td>0</td>\n",
       "      <td>0</td>\n",
       "      <td>0</td>\n",
       "      <td>0</td>\n",
       "      <td>0</td>\n",
       "      <td>0</td>\n",
       "      <td>0</td>\n",
       "      <td>...</td>\n",
       "      <td>0</td>\n",
       "      <td>0</td>\n",
       "      <td>0</td>\n",
       "      <td>0</td>\n",
       "      <td>0.000000</td>\n",
       "      <td>0.0</td>\n",
       "      <td>0.000000</td>\n",
       "      <td>0.000000</td>\n",
       "      <td>0.000000</td>\n",
       "      <td>0.000000</td>\n",
       "    </tr>\n",
       "    <tr>\n",
       "      <th>4</th>\n",
       "      <td>1</td>\n",
       "      <td>0</td>\n",
       "      <td>1</td>\n",
       "      <td>3</td>\n",
       "      <td>0</td>\n",
       "      <td>0</td>\n",
       "      <td>0</td>\n",
       "      <td>0</td>\n",
       "      <td>1</td>\n",
       "      <td>0</td>\n",
       "      <td>...</td>\n",
       "      <td>0</td>\n",
       "      <td>0</td>\n",
       "      <td>0</td>\n",
       "      <td>0</td>\n",
       "      <td>0.235702</td>\n",
       "      <td>0.0</td>\n",
       "      <td>0.169031</td>\n",
       "      <td>0.000000</td>\n",
       "      <td>0.000000</td>\n",
       "      <td>0.000000</td>\n",
       "    </tr>\n",
       "  </tbody>\n",
       "</table>\n",
       "<p>5 rows × 24 columns</p>\n",
       "</div>"
      ],
      "text/plain": [
       "   shared_nouns  shared_verbs  shared_bigrams  shared_tokens  \\\n",
       "0             0             0               0              0   \n",
       "1             2             0               3              7   \n",
       "2             0             0               0              0   \n",
       "3             0             0               0              0   \n",
       "4             1             0               1              3   \n",
       "\n",
       "   shared_nouns_fst  shared_verbs_fst  shared_bigrams_fst  shared_tokens_fst  \\\n",
       "0                 0                 0                   0                  0   \n",
       "1                 1                 0                   1                  4   \n",
       "2                 0                 0                   0                  0   \n",
       "3                 0                 0                   0                  0   \n",
       "4                 0                 0                   0                  0   \n",
       "\n",
       "   shared_nouns_sig  shared_verbs_sig       ...        svo_o_fst  svo_s_sig  \\\n",
       "0                 0                 0       ...                0          0   \n",
       "1                 1                 0       ...                0          0   \n",
       "2                 0                 0       ...                0          0   \n",
       "3                 0                 0       ...                0          0   \n",
       "4                 1                 0       ...                0          0   \n",
       "\n",
       "   svo_v_sig  svo_o_sig  cos_nouns_sig  cos_bigrams_sig  cos_tokens_sig  \\\n",
       "0          0          0       0.000000              0.0        0.000000   \n",
       "1          0          0       0.149071              0.0        0.102062   \n",
       "2          0          0       0.000000              0.0        0.000000   \n",
       "3          0          0       0.000000              0.0        0.000000   \n",
       "4          0          0       0.235702              0.0        0.169031   \n",
       "\n",
       "   cos_nouns_fst  cos_bigrams_fst  cos_tokens_fst  \n",
       "0       0.000000         0.000000        0.000000  \n",
       "1       0.141421         0.084515        0.308607  \n",
       "2       0.000000         0.000000        0.000000  \n",
       "3       0.000000         0.000000        0.000000  \n",
       "4       0.000000         0.000000        0.000000  \n",
       "\n",
       "[5 rows x 24 columns]"
      ]
     },
     "execution_count": 22,
     "metadata": {},
     "output_type": "execute_result"
    }
   ],
   "source": [
    "train_df.head()"
   ]
  },
  {
   "cell_type": "code",
   "execution_count": 23,
   "metadata": {},
   "outputs": [
    {
     "data": {
      "text/html": [
       "<div>\n",
       "<style>\n",
       "    .dataframe thead tr:only-child th {\n",
       "        text-align: right;\n",
       "    }\n",
       "\n",
       "    .dataframe thead th {\n",
       "        text-align: left;\n",
       "    }\n",
       "\n",
       "    .dataframe tbody tr th {\n",
       "        vertical-align: top;\n",
       "    }\n",
       "</style>\n",
       "<table border=\"1\" class=\"dataframe\">\n",
       "  <thead>\n",
       "    <tr style=\"text-align: right;\">\n",
       "      <th></th>\n",
       "      <th>shared_nouns</th>\n",
       "      <th>shared_verbs</th>\n",
       "      <th>shared_bigrams</th>\n",
       "      <th>shared_tokens</th>\n",
       "      <th>shared_nouns_fst</th>\n",
       "      <th>shared_verbs_fst</th>\n",
       "      <th>shared_bigrams_fst</th>\n",
       "      <th>shared_tokens_fst</th>\n",
       "      <th>shared_nouns_sig</th>\n",
       "      <th>shared_verbs_sig</th>\n",
       "      <th>...</th>\n",
       "      <th>svo_s_sig</th>\n",
       "      <th>svo_v_sig</th>\n",
       "      <th>svo_o_sig</th>\n",
       "      <th>cos_nouns_sig</th>\n",
       "      <th>cos_bigrams_sig</th>\n",
       "      <th>cos_tokens_sig</th>\n",
       "      <th>cos_nouns_fst</th>\n",
       "      <th>cos_bigrams_fst</th>\n",
       "      <th>cos_tokens_fst</th>\n",
       "      <th>label</th>\n",
       "    </tr>\n",
       "  </thead>\n",
       "  <tbody>\n",
       "    <tr>\n",
       "      <th>0</th>\n",
       "      <td>0</td>\n",
       "      <td>0</td>\n",
       "      <td>0</td>\n",
       "      <td>0</td>\n",
       "      <td>0</td>\n",
       "      <td>0</td>\n",
       "      <td>0</td>\n",
       "      <td>0</td>\n",
       "      <td>0</td>\n",
       "      <td>0</td>\n",
       "      <td>...</td>\n",
       "      <td>0</td>\n",
       "      <td>0</td>\n",
       "      <td>0</td>\n",
       "      <td>0.000000</td>\n",
       "      <td>0.0</td>\n",
       "      <td>0.000000</td>\n",
       "      <td>0.000000</td>\n",
       "      <td>0.000000</td>\n",
       "      <td>0.000000</td>\n",
       "      <td>0</td>\n",
       "    </tr>\n",
       "    <tr>\n",
       "      <th>1</th>\n",
       "      <td>2</td>\n",
       "      <td>0</td>\n",
       "      <td>3</td>\n",
       "      <td>7</td>\n",
       "      <td>1</td>\n",
       "      <td>0</td>\n",
       "      <td>1</td>\n",
       "      <td>4</td>\n",
       "      <td>1</td>\n",
       "      <td>0</td>\n",
       "      <td>...</td>\n",
       "      <td>0</td>\n",
       "      <td>0</td>\n",
       "      <td>0</td>\n",
       "      <td>0.149071</td>\n",
       "      <td>0.0</td>\n",
       "      <td>0.102062</td>\n",
       "      <td>0.141421</td>\n",
       "      <td>0.084515</td>\n",
       "      <td>0.308607</td>\n",
       "      <td>1</td>\n",
       "    </tr>\n",
       "    <tr>\n",
       "      <th>2</th>\n",
       "      <td>0</td>\n",
       "      <td>0</td>\n",
       "      <td>0</td>\n",
       "      <td>0</td>\n",
       "      <td>0</td>\n",
       "      <td>0</td>\n",
       "      <td>0</td>\n",
       "      <td>0</td>\n",
       "      <td>0</td>\n",
       "      <td>0</td>\n",
       "      <td>...</td>\n",
       "      <td>0</td>\n",
       "      <td>0</td>\n",
       "      <td>0</td>\n",
       "      <td>0.000000</td>\n",
       "      <td>0.0</td>\n",
       "      <td>0.000000</td>\n",
       "      <td>0.000000</td>\n",
       "      <td>0.000000</td>\n",
       "      <td>0.000000</td>\n",
       "      <td>0</td>\n",
       "    </tr>\n",
       "    <tr>\n",
       "      <th>3</th>\n",
       "      <td>0</td>\n",
       "      <td>0</td>\n",
       "      <td>0</td>\n",
       "      <td>0</td>\n",
       "      <td>0</td>\n",
       "      <td>0</td>\n",
       "      <td>0</td>\n",
       "      <td>0</td>\n",
       "      <td>0</td>\n",
       "      <td>0</td>\n",
       "      <td>...</td>\n",
       "      <td>0</td>\n",
       "      <td>0</td>\n",
       "      <td>0</td>\n",
       "      <td>0.000000</td>\n",
       "      <td>0.0</td>\n",
       "      <td>0.000000</td>\n",
       "      <td>0.000000</td>\n",
       "      <td>0.000000</td>\n",
       "      <td>0.000000</td>\n",
       "      <td>0</td>\n",
       "    </tr>\n",
       "    <tr>\n",
       "      <th>4</th>\n",
       "      <td>1</td>\n",
       "      <td>0</td>\n",
       "      <td>1</td>\n",
       "      <td>3</td>\n",
       "      <td>0</td>\n",
       "      <td>0</td>\n",
       "      <td>0</td>\n",
       "      <td>0</td>\n",
       "      <td>1</td>\n",
       "      <td>0</td>\n",
       "      <td>...</td>\n",
       "      <td>0</td>\n",
       "      <td>0</td>\n",
       "      <td>0</td>\n",
       "      <td>0.235702</td>\n",
       "      <td>0.0</td>\n",
       "      <td>0.169031</td>\n",
       "      <td>0.000000</td>\n",
       "      <td>0.000000</td>\n",
       "      <td>0.000000</td>\n",
       "      <td>1</td>\n",
       "    </tr>\n",
       "  </tbody>\n",
       "</table>\n",
       "<p>5 rows × 25 columns</p>\n",
       "</div>"
      ],
      "text/plain": [
       "   shared_nouns  shared_verbs  shared_bigrams  shared_tokens  \\\n",
       "0             0             0               0              0   \n",
       "1             2             0               3              7   \n",
       "2             0             0               0              0   \n",
       "3             0             0               0              0   \n",
       "4             1             0               1              3   \n",
       "\n",
       "   shared_nouns_fst  shared_verbs_fst  shared_bigrams_fst  shared_tokens_fst  \\\n",
       "0                 0                 0                   0                  0   \n",
       "1                 1                 0                   1                  4   \n",
       "2                 0                 0                   0                  0   \n",
       "3                 0                 0                   0                  0   \n",
       "4                 0                 0                   0                  0   \n",
       "\n",
       "   shared_nouns_sig  shared_verbs_sig  ...    svo_s_sig  svo_v_sig  svo_o_sig  \\\n",
       "0                 0                 0  ...            0          0          0   \n",
       "1                 1                 0  ...            0          0          0   \n",
       "2                 0                 0  ...            0          0          0   \n",
       "3                 0                 0  ...            0          0          0   \n",
       "4                 1                 0  ...            0          0          0   \n",
       "\n",
       "   cos_nouns_sig  cos_bigrams_sig  cos_tokens_sig  cos_nouns_fst  \\\n",
       "0       0.000000              0.0        0.000000       0.000000   \n",
       "1       0.149071              0.0        0.102062       0.141421   \n",
       "2       0.000000              0.0        0.000000       0.000000   \n",
       "3       0.000000              0.0        0.000000       0.000000   \n",
       "4       0.235702              0.0        0.169031       0.000000   \n",
       "\n",
       "   cos_bigrams_fst  cos_tokens_fst  label  \n",
       "0         0.000000        0.000000      0  \n",
       "1         0.084515        0.308607      1  \n",
       "2         0.000000        0.000000      0  \n",
       "3         0.000000        0.000000      0  \n",
       "4         0.000000        0.000000      1  \n",
       "\n",
       "[5 rows x 25 columns]"
      ]
     },
     "execution_count": 23,
     "metadata": {},
     "output_type": "execute_result"
    }
   ],
   "source": [
    "train_df['label'] = [0 if x == \"unrelated\" else 1 for x in list(stances_tr['Stance'])]\n",
    "val_df['label'] = [0 if x == \"unrelated\" else 1 for x in list(stances_val['Stance'])]\n",
    "train_df.head()"
   ]
  },
  {
   "cell_type": "code",
   "execution_count": 24,
   "metadata": {},
   "outputs": [
    {
     "name": "stderr",
     "output_type": "stream",
     "text": [
      "/Users/dannyyang/Library/Python/3.6/lib/python/site-packages/sklearn/utils/validation.py:444: DataConversionWarning: Data with input dtype int64 was converted to float64 by StandardScaler.\n",
      "  warnings.warn(msg, DataConversionWarning)\n"
     ]
    },
    {
     "data": {
      "text/html": [
       "<div>\n",
       "<style>\n",
       "    .dataframe thead tr:only-child th {\n",
       "        text-align: right;\n",
       "    }\n",
       "\n",
       "    .dataframe thead th {\n",
       "        text-align: left;\n",
       "    }\n",
       "\n",
       "    .dataframe tbody tr th {\n",
       "        vertical-align: top;\n",
       "    }\n",
       "</style>\n",
       "<table border=\"1\" class=\"dataframe\">\n",
       "  <thead>\n",
       "    <tr style=\"text-align: right;\">\n",
       "      <th></th>\n",
       "      <th>shared_nouns</th>\n",
       "      <th>shared_verbs</th>\n",
       "      <th>shared_bigrams</th>\n",
       "      <th>shared_tokens</th>\n",
       "      <th>shared_nouns_fst</th>\n",
       "      <th>shared_verbs_fst</th>\n",
       "      <th>shared_bigrams_fst</th>\n",
       "      <th>shared_tokens_fst</th>\n",
       "      <th>shared_nouns_sig</th>\n",
       "      <th>shared_verbs_sig</th>\n",
       "      <th>...</th>\n",
       "      <th>svo_s_sig</th>\n",
       "      <th>svo_v_sig</th>\n",
       "      <th>svo_o_sig</th>\n",
       "      <th>cos_nouns_sig</th>\n",
       "      <th>cos_bigrams_sig</th>\n",
       "      <th>cos_tokens_sig</th>\n",
       "      <th>cos_nouns_fst</th>\n",
       "      <th>cos_bigrams_fst</th>\n",
       "      <th>cos_tokens_fst</th>\n",
       "      <th>label</th>\n",
       "    </tr>\n",
       "  </thead>\n",
       "  <tbody>\n",
       "    <tr>\n",
       "      <th>0</th>\n",
       "      <td>-0.400188</td>\n",
       "      <td>-0.215957</td>\n",
       "      <td>-0.424878</td>\n",
       "      <td>-0.754443</td>\n",
       "      <td>-0.500947</td>\n",
       "      <td>-0.269628</td>\n",
       "      <td>-0.348504</td>\n",
       "      <td>-0.549814</td>\n",
       "      <td>-0.372309</td>\n",
       "      <td>-0.166528</td>\n",
       "      <td>...</td>\n",
       "      <td>-0.256629</td>\n",
       "      <td>-0.105313</td>\n",
       "      <td>-0.170121</td>\n",
       "      <td>-0.321283</td>\n",
       "      <td>-0.226457</td>\n",
       "      <td>-0.444654</td>\n",
       "      <td>-0.458692</td>\n",
       "      <td>-0.209522</td>\n",
       "      <td>-0.548374</td>\n",
       "      <td>0</td>\n",
       "    </tr>\n",
       "    <tr>\n",
       "      <th>1</th>\n",
       "      <td>2.754017</td>\n",
       "      <td>-0.215957</td>\n",
       "      <td>2.248129</td>\n",
       "      <td>1.955163</td>\n",
       "      <td>0.492202</td>\n",
       "      <td>-0.269628</td>\n",
       "      <td>0.907262</td>\n",
       "      <td>1.737128</td>\n",
       "      <td>1.096530</td>\n",
       "      <td>-0.166528</td>\n",
       "      <td>...</td>\n",
       "      <td>-0.256629</td>\n",
       "      <td>-0.105313</td>\n",
       "      <td>-0.170121</td>\n",
       "      <td>0.739632</td>\n",
       "      <td>-0.226457</td>\n",
       "      <td>0.502810</td>\n",
       "      <td>0.388206</td>\n",
       "      <td>0.646142</td>\n",
       "      <td>1.538661</td>\n",
       "      <td>1</td>\n",
       "    </tr>\n",
       "    <tr>\n",
       "      <th>2</th>\n",
       "      <td>-0.400188</td>\n",
       "      <td>-0.215957</td>\n",
       "      <td>-0.424878</td>\n",
       "      <td>-0.754443</td>\n",
       "      <td>-0.500947</td>\n",
       "      <td>-0.269628</td>\n",
       "      <td>-0.348504</td>\n",
       "      <td>-0.549814</td>\n",
       "      <td>-0.372309</td>\n",
       "      <td>-0.166528</td>\n",
       "      <td>...</td>\n",
       "      <td>-0.256629</td>\n",
       "      <td>-0.105313</td>\n",
       "      <td>-0.170121</td>\n",
       "      <td>-0.321283</td>\n",
       "      <td>-0.226457</td>\n",
       "      <td>-0.444654</td>\n",
       "      <td>-0.458692</td>\n",
       "      <td>-0.209522</td>\n",
       "      <td>-0.548374</td>\n",
       "      <td>0</td>\n",
       "    </tr>\n",
       "    <tr>\n",
       "      <th>3</th>\n",
       "      <td>-0.400188</td>\n",
       "      <td>-0.215957</td>\n",
       "      <td>-0.424878</td>\n",
       "      <td>-0.754443</td>\n",
       "      <td>-0.500947</td>\n",
       "      <td>-0.269628</td>\n",
       "      <td>-0.348504</td>\n",
       "      <td>-0.549814</td>\n",
       "      <td>-0.372309</td>\n",
       "      <td>-0.166528</td>\n",
       "      <td>...</td>\n",
       "      <td>-0.256629</td>\n",
       "      <td>-0.105313</td>\n",
       "      <td>-0.170121</td>\n",
       "      <td>-0.321283</td>\n",
       "      <td>-0.226457</td>\n",
       "      <td>-0.444654</td>\n",
       "      <td>-0.458692</td>\n",
       "      <td>-0.209522</td>\n",
       "      <td>-0.548374</td>\n",
       "      <td>0</td>\n",
       "    </tr>\n",
       "    <tr>\n",
       "      <th>4</th>\n",
       "      <td>1.176915</td>\n",
       "      <td>-0.215957</td>\n",
       "      <td>0.466124</td>\n",
       "      <td>0.406817</td>\n",
       "      <td>-0.500947</td>\n",
       "      <td>-0.269628</td>\n",
       "      <td>-0.348504</td>\n",
       "      <td>-0.549814</td>\n",
       "      <td>1.096530</td>\n",
       "      <td>-0.166528</td>\n",
       "      <td>...</td>\n",
       "      <td>-0.256629</td>\n",
       "      <td>-0.105313</td>\n",
       "      <td>-0.170121</td>\n",
       "      <td>1.356170</td>\n",
       "      <td>-0.226457</td>\n",
       "      <td>1.124495</td>\n",
       "      <td>-0.458692</td>\n",
       "      <td>-0.209522</td>\n",
       "      <td>-0.548374</td>\n",
       "      <td>1</td>\n",
       "    </tr>\n",
       "  </tbody>\n",
       "</table>\n",
       "<p>5 rows × 25 columns</p>\n",
       "</div>"
      ],
      "text/plain": [
       "   shared_nouns  shared_verbs  shared_bigrams  shared_tokens  \\\n",
       "0     -0.400188     -0.215957       -0.424878      -0.754443   \n",
       "1      2.754017     -0.215957        2.248129       1.955163   \n",
       "2     -0.400188     -0.215957       -0.424878      -0.754443   \n",
       "3     -0.400188     -0.215957       -0.424878      -0.754443   \n",
       "4      1.176915     -0.215957        0.466124       0.406817   \n",
       "\n",
       "   shared_nouns_fst  shared_verbs_fst  shared_bigrams_fst  shared_tokens_fst  \\\n",
       "0         -0.500947         -0.269628           -0.348504          -0.549814   \n",
       "1          0.492202         -0.269628            0.907262           1.737128   \n",
       "2         -0.500947         -0.269628           -0.348504          -0.549814   \n",
       "3         -0.500947         -0.269628           -0.348504          -0.549814   \n",
       "4         -0.500947         -0.269628           -0.348504          -0.549814   \n",
       "\n",
       "   shared_nouns_sig  shared_verbs_sig  ...    svo_s_sig  svo_v_sig  svo_o_sig  \\\n",
       "0         -0.372309         -0.166528  ...    -0.256629  -0.105313  -0.170121   \n",
       "1          1.096530         -0.166528  ...    -0.256629  -0.105313  -0.170121   \n",
       "2         -0.372309         -0.166528  ...    -0.256629  -0.105313  -0.170121   \n",
       "3         -0.372309         -0.166528  ...    -0.256629  -0.105313  -0.170121   \n",
       "4          1.096530         -0.166528  ...    -0.256629  -0.105313  -0.170121   \n",
       "\n",
       "   cos_nouns_sig  cos_bigrams_sig  cos_tokens_sig  cos_nouns_fst  \\\n",
       "0      -0.321283        -0.226457       -0.444654      -0.458692   \n",
       "1       0.739632        -0.226457        0.502810       0.388206   \n",
       "2      -0.321283        -0.226457       -0.444654      -0.458692   \n",
       "3      -0.321283        -0.226457       -0.444654      -0.458692   \n",
       "4       1.356170        -0.226457        1.124495      -0.458692   \n",
       "\n",
       "   cos_bigrams_fst  cos_tokens_fst  label  \n",
       "0        -0.209522       -0.548374      0  \n",
       "1         0.646142        1.538661      1  \n",
       "2        -0.209522       -0.548374      0  \n",
       "3        -0.209522       -0.548374      0  \n",
       "4        -0.209522       -0.548374      1  \n",
       "\n",
       "[5 rows x 25 columns]"
      ]
     },
     "execution_count": 24,
     "metadata": {},
     "output_type": "execute_result"
    }
   ],
   "source": [
    "scaler = StandardScaler()\n",
    "\n",
    "for i in feats_list:\n",
    "    train_df[i] = scaler.fit_transform(train_df[i].values.reshape(-1,1))\n",
    "    val_df[i] = scaler.fit_transform(val_df[i].values.reshape(-1,1))\n",
    "train_df.head()"
   ]
  },
  {
   "cell_type": "code",
   "execution_count": 25,
   "metadata": {},
   "outputs": [
    {
     "data": {
      "text/plain": [
       "LogisticRegression(C=1.0, class_weight=None, dual=False, fit_intercept=True,\n",
       "          intercept_scaling=1, max_iter=100, multi_class='ovr', n_jobs=1,\n",
       "          penalty='l2', random_state=None, solver='liblinear', tol=0.0001,\n",
       "          verbose=0, warm_start=False)"
      ]
     },
     "execution_count": 25,
     "metadata": {},
     "output_type": "execute_result"
    }
   ],
   "source": [
    "from sklearn.linear_model import LogisticRegression, RidgeClassifier, Lasso\n",
    "from sklearn.ensemble import RandomForestClassifier\n",
    "#adjust params as you see fit\n",
    "model = RandomForestClassifier(n_estimators = 100, min_samples_split = 10, min_samples_leaf = 5, max_depth = 6)\n",
    "model2 = LogisticRegression()\n",
    "model.fit(train_df.iloc[:,:-1], train_df.iloc[:,-1])\n",
    "model2.fit(train_df.iloc[:,:-1], train_df.iloc[:,-1])"
   ]
  },
  {
   "cell_type": "code",
   "execution_count": 26,
   "metadata": {},
   "outputs": [
    {
     "name": "stdout",
     "output_type": "stream",
     "text": [
      "96.16% training accuracy\n",
      "96.65% validation accuracy\n",
      "95.98% training accuracy\n",
      "96.56% validation accuracy\n"
     ]
    }
   ],
   "source": [
    "tr_acc = model.score(train_df.iloc[:,:-1], train_df.iloc[:,-1].values.reshape(-1))\n",
    "print('{0:.2f}% training accuracy'.format(tr_acc*100))\n",
    "val_acc = model.score(val_df.iloc[:,:-1], val_df.iloc[:,-1].values.reshape(-1))\n",
    "print('{0:.2f}% validation accuracy'.format(val_acc*100))\n",
    "\n",
    "tr_acc = model2.score(train_df.iloc[:,:-1], train_df.iloc[:,-1].values.reshape(-1))\n",
    "print('{0:.2f}% training accuracy'.format(tr_acc*100))\n",
    "val_acc = model2.score(val_df.iloc[:,:-1], val_df.iloc[:,-1].values.reshape(-1))\n",
    "print('{0:.2f}% validation accuracy'.format(val_acc*100))"
   ]
  },
  {
   "cell_type": "code",
   "execution_count": 27,
   "metadata": {},
   "outputs": [
    {
     "data": {
      "text/plain": [
       "[('shared_nouns', 0.5209054105048991),\n",
       " ('shared_verbs', 0.13423914145003127),\n",
       " ('shared_bigrams', 0.7809646828246384),\n",
       " ('shared_tokens', 2.381956742274058),\n",
       " ('shared_nouns_fst', -0.29535464373423836),\n",
       " ('shared_verbs_fst', -0.09029459945612223),\n",
       " ('shared_bigrams_fst', -0.5584394366191487),\n",
       " ('shared_tokens_fst', 0.2815951795217467),\n",
       " ('shared_nouns_sig', -0.049700057202299634),\n",
       " ('shared_verbs_sig', -0.07450586160217255),\n",
       " ('shared_bigrams_sig', 0.048972520919312514),\n",
       " ('shared_tokens_sig', -1.0681694459982387),\n",
       " ('svo_s_fst', 0.06292440227933932),\n",
       " ('svo_v_fst', -0.05024373540386845),\n",
       " ('svo_o_fst', 0.25311971951391365),\n",
       " ('svo_s_sig', -0.005999660317318077),\n",
       " ('svo_v_sig', -0.013307467122898972),\n",
       " ('svo_o_sig', 0.13895121577079284),\n",
       " ('cos_nouns_sig', 0.029556390113521076),\n",
       " ('cos_bigrams_sig', -0.7074126488550421),\n",
       " ('cos_tokens_sig', 1.9108824674112848),\n",
       " ('cos_nouns_fst', -0.10359649365217992),\n",
       " ('cos_bigrams_fst', -0.3258046967656622),\n",
       " ('cos_tokens_fst', 2.1772876181410483)]"
      ]
     },
     "execution_count": 27,
     "metadata": {},
     "output_type": "execute_result"
    }
   ],
   "source": [
    "# get coefficients - logistic\n",
    "[(feats_list[i],model2.coef_[0][i]) for i in list(range(len(feats_list)))]\n",
    "\n",
    "#coefficients - lasso\n",
    "#model.coef_"
   ]
  },
  {
   "cell_type": "code",
   "execution_count": 28,
   "metadata": {
    "collapsed": true
   },
   "outputs": [],
   "source": [
    "# #usage example for json dump\n",
    "utils.rf_json_dump(model, list(train_df.iloc[:,:-1]), \"test_rf_dump.json\")"
   ]
  },
  {
   "cell_type": "code",
   "execution_count": 29,
   "metadata": {
    "collapsed": true
   },
   "outputs": [],
   "source": [
    "#dump validation data to CSV\n",
    "val_df.to_csv('test_val_dump.csv')"
   ]
  },
  {
   "cell_type": "code",
   "execution_count": 35,
   "metadata": {},
   "outputs": [],
   "source": [
    "def score_model(predictions):\n",
    "    true_label = [(1 if x[-1] == \"discuss\" else 0) for x in stances_val.values]\n",
    "    matrix = confusion_matrix(true_label,predictions)\n",
    "    print('confusion matrix: \\n{}\\n'.format(matrix))\n",
    "    #use FNC scorer to generate score report\n",
    "    label_prediction = [(\"discuss\" if x == 1 else \"unrelated\") for x in predictions]\n",
    "    label_actual = pd.DataFrame(stances_val)['Stance']\n",
    "    score.report_score(label_actual, label_prediction)"
   ]
  },
  {
   "cell_type": "code",
   "execution_count": 36,
   "metadata": {},
   "outputs": [
    {
     "name": "stdout",
     "output_type": "stream",
     "text": [
      "confusion matrix: \n",
      "[[7548  963]\n",
      " [ 144 1569]]\n",
      "\n",
      "-------------------------------------------------------------\n",
      "|           |   agree   | disagree  |  discuss  | unrelated |\n",
      "-------------------------------------------------------------\n",
      "|   agree   |     0     |     0     |    692    |    52     |\n",
      "-------------------------------------------------------------\n",
      "| disagree  |     0     |     0     |    134    |    10     |\n",
      "-------------------------------------------------------------\n",
      "|  discuss  |     0     |     0     |   1569    |    144    |\n",
      "-------------------------------------------------------------\n",
      "| unrelated |     0     |     0     |    137    |   7486    |\n",
      "-------------------------------------------------------------\n",
      "Score: 3647.0 out of 4506.75\t(80.92305985466245%)\n"
     ]
    }
   ],
   "source": [
    "true_label = val_df.iloc[:,-1]\n",
    "prediction = model.predict(val_df.iloc[:,:-1])\n",
    "score_model(prediction)"
   ]
  },
  {
   "cell_type": "code",
   "execution_count": 38,
   "metadata": {},
   "outputs": [
    {
     "data": {
      "text/plain": [
       "['rf_trained.joblib']"
      ]
     },
     "execution_count": 38,
     "metadata": {},
     "output_type": "execute_result"
    }
   ],
   "source": [
    "from joblib import dump, load\n",
    "dump(model, 'rf_trained.joblib')"
   ]
  },
  {
   "cell_type": "code",
   "execution_count": 39,
   "metadata": {
    "collapsed": true
   },
   "outputs": [],
   "source": [
    "import json\n",
    "with open('idf_training.json', \"w\") as outfile: \n",
    "    json.dump(idf, outfile)"
   ]
  },
  {
   "cell_type": "code",
   "execution_count": null,
   "metadata": {
    "collapsed": true
   },
   "outputs": [],
   "source": []
  }
 ],
 "metadata": {
  "kernelspec": {
   "display_name": "Python 3",
   "language": "python",
   "name": "python3"
  },
  "language_info": {
   "codemirror_mode": {
    "name": "ipython",
    "version": 3
   },
   "file_extension": ".py",
   "mimetype": "text/x-python",
   "name": "python",
   "nbconvert_exporter": "python",
   "pygments_lexer": "ipython3",
   "version": "3.6.0"
  }
 },
 "nbformat": 4,
 "nbformat_minor": 2
}
